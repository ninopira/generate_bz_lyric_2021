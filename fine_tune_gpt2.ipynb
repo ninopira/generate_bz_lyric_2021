{
  "nbformat": 4,
  "nbformat_minor": 0,
  "metadata": {
    "colab": {
      "name": "fine_tune_gpt2.ipynb",
      "provenance": [],
      "collapsed_sections": [],
      "machine_shape": "hm",
      "mount_file_id": "1aAUn_aI1GUUYX89YEszQjahqA-GZkp1t",
      "authorship_tag": "ABX9TyMyb5O9Dst2YRZTAvAwQU8W"
    },
    "kernelspec": {
      "name": "python3",
      "display_name": "Python 3"
    },
    "language_info": {
      "name": "python"
    },
    "accelerator": "GPU"
  },
  "cells": [
    {
      "cell_type": "code",
      "metadata": {
        "colab": {
          "base_uri": "https://localhost:8080/"
        },
        "id": "0e32NE8dsVau",
        "outputId": "2b39c698-9f33-4581-a94d-f74b368020bd"
      },
      "source": [
        "! git clone https://github.com/huggingface/transformers.git > /dev/null"
      ],
      "execution_count": 1,
      "outputs": [
        {
          "output_type": "stream",
          "text": [
            "Cloning into 'transformers'...\n",
            "remote: Enumerating objects: 73567, done.\u001b[K\n",
            "remote: Total 73567 (delta 0), reused 0 (delta 0), pack-reused 73567\u001b[K\n",
            "Receiving objects: 100% (73567/73567), 56.38 MiB | 32.51 MiB/s, done.\n",
            "Resolving deltas: 100% (52336/52336), done.\n"
          ],
          "name": "stdout"
        }
      ]
    },
    {
      "cell_type": "code",
      "metadata": {
        "colab": {
          "base_uri": "https://localhost:8080/"
        },
        "id": "crTQkBCJ46UL",
        "outputId": "408b0808-dafe-4bfb-e0bf-bb4da8c3b7d7"
      },
      "source": [
        "! pip install -e transformers/ "
      ],
      "execution_count": 5,
      "outputs": [
        {
          "output_type": "stream",
          "text": [
            "Obtaining file:///content/transformers\n",
            "  Installing build dependencies ... \u001b[?25l\u001b[?25hdone\n",
            "  Getting requirements to build wheel ... \u001b[?25l\u001b[?25hdone\n",
            "    Preparing wheel metadata ... \u001b[?25l\u001b[?25hdone\n",
            "Requirement already satisfied: numpy>=1.17 in /usr/local/lib/python3.7/dist-packages (from transformers==4.7.0.dev0) (1.19.5)\n",
            "Requirement already satisfied: regex!=2019.12.17 in /usr/local/lib/python3.7/dist-packages (from transformers==4.7.0.dev0) (2019.12.20)\n",
            "Collecting sacremoses\n",
            "\u001b[?25l  Downloading https://files.pythonhosted.org/packages/75/ee/67241dc87f266093c533a2d4d3d69438e57d7a90abb216fa076e7d475d4a/sacremoses-0.0.45-py3-none-any.whl (895kB)\n",
            "\u001b[K     |████████████████████████████████| 901kB 7.0MB/s \n",
            "\u001b[?25hRequirement already satisfied: requests in /usr/local/lib/python3.7/dist-packages (from transformers==4.7.0.dev0) (2.23.0)\n",
            "Requirement already satisfied: importlib-metadata; python_version < \"3.8\" in /usr/local/lib/python3.7/dist-packages (from transformers==4.7.0.dev0) (4.0.1)\n",
            "Collecting tokenizers<0.11,>=0.10.1\n",
            "\u001b[?25l  Downloading https://files.pythonhosted.org/packages/d4/e2/df3543e8ffdab68f5acc73f613de9c2b155ac47f162e725dcac87c521c11/tokenizers-0.10.3-cp37-cp37m-manylinux_2_5_x86_64.manylinux1_x86_64.manylinux_2_12_x86_64.manylinux2010_x86_64.whl (3.3MB)\n",
            "\u001b[K     |████████████████████████████████| 3.3MB 15.7MB/s \n",
            "\u001b[?25hCollecting huggingface-hub==0.0.8\n",
            "  Downloading https://files.pythonhosted.org/packages/a1/88/7b1e45720ecf59c6c6737ff332f41c955963090a18e72acbcbeac6b25e86/huggingface_hub-0.0.8-py3-none-any.whl\n",
            "Requirement already satisfied: tqdm>=4.27 in /usr/local/lib/python3.7/dist-packages (from transformers==4.7.0.dev0) (4.41.1)\n",
            "Requirement already satisfied: filelock in /usr/local/lib/python3.7/dist-packages (from transformers==4.7.0.dev0) (3.0.12)\n",
            "Requirement already satisfied: packaging in /usr/local/lib/python3.7/dist-packages (from transformers==4.7.0.dev0) (20.9)\n",
            "Requirement already satisfied: click in /usr/local/lib/python3.7/dist-packages (from sacremoses->transformers==4.7.0.dev0) (7.1.2)\n",
            "Requirement already satisfied: six in /usr/local/lib/python3.7/dist-packages (from sacremoses->transformers==4.7.0.dev0) (1.15.0)\n",
            "Requirement already satisfied: joblib in /usr/local/lib/python3.7/dist-packages (from sacremoses->transformers==4.7.0.dev0) (1.0.1)\n",
            "Requirement already satisfied: idna<3,>=2.5 in /usr/local/lib/python3.7/dist-packages (from requests->transformers==4.7.0.dev0) (2.10)\n",
            "Requirement already satisfied: certifi>=2017.4.17 in /usr/local/lib/python3.7/dist-packages (from requests->transformers==4.7.0.dev0) (2020.12.5)\n",
            "Requirement already satisfied: chardet<4,>=3.0.2 in /usr/local/lib/python3.7/dist-packages (from requests->transformers==4.7.0.dev0) (3.0.4)\n",
            "Requirement already satisfied: urllib3!=1.25.0,!=1.25.1,<1.26,>=1.21.1 in /usr/local/lib/python3.7/dist-packages (from requests->transformers==4.7.0.dev0) (1.24.3)\n",
            "Requirement already satisfied: typing-extensions>=3.6.4; python_version < \"3.8\" in /usr/local/lib/python3.7/dist-packages (from importlib-metadata; python_version < \"3.8\"->transformers==4.7.0.dev0) (3.7.4.3)\n",
            "Requirement already satisfied: zipp>=0.5 in /usr/local/lib/python3.7/dist-packages (from importlib-metadata; python_version < \"3.8\"->transformers==4.7.0.dev0) (3.4.1)\n",
            "Requirement already satisfied: pyparsing>=2.0.2 in /usr/local/lib/python3.7/dist-packages (from packaging->transformers==4.7.0.dev0) (2.4.7)\n",
            "Installing collected packages: sacremoses, tokenizers, huggingface-hub, transformers\n",
            "  Running setup.py develop for transformers\n",
            "Successfully installed huggingface-hub-0.0.8 sacremoses-0.0.45 tokenizers-0.10.3 transformers\n"
          ],
          "name": "stdout"
        }
      ]
    },
    {
      "cell_type": "code",
      "metadata": {
        "id": "yvDTn9bqtmTI"
      },
      "source": [
        "! pip install datasets > /dev/null"
      ],
      "execution_count": 6,
      "outputs": []
    },
    {
      "cell_type": "code",
      "metadata": {
        "id": "23gPjyr9xkZE"
      },
      "source": [
        "import pandas as pd"
      ],
      "execution_count": 7,
      "outputs": []
    },
    {
      "cell_type": "code",
      "metadata": {
        "colab": {
          "base_uri": "https://localhost:8080/",
          "height": 306
        },
        "id": "asVNU-cCx14v",
        "outputId": "ef9de4f8-cab2-440b-d83a-08258ff68b1d"
      },
      "source": [
        "df = pd.read_csv('/content/drive/MyDrive/other/generate_bz_lyrics/df_all.csv')\n",
        "print(df.shape)\n",
        "df.head()"
      ],
      "execution_count": 8,
      "outputs": [
        {
          "output_type": "stream",
          "text": [
            "(347, 6)\n"
          ],
          "name": "stdout"
        },
        {
          "output_type": "execute_result",
          "data": {
            "text/html": [
              "<div>\n",
              "<style scoped>\n",
              "    .dataframe tbody tr th:only-of-type {\n",
              "        vertical-align: middle;\n",
              "    }\n",
              "\n",
              "    .dataframe tbody tr th {\n",
              "        vertical-align: top;\n",
              "    }\n",
              "\n",
              "    .dataframe thead th {\n",
              "        text-align: right;\n",
              "    }\n",
              "</style>\n",
              "<table border=\"1\" class=\"dataframe\">\n",
              "  <thead>\n",
              "    <tr style=\"text-align: right;\">\n",
              "      <th></th>\n",
              "      <th>URL</th>\n",
              "      <th>SongName</th>\n",
              "      <th>Artist</th>\n",
              "      <th>Lyricist</th>\n",
              "      <th>Composer</th>\n",
              "      <th>lyrics</th>\n",
              "    </tr>\n",
              "  </thead>\n",
              "  <tbody>\n",
              "    <tr>\n",
              "      <th>0</th>\n",
              "      <td>https://www.uta-net.com/song/54892/</td>\n",
              "      <td>I WANNA DANCE Wicked Beat Style</td>\n",
              "      <td>B'z</td>\n",
              "      <td>Kohshi Inaba</td>\n",
              "      <td>Takahiro Matsumoto</td>\n",
              "      <td>Crush! Crush! Taxi on a busy neon streetGive m...</td>\n",
              "    </tr>\n",
              "    <tr>\n",
              "      <th>1</th>\n",
              "      <td>https://www.uta-net.com/song/7938/</td>\n",
              "      <td>あいかわらずなボクら</td>\n",
              "      <td>B'z</td>\n",
              "      <td>稲葉浩志</td>\n",
              "      <td>松本孝弘</td>\n",
              "      <td>今まで好きなこともしたし たまに我慢もしてきた「あいつはダメだ」 なんてキミ勝手に決めないで...</td>\n",
              "    </tr>\n",
              "    <tr>\n",
              "      <th>2</th>\n",
              "      <td>https://www.uta-net.com/song/17979/</td>\n",
              "      <td>愛と憎しみのハジマリ</td>\n",
              "      <td>B'z</td>\n",
              "      <td>KOSHI INABA</td>\n",
              "      <td>TAK MATSUMOTO</td>\n",
              "      <td>誰もが愛する者　守ろうとしてる頃　憎しみがスキをうかがう大破綻の雰囲気が世界中を取り巻いて朝...</td>\n",
              "    </tr>\n",
              "    <tr>\n",
              "      <th>3</th>\n",
              "      <td>https://www.uta-net.com/song/25415/</td>\n",
              "      <td>愛のバクダン</td>\n",
              "      <td>B'z</td>\n",
              "      <td>稲葉浩志</td>\n",
              "      <td>松本孝弘</td>\n",
              "      <td>今日も一日　不完全な世界きみが泣かなくても　誰か泣く人がこしらえた　悲しみのからくりなんとか...</td>\n",
              "    </tr>\n",
              "    <tr>\n",
              "      <th>4</th>\n",
              "      <td>https://www.uta-net.com/song/26049/</td>\n",
              "      <td>愛のprisoner</td>\n",
              "      <td>B'z</td>\n",
              "      <td>KOSHI INABA</td>\n",
              "      <td>TAK MATSUMOTO</td>\n",
              "      <td>I hate you, hate you　こらえきれずに夜の闇に吠える　涙流さないあなたのど...</td>\n",
              "    </tr>\n",
              "  </tbody>\n",
              "</table>\n",
              "</div>"
            ],
            "text/plain": [
              "                                   URL  ...                                             lyrics\n",
              "0  https://www.uta-net.com/song/54892/  ...  Crush! Crush! Taxi on a busy neon streetGive m...\n",
              "1   https://www.uta-net.com/song/7938/  ...  今まで好きなこともしたし たまに我慢もしてきた「あいつはダメだ」 なんてキミ勝手に決めないで...\n",
              "2  https://www.uta-net.com/song/17979/  ...  誰もが愛する者　守ろうとしてる頃　憎しみがスキをうかがう大破綻の雰囲気が世界中を取り巻いて朝...\n",
              "3  https://www.uta-net.com/song/25415/  ...  今日も一日　不完全な世界きみが泣かなくても　誰か泣く人がこしらえた　悲しみのからくりなんとか...\n",
              "4  https://www.uta-net.com/song/26049/  ...  I hate you, hate you　こらえきれずに夜の闇に吠える　涙流さないあなたのど...\n",
              "\n",
              "[5 rows x 6 columns]"
            ]
          },
          "metadata": {
            "tags": []
          },
          "execution_count": 8
        }
      ]
    },
    {
      "cell_type": "code",
      "metadata": {
        "id": "hKlnQi6exy85"
      },
      "source": [
        "def remove_full_width_and_wow(text):\n",
        "    removed = text.replace('\\u3000', '')\n",
        "    removed = removed.replace('\\n', '')\n",
        "    removed = removed.replace('wow', '')\n",
        "    removed = removed.replace('NA', '')\n",
        "    return removed\n",
        "lyrics = df['lyrics']\n",
        "lyrics = [remove_full_width_and_wow(lyric) for lyric in lyrics]"
      ],
      "execution_count": 9,
      "outputs": []
    },
    {
      "cell_type": "code",
      "metadata": {
        "id": "d6B-zG1E2o4C"
      },
      "source": [
        "with open('/content/drive/MyDrive/other/generate_bz_lyrics/preprocessed.txt', mode='w') as f:\n",
        "    f.write('\\n\\n'.join(lyrics))"
      ],
      "execution_count": 10,
      "outputs": []
    },
    {
      "cell_type": "markdown",
      "metadata": {
        "id": "nSPjq7E-I7H9"
      },
      "source": [
        "重みの容量が膨大なため、driveに書き出すことを非推奨"
      ]
    },
    {
      "cell_type": "code",
      "metadata": {
        "colab": {
          "base_uri": "https://localhost:8080/"
        },
        "id": "fhe8B6oZtr51",
        "outputId": "aceb036d-96c8-4dda-eb04-f50adf3364d4"
      },
      "source": [
        "!python transformers/examples/pytorch/language-modeling/run_clm.py  \\\n",
        "    --output_dir='finetune_gpt2' \\\n",
        "    --model_type=gpt2 \\\n",
        "    --model_name_or_path=gpt2 \\\n",
        "    --do_train \\\n",
        "    --train_file='/content/drive/MyDrive/other/generate_bz_lyrics/preprocessed.txt' \\\n",
        "    --do_eval \\\n",
        "    --validation_file='/content/drive/MyDrive/other/generate_bz_lyrics/preprocessed.txt' \\\n",
        "    --per_device_train_batch_size=3 \\\n",
        "    --per_device_eval_batch_size=3 \\\n",
        "    --num_train_epochs=100 \\\n",
        "    --save_total_limit=3 \\\n",
        "    --overwrite_output_dir"
      ],
      "execution_count": 16,
      "outputs": [
        {
          "output_type": "stream",
          "text": [
            "2021-05-28 04:03:44.617506: I tensorflow/stream_executor/platform/default/dso_loader.cc:53] Successfully opened dynamic library libcudart.so.11.0\n",
            "05/28/2021 04:03:46 - WARNING - __main__ -   Process rank: -1, device: cuda:0, n_gpu: 1distributed training: False, 16-bits training: False\n",
            "05/28/2021 04:03:46 - INFO - __main__ -   Training/evaluation parameters TrainingArguments(output_dir=finetune_gpt2, overwrite_output_dir=True, do_train=True, do_eval=True, do_predict=False, evaluation_strategy=IntervalStrategy.NO, prediction_loss_only=False, per_device_train_batch_size=3, per_device_eval_batch_size=3, gradient_accumulation_steps=1, eval_accumulation_steps=None, learning_rate=5e-05, weight_decay=0.0, adam_beta1=0.9, adam_beta2=0.999, adam_epsilon=1e-08, max_grad_norm=1.0, num_train_epochs=100.0, max_steps=-1, lr_scheduler_type=SchedulerType.LINEAR, warmup_ratio=0.0, warmup_steps=0, logging_dir=runs/May28_04-03-46_a39fa63a1155, logging_strategy=IntervalStrategy.STEPS, logging_first_step=False, logging_steps=500, save_strategy=IntervalStrategy.STEPS, save_steps=500, save_total_limit=3, no_cuda=False, seed=42, fp16=False, fp16_opt_level=O1, fp16_backend=auto, fp16_full_eval=False, local_rank=-1, tpu_num_cores=None, tpu_metrics_debug=False, debug=[], dataloader_drop_last=False, eval_steps=500, dataloader_num_workers=0, past_index=-1, run_name=finetune_gpt2, disable_tqdm=False, remove_unused_columns=True, label_names=None, load_best_model_at_end=False, metric_for_best_model=None, greater_is_better=None, ignore_data_skip=False, sharded_ddp=[], deepspeed=None, label_smoothing_factor=0.0, adafactor=False, group_by_length=False, length_column_name=length, report_to=['tensorboard'], ddp_find_unused_parameters=None, dataloader_pin_memory=True, skip_memory_metrics=True, use_legacy_prediction_loop=False, push_to_hub=False, resume_from_checkpoint=None, log_on_each_node=True, _n_gpu=1, mp_parameters=)\n",
            "05/28/2021 04:03:46 - WARNING - datasets.builder -   Using custom data configuration default-46baf7d2e5a16b07\n",
            "05/28/2021 04:03:46 - WARNING - datasets.builder -   Reusing dataset text (/root/.cache/huggingface/datasets/text/default-46baf7d2e5a16b07/0.0.0/e16f44aa1b321ece1f87b07977cc5d70be93d69b20486d6dacd62e12cf25c9a5)\n",
            "[INFO|configuration_utils.py:517] 2021-05-28 04:03:46,888 >> loading configuration file https://huggingface.co/gpt2/resolve/main/config.json from cache at /root/.cache/huggingface/transformers/fc674cd6907b4c9e933cb42d67662436b89fa9540a1f40d7c919d0109289ad01.7d2e0efa5ca20cef4fb199382111e9d3ad96fd77b849e1d4bed13a66e1336f51\n",
            "[INFO|configuration_utils.py:553] 2021-05-28 04:03:46,889 >> Model config GPT2Config {\n",
            "  \"activation_function\": \"gelu_new\",\n",
            "  \"architectures\": [\n",
            "    \"GPT2LMHeadModel\"\n",
            "  ],\n",
            "  \"attn_pdrop\": 0.1,\n",
            "  \"bos_token_id\": 50256,\n",
            "  \"embd_pdrop\": 0.1,\n",
            "  \"eos_token_id\": 50256,\n",
            "  \"gradient_checkpointing\": false,\n",
            "  \"initializer_range\": 0.02,\n",
            "  \"layer_norm_epsilon\": 1e-05,\n",
            "  \"model_type\": \"gpt2\",\n",
            "  \"n_ctx\": 1024,\n",
            "  \"n_embd\": 768,\n",
            "  \"n_head\": 12,\n",
            "  \"n_inner\": null,\n",
            "  \"n_layer\": 12,\n",
            "  \"n_positions\": 1024,\n",
            "  \"resid_pdrop\": 0.1,\n",
            "  \"scale_attn_weights\": true,\n",
            "  \"summary_activation\": null,\n",
            "  \"summary_first_dropout\": 0.1,\n",
            "  \"summary_proj_to_labels\": true,\n",
            "  \"summary_type\": \"cls_index\",\n",
            "  \"summary_use_proj\": true,\n",
            "  \"task_specific_params\": {\n",
            "    \"text-generation\": {\n",
            "      \"do_sample\": true,\n",
            "      \"max_length\": 50\n",
            "    }\n",
            "  },\n",
            "  \"transformers_version\": \"4.7.0.dev0\",\n",
            "  \"use_cache\": true,\n",
            "  \"vocab_size\": 50257\n",
            "}\n",
            "\n",
            "[INFO|configuration_utils.py:517] 2021-05-28 04:03:47,023 >> loading configuration file https://huggingface.co/gpt2/resolve/main/config.json from cache at /root/.cache/huggingface/transformers/fc674cd6907b4c9e933cb42d67662436b89fa9540a1f40d7c919d0109289ad01.7d2e0efa5ca20cef4fb199382111e9d3ad96fd77b849e1d4bed13a66e1336f51\n",
            "[INFO|configuration_utils.py:553] 2021-05-28 04:03:47,023 >> Model config GPT2Config {\n",
            "  \"activation_function\": \"gelu_new\",\n",
            "  \"architectures\": [\n",
            "    \"GPT2LMHeadModel\"\n",
            "  ],\n",
            "  \"attn_pdrop\": 0.1,\n",
            "  \"bos_token_id\": 50256,\n",
            "  \"embd_pdrop\": 0.1,\n",
            "  \"eos_token_id\": 50256,\n",
            "  \"gradient_checkpointing\": false,\n",
            "  \"initializer_range\": 0.02,\n",
            "  \"layer_norm_epsilon\": 1e-05,\n",
            "  \"model_type\": \"gpt2\",\n",
            "  \"n_ctx\": 1024,\n",
            "  \"n_embd\": 768,\n",
            "  \"n_head\": 12,\n",
            "  \"n_inner\": null,\n",
            "  \"n_layer\": 12,\n",
            "  \"n_positions\": 1024,\n",
            "  \"resid_pdrop\": 0.1,\n",
            "  \"scale_attn_weights\": true,\n",
            "  \"summary_activation\": null,\n",
            "  \"summary_first_dropout\": 0.1,\n",
            "  \"summary_proj_to_labels\": true,\n",
            "  \"summary_type\": \"cls_index\",\n",
            "  \"summary_use_proj\": true,\n",
            "  \"task_specific_params\": {\n",
            "    \"text-generation\": {\n",
            "      \"do_sample\": true,\n",
            "      \"max_length\": 50\n",
            "    }\n",
            "  },\n",
            "  \"transformers_version\": \"4.7.0.dev0\",\n",
            "  \"use_cache\": true,\n",
            "  \"vocab_size\": 50257\n",
            "}\n",
            "\n",
            "[INFO|tokenization_utils_base.py:1717] 2021-05-28 04:03:47,822 >> loading file https://huggingface.co/gpt2/resolve/main/vocab.json from cache at /root/.cache/huggingface/transformers/684fe667923972fb57f6b4dcb61a3c92763ad89882f3da5da9866baf14f2d60f.c7ed1f96aac49e745788faa77ba0a26a392643a50bb388b9c04ff469e555241f\n",
            "[INFO|tokenization_utils_base.py:1717] 2021-05-28 04:03:47,822 >> loading file https://huggingface.co/gpt2/resolve/main/merges.txt from cache at /root/.cache/huggingface/transformers/c0c761a63004025aeadd530c4c27b860ec4ecbe8a00531233de21d865a402598.5d12962c5ee615a4c803841266e9c3be9a691a924f72d395d3a6c6c81157788b\n",
            "[INFO|tokenization_utils_base.py:1717] 2021-05-28 04:03:47,822 >> loading file https://huggingface.co/gpt2/resolve/main/tokenizer.json from cache at /root/.cache/huggingface/transformers/16a2f78023c8dc511294f0c97b5e10fde3ef9889ad6d11ffaa2a00714e73926e.cf2d0ecb83b6df91b3dbb53f1d1e4c311578bfd3aa0e04934215a49bf9898df0\n",
            "[INFO|tokenization_utils_base.py:1717] 2021-05-28 04:03:47,822 >> loading file https://huggingface.co/gpt2/resolve/main/added_tokens.json from cache at None\n",
            "[INFO|tokenization_utils_base.py:1717] 2021-05-28 04:03:47,822 >> loading file https://huggingface.co/gpt2/resolve/main/special_tokens_map.json from cache at None\n",
            "[INFO|tokenization_utils_base.py:1717] 2021-05-28 04:03:47,822 >> loading file https://huggingface.co/gpt2/resolve/main/tokenizer_config.json from cache at None\n",
            "[INFO|modeling_utils.py:1155] 2021-05-28 04:03:48,019 >> loading weights file https://huggingface.co/gpt2/resolve/main/pytorch_model.bin from cache at /root/.cache/huggingface/transformers/752929ace039baa8ef70fe21cdf9ab9445773d20e733cf693d667982e210837e.323c769945a351daa25546176f8208b3004b6f563438a7603e7932bae9025925\n",
            "[INFO|modeling_utils.py:1339] 2021-05-28 04:03:50,029 >> All model checkpoint weights were used when initializing GPT2LMHeadModel.\n",
            "\n",
            "[INFO|modeling_utils.py:1348] 2021-05-28 04:03:50,030 >> All the weights of GPT2LMHeadModel were initialized from the model checkpoint at gpt2.\n",
            "If your task is similar to the task the model of the checkpoint was trained on, you can already use GPT2LMHeadModel for predictions without further training.\n",
            "  0% 0/1 [00:00<?, ?ba/s][WARNING|tokenization_utils_base.py:3171] 2021-05-28 04:03:50,250 >> Token indices sequence length is longer than the specified maximum sequence length for this model (1030 > 1024). Running this sequence through the model will result in indexing errors\n",
            "[WARNING|run_clm.py:348] 2021-05-28 04:03:50,250 >> ^^^^^^^^^^^^^^^^ Please ignore the warning above - this long input will be chunked into smaller bits before being passed to the model.\n",
            "100% 1/1 [00:00<00:00,  4.73ba/s]\n",
            "100% 1/1 [00:00<00:00, 12.96ba/s]\n",
            "100% 1/1 [00:02<00:00,  2.12s/ba]\n",
            "100% 1/1 [00:02<00:00,  2.10s/ba]\n",
            "[INFO|trainer.py:1148] 2021-05-28 04:03:57,808 >> ***** Running training *****\n",
            "[INFO|trainer.py:1149] 2021-05-28 04:03:57,808 >>   Num examples = 174\n",
            "[INFO|trainer.py:1150] 2021-05-28 04:03:57,808 >>   Num Epochs = 100\n",
            "[INFO|trainer.py:1151] 2021-05-28 04:03:57,808 >>   Instantaneous batch size per device = 3\n",
            "[INFO|trainer.py:1152] 2021-05-28 04:03:57,808 >>   Total train batch size (w. parallel, distributed & accumulation) = 3\n",
            "[INFO|trainer.py:1153] 2021-05-28 04:03:57,808 >>   Gradient Accumulation steps = 1\n",
            "[INFO|trainer.py:1154] 2021-05-28 04:03:57,808 >>   Total optimization steps = 5800\n",
            "{'loss': 2.5233, 'learning_rate': 4.5689655172413794e-05, 'epoch': 8.62}\n",
            "  9% 500/5800 [05:01<53:28,  1.65it/s][INFO|trainer.py:1884] 2021-05-28 04:08:59,645 >> Saving model checkpoint to finetune_gpt2/checkpoint-500\n",
            "[INFO|configuration_utils.py:351] 2021-05-28 04:08:59,646 >> Configuration saved in finetune_gpt2/checkpoint-500/config.json\n",
            "[INFO|modeling_utils.py:889] 2021-05-28 04:09:00,853 >> Model weights saved in finetune_gpt2/checkpoint-500/pytorch_model.bin\n",
            "[INFO|tokenization_utils_base.py:1924] 2021-05-28 04:09:00,853 >> tokenizer config file saved in finetune_gpt2/checkpoint-500/tokenizer_config.json\n",
            "[INFO|tokenization_utils_base.py:1930] 2021-05-28 04:09:00,853 >> Special tokens file saved in finetune_gpt2/checkpoint-500/special_tokens_map.json\n",
            "{'loss': 2.085, 'learning_rate': 4.1379310344827587e-05, 'epoch': 17.24}\n",
            " 17% 1000/5800 [10:08<48:12,  1.66it/s][INFO|trainer.py:1884] 2021-05-28 04:14:05,977 >> Saving model checkpoint to finetune_gpt2/checkpoint-1000\n",
            "[INFO|configuration_utils.py:351] 2021-05-28 04:14:05,978 >> Configuration saved in finetune_gpt2/checkpoint-1000/config.json\n",
            "[INFO|modeling_utils.py:889] 2021-05-28 04:14:07,103 >> Model weights saved in finetune_gpt2/checkpoint-1000/pytorch_model.bin\n",
            "[INFO|tokenization_utils_base.py:1924] 2021-05-28 04:14:07,104 >> tokenizer config file saved in finetune_gpt2/checkpoint-1000/tokenizer_config.json\n",
            "[INFO|tokenization_utils_base.py:1930] 2021-05-28 04:14:07,104 >> Special tokens file saved in finetune_gpt2/checkpoint-1000/special_tokens_map.json\n",
            "{'loss': 1.7843, 'learning_rate': 3.7068965517241385e-05, 'epoch': 25.86}\n",
            " 26% 1500/5800 [15:14<43:25,  1.65it/s][INFO|trainer.py:1884] 2021-05-28 04:19:12,056 >> Saving model checkpoint to finetune_gpt2/checkpoint-1500\n",
            "[INFO|configuration_utils.py:351] 2021-05-28 04:19:12,057 >> Configuration saved in finetune_gpt2/checkpoint-1500/config.json\n",
            "[INFO|modeling_utils.py:889] 2021-05-28 04:19:13,276 >> Model weights saved in finetune_gpt2/checkpoint-1500/pytorch_model.bin\n",
            "[INFO|tokenization_utils_base.py:1924] 2021-05-28 04:19:13,276 >> tokenizer config file saved in finetune_gpt2/checkpoint-1500/tokenizer_config.json\n",
            "[INFO|tokenization_utils_base.py:1930] 2021-05-28 04:19:13,277 >> Special tokens file saved in finetune_gpt2/checkpoint-1500/special_tokens_map.json\n",
            "{'loss': 1.5333, 'learning_rate': 3.275862068965517e-05, 'epoch': 34.48}\n",
            " 34% 2000/5800 [20:20<38:08,  1.66it/s][INFO|trainer.py:1884] 2021-05-28 04:24:18,567 >> Saving model checkpoint to finetune_gpt2/checkpoint-2000\n",
            "[INFO|configuration_utils.py:351] 2021-05-28 04:24:18,568 >> Configuration saved in finetune_gpt2/checkpoint-2000/config.json\n",
            "[INFO|modeling_utils.py:889] 2021-05-28 04:24:19,860 >> Model weights saved in finetune_gpt2/checkpoint-2000/pytorch_model.bin\n",
            "[INFO|tokenization_utils_base.py:1924] 2021-05-28 04:24:19,861 >> tokenizer config file saved in finetune_gpt2/checkpoint-2000/tokenizer_config.json\n",
            "[INFO|tokenization_utils_base.py:1930] 2021-05-28 04:24:19,861 >> Special tokens file saved in finetune_gpt2/checkpoint-2000/special_tokens_map.json\n",
            "[INFO|trainer.py:1960] 2021-05-28 04:24:23,216 >> Deleting older checkpoint [finetune_gpt2/checkpoint-500] due to args.save_total_limit\n",
            "{'loss': 1.3169, 'learning_rate': 2.844827586206897e-05, 'epoch': 43.1}\n",
            " 43% 2500/5800 [25:27<33:12,  1.66it/s][INFO|trainer.py:1884] 2021-05-28 04:29:25,358 >> Saving model checkpoint to finetune_gpt2/checkpoint-2500\n",
            "[INFO|configuration_utils.py:351] 2021-05-28 04:29:25,359 >> Configuration saved in finetune_gpt2/checkpoint-2500/config.json\n",
            "[INFO|modeling_utils.py:889] 2021-05-28 04:29:26,617 >> Model weights saved in finetune_gpt2/checkpoint-2500/pytorch_model.bin\n",
            "[INFO|tokenization_utils_base.py:1924] 2021-05-28 04:29:26,618 >> tokenizer config file saved in finetune_gpt2/checkpoint-2500/tokenizer_config.json\n",
            "[INFO|tokenization_utils_base.py:1930] 2021-05-28 04:29:26,618 >> Special tokens file saved in finetune_gpt2/checkpoint-2500/special_tokens_map.json\n",
            "[INFO|trainer.py:1960] 2021-05-28 04:29:29,733 >> Deleting older checkpoint [finetune_gpt2/checkpoint-1000] due to args.save_total_limit\n",
            "{'loss': 1.1354, 'learning_rate': 2.413793103448276e-05, 'epoch': 51.72}\n",
            " 52% 3000/5800 [30:34<28:03,  1.66it/s][INFO|trainer.py:1884] 2021-05-28 04:34:31,878 >> Saving model checkpoint to finetune_gpt2/checkpoint-3000\n",
            "[INFO|configuration_utils.py:351] 2021-05-28 04:34:31,879 >> Configuration saved in finetune_gpt2/checkpoint-3000/config.json\n",
            "[INFO|modeling_utils.py:889] 2021-05-28 04:34:33,103 >> Model weights saved in finetune_gpt2/checkpoint-3000/pytorch_model.bin\n",
            "[INFO|tokenization_utils_base.py:1924] 2021-05-28 04:34:33,104 >> tokenizer config file saved in finetune_gpt2/checkpoint-3000/tokenizer_config.json\n",
            "[INFO|tokenization_utils_base.py:1930] 2021-05-28 04:34:33,104 >> Special tokens file saved in finetune_gpt2/checkpoint-3000/special_tokens_map.json\n",
            "[INFO|trainer.py:1960] 2021-05-28 04:34:36,523 >> Deleting older checkpoint [finetune_gpt2/checkpoint-1500] due to args.save_total_limit\n",
            "{'loss': 0.9897, 'learning_rate': 1.9827586206896554e-05, 'epoch': 60.34}\n",
            " 60% 3500/5800 [35:40<23:08,  1.66it/s][INFO|trainer.py:1884] 2021-05-28 04:39:38,766 >> Saving model checkpoint to finetune_gpt2/checkpoint-3500\n",
            "[INFO|configuration_utils.py:351] 2021-05-28 04:39:38,767 >> Configuration saved in finetune_gpt2/checkpoint-3500/config.json\n",
            "[INFO|modeling_utils.py:889] 2021-05-28 04:39:39,915 >> Model weights saved in finetune_gpt2/checkpoint-3500/pytorch_model.bin\n",
            "[INFO|tokenization_utils_base.py:1924] 2021-05-28 04:39:39,915 >> tokenizer config file saved in finetune_gpt2/checkpoint-3500/tokenizer_config.json\n",
            "[INFO|tokenization_utils_base.py:1930] 2021-05-28 04:39:39,915 >> Special tokens file saved in finetune_gpt2/checkpoint-3500/special_tokens_map.json\n",
            "[INFO|trainer.py:1960] 2021-05-28 04:39:43,183 >> Deleting older checkpoint [finetune_gpt2/checkpoint-2000] due to args.save_total_limit\n",
            "{'loss': 0.8794, 'learning_rate': 1.5517241379310346e-05, 'epoch': 68.97}\n",
            " 69% 4000/5800 [40:47<18:01,  1.66it/s][INFO|trainer.py:1884] 2021-05-28 04:44:45,425 >> Saving model checkpoint to finetune_gpt2/checkpoint-4000\n",
            "[INFO|configuration_utils.py:351] 2021-05-28 04:44:45,425 >> Configuration saved in finetune_gpt2/checkpoint-4000/config.json\n",
            "[INFO|modeling_utils.py:889] 2021-05-28 04:44:46,625 >> Model weights saved in finetune_gpt2/checkpoint-4000/pytorch_model.bin\n",
            "[INFO|tokenization_utils_base.py:1924] 2021-05-28 04:44:46,625 >> tokenizer config file saved in finetune_gpt2/checkpoint-4000/tokenizer_config.json\n",
            "[INFO|tokenization_utils_base.py:1930] 2021-05-28 04:44:46,626 >> Special tokens file saved in finetune_gpt2/checkpoint-4000/special_tokens_map.json\n",
            "[INFO|trainer.py:1960] 2021-05-28 04:44:50,068 >> Deleting older checkpoint [finetune_gpt2/checkpoint-2500] due to args.save_total_limit\n",
            "{'loss': 0.7918, 'learning_rate': 1.1206896551724138e-05, 'epoch': 77.59}\n",
            " 78% 4500/5800 [45:54<13:06,  1.65it/s][INFO|trainer.py:1884] 2021-05-28 04:49:52,265 >> Saving model checkpoint to finetune_gpt2/checkpoint-4500\n",
            "[INFO|configuration_utils.py:351] 2021-05-28 04:49:52,265 >> Configuration saved in finetune_gpt2/checkpoint-4500/config.json\n",
            "[INFO|modeling_utils.py:889] 2021-05-28 04:49:53,491 >> Model weights saved in finetune_gpt2/checkpoint-4500/pytorch_model.bin\n",
            "[INFO|tokenization_utils_base.py:1924] 2021-05-28 04:49:53,492 >> tokenizer config file saved in finetune_gpt2/checkpoint-4500/tokenizer_config.json\n",
            "[INFO|tokenization_utils_base.py:1930] 2021-05-28 04:49:53,492 >> Special tokens file saved in finetune_gpt2/checkpoint-4500/special_tokens_map.json\n",
            "[INFO|trainer.py:1960] 2021-05-28 04:49:56,873 >> Deleting older checkpoint [finetune_gpt2/checkpoint-3000] due to args.save_total_limit\n",
            "{'loss': 0.7342, 'learning_rate': 6.896551724137932e-06, 'epoch': 86.21}\n",
            " 86% 5000/5800 [51:01<08:04,  1.65it/s][INFO|trainer.py:1884] 2021-05-28 04:54:59,295 >> Saving model checkpoint to finetune_gpt2/checkpoint-5000\n",
            "[INFO|configuration_utils.py:351] 2021-05-28 04:54:59,295 >> Configuration saved in finetune_gpt2/checkpoint-5000/config.json\n",
            "[INFO|modeling_utils.py:889] 2021-05-28 04:55:00,336 >> Model weights saved in finetune_gpt2/checkpoint-5000/pytorch_model.bin\n",
            "[INFO|tokenization_utils_base.py:1924] 2021-05-28 04:55:00,337 >> tokenizer config file saved in finetune_gpt2/checkpoint-5000/tokenizer_config.json\n",
            "[INFO|tokenization_utils_base.py:1930] 2021-05-28 04:55:00,337 >> Special tokens file saved in finetune_gpt2/checkpoint-5000/special_tokens_map.json\n",
            "[INFO|trainer.py:1960] 2021-05-28 04:55:03,817 >> Deleting older checkpoint [finetune_gpt2/checkpoint-3500] due to args.save_total_limit\n",
            "{'loss': 0.6944, 'learning_rate': 2.586206896551724e-06, 'epoch': 94.83}\n",
            " 95% 5500/5800 [56:08<03:01,  1.65it/s][INFO|trainer.py:1884] 2021-05-28 05:00:06,155 >> Saving model checkpoint to finetune_gpt2/checkpoint-5500\n",
            "[INFO|configuration_utils.py:351] 2021-05-28 05:00:06,155 >> Configuration saved in finetune_gpt2/checkpoint-5500/config.json\n",
            "[INFO|modeling_utils.py:889] 2021-05-28 05:00:07,203 >> Model weights saved in finetune_gpt2/checkpoint-5500/pytorch_model.bin\n",
            "[INFO|tokenization_utils_base.py:1924] 2021-05-28 05:00:07,204 >> tokenizer config file saved in finetune_gpt2/checkpoint-5500/tokenizer_config.json\n",
            "[INFO|tokenization_utils_base.py:1930] 2021-05-28 05:00:07,204 >> Special tokens file saved in finetune_gpt2/checkpoint-5500/special_tokens_map.json\n",
            "[INFO|trainer.py:1960] 2021-05-28 05:00:10,620 >> Deleting older checkpoint [finetune_gpt2/checkpoint-4000] due to args.save_total_limit\n",
            "100% 5800/5800 [59:14<00:00,  1.65it/s][INFO|trainer.py:1344] 2021-05-28 05:03:12,101 >> \n",
            "\n",
            "Training completed. Do not forget to share your model on huggingface.co/models =)\n",
            "\n",
            "\n",
            "{'train_runtime': 3554.2925, 'train_samples_per_second': 4.895, 'train_steps_per_second': 1.632, 'epoch': 100.0}\n",
            "100% 5800/5800 [59:14<00:00,  1.63it/s]\n",
            "[INFO|trainer.py:1884] 2021-05-28 05:03:12,108 >> Saving model checkpoint to finetune_gpt2\n",
            "[INFO|configuration_utils.py:351] 2021-05-28 05:03:12,108 >> Configuration saved in finetune_gpt2/config.json\n",
            "[INFO|modeling_utils.py:889] 2021-05-28 05:03:13,142 >> Model weights saved in finetune_gpt2/pytorch_model.bin\n",
            "[INFO|tokenization_utils_base.py:1924] 2021-05-28 05:03:13,142 >> tokenizer config file saved in finetune_gpt2/tokenizer_config.json\n",
            "[INFO|tokenization_utils_base.py:1930] 2021-05-28 05:03:13,142 >> Special tokens file saved in finetune_gpt2/special_tokens_map.json\n",
            "[INFO|trainer_pt_utils.py:907] 2021-05-28 05:03:13,242 >> ***** train metrics *****\n",
            "[INFO|trainer_pt_utils.py:912] 2021-05-28 05:03:13,242 >>   epoch                    =      100.0\n",
            "[INFO|trainer_pt_utils.py:912] 2021-05-28 05:03:13,242 >>   train_runtime            = 0:59:14.29\n",
            "[INFO|trainer_pt_utils.py:912] 2021-05-28 05:03:13,242 >>   train_samples            =        174\n",
            "[INFO|trainer_pt_utils.py:912] 2021-05-28 05:03:13,242 >>   train_samples_per_second =      4.895\n",
            "[INFO|trainer_pt_utils.py:912] 2021-05-28 05:03:13,242 >>   train_steps_per_second   =      1.632\n",
            "05/28/2021 05:03:13 - INFO - __main__ -   *** Evaluate ***\n",
            "[INFO|trainer.py:2130] 2021-05-28 05:03:13,246 >> ***** Running Evaluation *****\n",
            "[INFO|trainer.py:2132] 2021-05-28 05:03:13,246 >>   Num examples = 174\n",
            "[INFO|trainer.py:2135] 2021-05-28 05:03:13,246 >>   Batch size = 3\n",
            "100% 58/58 [00:11<00:00,  4.99it/s]\n",
            "[INFO|trainer_pt_utils.py:907] 2021-05-28 05:03:24,885 >> ***** eval metrics *****\n",
            "[INFO|trainer_pt_utils.py:912] 2021-05-28 05:03:24,885 >>   epoch                   =      100.0\n",
            "[INFO|trainer_pt_utils.py:912] 2021-05-28 05:03:24,885 >>   eval_loss               =     0.2068\n",
            "[INFO|trainer_pt_utils.py:912] 2021-05-28 05:03:24,885 >>   eval_runtime            = 0:00:11.63\n",
            "[INFO|trainer_pt_utils.py:912] 2021-05-28 05:03:24,885 >>   eval_samples            =        174\n",
            "[INFO|trainer_pt_utils.py:912] 2021-05-28 05:03:24,885 >>   eval_samples_per_second =     14.952\n",
            "[INFO|trainer_pt_utils.py:912] 2021-05-28 05:03:24,885 >>   eval_steps_per_second   =      4.984\n",
            "[INFO|trainer_pt_utils.py:912] 2021-05-28 05:03:24,885 >>   perplexity              =     1.2297\n"
          ],
          "name": "stdout"
        }
      ]
    },
    {
      "cell_type": "code",
      "metadata": {
        "id": "qY564Q283O7q",
        "colab": {
          "base_uri": "https://localhost:8080/"
        },
        "outputId": "bd90ee40-19c2-44cb-a383-435403d69713"
      },
      "source": [
        "!python transformers/examples/pytorch/text-generation/run_generation.py \\\n",
        "    --model_type=gpt2 \\\n",
        "    --model_name_or_path='finetune_gpt2' \\\n",
        "    --prompt \"夏の日\" \\\n",
        "    --length=600 \\\n",
        "    --num_return_sequences=20"
      ],
      "execution_count": 18,
      "outputs": [
        {
          "output_type": "stream",
          "text": [
            "2021-05-28 06:50:17.549640: I tensorflow/stream_executor/platform/default/dso_loader.cc:53] Successfully opened dynamic library libcudart.so.11.0\n",
            "05/28/2021 06:50:18 - WARNING - __main__ -   device: cuda, n_gpu: 1, 16-bits training: False\n",
            "05/28/2021 06:50:23 - INFO - __main__ -   Namespace(device=device(type='cuda'), fp16=False, k=0, length=600, model_name_or_path='finetune_gpt2', model_type='gpt2', n_gpu=1, no_cuda=False, num_return_sequences=20, p=0.9, padding_text='', prefix='', prompt='夏の日', repetition_penalty=1.0, seed=42, stop_token=None, temperature=1.0, xlm_language='')\n",
            "Setting `pad_token_id` to `eos_token_id`:50256 for open-end generation.\n",
            "=== GENERATED SEQUENCE 1 ===\n",
            "夏の日にとこへとしない楽しい僕は長い夜も許してくれるような気がしたらどうするつもりが話せない泣かないでいるのに溢れてるまで忘れるまで踊らむ以上時間どこにだってYour Invitation君を開ければ失うまで忘れないまで踊らむ以上逢うまくいいで夢を見ただろう泣かないで思わずかないで笑ってるまで夜を開ければいいまで忘れないまで泣かないで忘れないまで忘れないまで忘れないまで踊らむ以上逢うまくいいで夢を見ただろう思わずかないで笑ってるまで夜を開ければいいまで忘れないまで忘れないまで泣かないで何もわからないで愛しあってるまで忘れないまで泣かないで何もわからないで愛しあってるまで忘れないまで泣かないで夢を見ただろう泣かないで思わずかないで笑ってるまで夜を開ければいいまで忘れないまで泣かないで何もわからないで愛しあってるまで忘れないまで泣かないで夢を見ただろう沈んでゆくのが思い通りに目を覚ましたいっきり寄りなよ手に触れていってその姿には自分に何ができるかもう帰ってきたと分かってるその姿に忘れない仲間は今日もまた嘘のないように会えてよかったね\n",
            "=== GENERATED SEQUENCE 2 ===\n",
            "夏の日に 丸め寝に君は オトロールできたこと思い出すALONE僕らはかわない君の肩になるのに乱れる季節が 歌ってる反省やすくらい見えなくなる日々 人生を越える 何も変わらない行ってるそれだけ頑張る風が キャンバスは 待って繰り返しながら 嵐の肩になるのに歓びだらけ弱雅な始まりようとしてる その瞬間が思ってる輝きだして とてもきれいな涙こぼれて空の下で キャンバスは 冗をつけるためだれかがまわない君の肩になるのに 何も変わらない行ってるそれだけ頑張る風が キャンバスは 待って繰り返しながら 嵐の肩になるのに歓びだらけ弱雅な始まりようとしてる その瞬間が思ってる輝きだして とてもきれいな涙こぼれて空の下で キャンバスは 冗をつけるためだれかがまわない君の肩になるのに 何も変わらない行ってるそれだけ頑張る風が キャンバスは 冗をつけるためだれかがまわない君の肩になるのに 何も変わらない行ってるそれだけ頑張る風が キャンバスは 冗をつけるためだれかがまわない君の肩になるのに すぐる何も言わず\n",
            "=== GENERATED SEQUENCE 3 ===\n",
            "夏の日に 丸いかわるよ手セメナキャイケナイ (ALL-OUT ATTACK)キメナキャイケナイ (ALL-OUT ATTACK)そんな時が流れてく実いてるような予感が交解してくれた故郷 不安や赤な腕時間はまた始まるような楽しい夢見ることを幸せながら 触れることなく 失好きなことないよ 明日もこの胸にできる今日も 素直に戻らない勇気とはない 自信が流れてる夜が明けるまではつながら 一度セメナキャイケナイ (ALL-OUT ATTACK)キメナキャイケナイ (ALL-OUT ATTACK)そんな時が流れてく実いてるような予感が交解してくれた故郷 不安や赤な腕時間はまた始まるような楽しい夢見ることを幸せながら 触れることなく 失好きなことないよ 明日もこの胸にできる今日も 素直に戻らない勇気とはない 自信が流れてる夜が明けるまではつながら 一度セメナキャイケナイ (ALL-OUT ATTACK)キメナキャイケナイ (ALL-OUT ATTACK)そんな時が流れてく実いてるような予感が交解してくれた故郷 不安や赤な腕時間はまた始まるような楽しい夢見ることを幸せながら 触れることなく 失好きなことないよ 明日もこの胸にできる今日も 素直に�\n",
            "=== GENERATED SEQUENCE 4 ===\n",
            "夏の日に疲れ果て風に合わせられない果て風に合わせられない果てひとりに風に邪魔して手をひかすあなたはずっと笑うStand up in the middle of the raging riverWash away Wash away誰にも癒せはしない痛み手に入れてきたよ「アナタは私のほんのイチブしか知らない」勝ち誇るように笑われてもそれほどそれは変えられないことほかの誰かについてあきらめることほかの誰かに邪魔して笑ってもそれほど気にしてあなたの気持ちは涙をなでる風に合わせられない痛みを知ることほかの誰かに邪魔して笑ってもそれほど気にしてあなたの気持ちは涙をなでる風に合わせられない痛みあふれることを思い出す時きゃ少ながら追いかけてゆくだけあの娘は今こそ誰にも楽しむことはないあの娘は変えられない気分さよなら心この想いだれかのこと想いだれかのこと満ちてゆくだけどしゃぶりの雨が君を魂に浴びて何を辿ってる頬切れ動き出せる雨のように笑われてもそれほどそれは変えられないことほかの誰かについてあきらめることほかの誰かに邪魔して笑ってもそれほど気\n",
            "=== GENERATED SEQUENCE 5 ===\n",
            "夏の日に鈍い暮らして暮らした夢の姿から抱いている君が僕に包んでくれるようできるならすべてを抱いておくれ君は夢の姿から見えなくなるようできるならすべてを抱いておくれ幸せに一緒に進めるようなずっと日が始まるなんだから何気に吐きなさい確かなものなんかはくださいまだ見ぬ日の夜に暮れている君が僕に包んでくれるようできるならすべてを抱いておくれ幸せに一緒に進めるようなずっと日が明けるなんかはくださいまだ見ぬ日の夜に暮れている君が僕に包んでくれるようできるならすべてを抱いておくれ幸せに一緒に進めるようなずっと日が始まるなんかはくださいまだ見ぬ日の夜に暮れている君が僕に包んでくれるようできるならすべてを抱いておくれ幸せに一緒に進めるようなずっと日が明けるなんかはくださいまだ見ぬ日の夜に暮れている君が僕に包んでくれるようできるならすべてを抱いておくれ幸せに一緒に進めるようなずっと日が明けるなんかはくださいまだ見ぬ日の夜に暮れている君が僕に包んでくれるようできるならすべてを抱いておくれ幸せに一緒に進める�\n",
            "=== GENERATED SEQUENCE 6 ===\n",
            "夏の日に酔っぱらってまた圧倒自分のようだろう?Dear my lovely pain憶えてるかい…出会いにゃ酔っぱらってまた圧倒自分のようだろう誰もがハダカで生まれ変わる落ち着けてないハートだからあそばれ違うもあなたの匂い心が破裂しそうなmemory愛しい人よ激しい冷たい冷たい破裂しそうなmemory感じてたこと汗の笑顔があるなら今こそ手をのばしもだろうDear my lovely pain憶えてるかい…胸の痛みだけが my lovely pain欲望のようだろう誰もがハダカで生まれ変わる落ち着けてないハートだからあそばれ違うもあなたの匂い心が破裂しそうなmemory愛しい人よ激しい冷たい破裂しそうなmemory感じてたこと汗の笑顔があるなら今こそ手をのばしもだろうDear my lovely pain憶えてるかい…胸の痛み想いだけが my lovely pain欲望のようだろう誰もがハダカで生まれ変わる落ち着けてないハートだからあそばれ違うもあなたの匂い心が破裂しそうなmemory愛しい人よ激しい冷たい冷たい破裂しそうなmemory感じてたこと汗の笑顔があるなら今こそ手をのばしもだろうDear my lovely pain憶えてるかい…Dear my lovely pain憶えてるかい…�\n",
            "=== GENERATED SEQUENCE 7 ===\n",
            "夏の日に 一寸の鍵君は 消えたを強く抱き締める日々 日が いっても互いにいること うえずに強く抱きあやすいつもの どこかに行くことなく 愛しい人たちのあたりまえ 抱きしめあやすいつもの 先生、君が永遠に 大損調ンになれるほど永遠の憧れ合いないものを同じ 見せないところ 見せないところもっと うえずに強く抱きあやすいつもの どこかに行くことなく 愛しい人たちのあたりまえ 抱きしめあやすいつもの 先生、君が永遠に 大損調ンになれるほど永遠の憧れ合いないものを同じ 見せないところ 見せないところもっと うえずに強く抱きあやすいつもの どこかに行くことなく 愛しい人たちのあたりまえ 抱きしめあやすいつもの どこかに行くことなく 愛しい人たちのあたりまえ 抱きしめあやすいつもの どこかに行くことなく 愛しい人たちのあたりまえ 抱きしめあやすいつもの どこかに行くことなく 愛しい人たちのあたりまえ 抱きしめあやすいつもの どこかに行くことなく 愛しい人たちのあたりまえ 抱きしめあやすいつもの どこかに行くことなく 愛しい二人が私を 答えすべては�\n",
            "=== GENERATED SEQUENCE 8 ===\n",
            "夏の日に 君を愛しているI don't knowYou don't knowNo one knowsNo one knows忘れない自由No one knows真っ赤な心開ち止まれないのに死ぬ夢を 想像ける風が スパイル汗の男赤いベル反省で僕の上を転がりゃいいハンパな山のようにねえ、だれか、気がつくくくすけどイヤじゃないから悔いを気持ちないけれどあなたが見たことはないすぐありのままの自由が決まる愛しい時間が過ごした時に気がついたら悔いを気持ちないけれどあなたが命を忘れない胸をはって気持ちないアナタは震えて愛しあう髪を描いてる青く空を見上げている勝手に潜めた息を脱いで見た窓を切りすぎる息を脱いで強く魂寄せて僕の鍵が吹いただこれからはじめようじゃない手帳の入れを破ってたじゃない男は何をあげるいつまでも変わるところない手帳の入れに強く魂寄せて何でも一番然不幸不安に疲れて傷ついてつかの恐怖を知ってるこの心何を知りたいでいつの日か男は何かをあげるいつの日か変わるところない手帳の入れは強く魂寄せて寂しさを待ってた時は\n",
            "=== GENERATED SEQUENCE 9 ===\n",
            "夏の日に疲れ果てた風高い目覚めてた僕はすべて足りない強いアルコールも言わず解き放ってゆこう今は何かをひかしているのかなんてそんなのどこかでまた始まるのだろういつでも変わらない輝きつづけるよ手に過ぎてるだけなのか臆病なのが思い浮かぶ夕べては誰かを消えてゆく幸せにしてただけ好きなのかためだとさみしく時間が流れて身も心も冷たい風も消えない性格が気にしないだれもがどこかに行くところがってそれが生きてるムリヤリはたて肩と願い言ってると信じあって諦めたくなるからまた始まるのだろう大切な人よ僕らのfreedom今日も一緒に笑いあえる悔いのない時間も誰か見えない雑踏のペースで余計に動かされて生きる君の眠牲を振り返すようにどんなものがいい思い出の時間だって甘くないとたりした時代もあの空にはいつでもいいから手に過ぎてるだけこれが悪いこんなものが何でも帰っているどんなものがいい流れてしまったんだよその手はもう綺麗な人生時代だけかわからないいどんなものが思い出の時間だって甘くないとたりした時代もあの空にはい\n",
            "=== GENERATED SEQUENCE 10 ===\n",
            "夏の日に疲れ果てしまったなんてその先に待っているでしょうもない景色が 終り違えるがいるかもしれない 今だけが 終り違えたのだろう?時間が行ってをめく知らない時間が進む僕らは疲れ果てしまったなんて風の匂い心でも君の真っ青に吹きかえたなんてなのにその言い訳もとても出て行って僕らは寝返り戻るままでしょう時間が目を閉じよう誰もいなく時間が行ってをめく知らない時間が進む僕らは疲れ果てしまったなんて風の匂い心でも君の真っ青に吹きかえたなんてなのにその言い心でも君 真っ青にしかめられないいっしょに抱きあやせる何も捨ててしまうような笑顔をみせて風の中に電話を立てなもんだろう存知らない衝動全部台無しめ叩き値札を残した時期も疲れ果てしまったなんて風の匂い心でも君の真っ青に吹きかえたなんてなのにその言い心でも君 真っ青にしかめられないいっしょに抱きあやせる何も捨ててしまうような笑顔をみせて風の中に風が立てなもんだろう存知らない衝動だれかの\n",
            "=== GENERATED SEQUENCE 11 ===\n",
            "夏の日に疲れ 東雄すいつかもその胸に乾いてくるYou know my faceフラフラワイおのれも夢が 歌いでNow it's time to go, Now it's time to glow苦くてもしょっぱくても飲み込んでしまおう思うのは君のことでそれだけでいいのにあるのに会いたいと思ってたいけどありのままでいいたヘンな眼差しでひとりで夜が明けるまで夜が明けるフラフラフラしたままっかと夜が明けるあんまりない場所なことをちゃだめいているし晴れた僕のジーンズに思い出すべてを失ううまいつもそつなく聞こえてしまうと思ってたいけどありのままでいいた夜が明ける笑顔を見せてやりたいそしていったあの娘がいた夜ごと夜が今でも僕に見つけるまで夜が明けるまで夜が明けるあんまりない手をのばしものは誰なのに見えないで頃わせてしまうそしていったあの娘が何が起きても僕といっしょにいる何も見えないで泣かないで泣かないであわってしまう歩き出した歯がゆい風が吹き出したいそんな日がいつまで夢が明けるまで夜が明けるあんまりない場所なことをちゃだめいているし晴れた僕のジーンズに思い出すべてを失うまいつもそつなく聞こ�\n",
            "=== GENERATED SEQUENCE 12 ===\n",
            "夏の日に疲れ果てしまいたら僕は空と見つめ風に溶けてくる命のあるから物別にもう一度Now it's time to go, Now it's time to glow苦くてもしょっぱくても飲み込んでしまおう思うのは君の人にアナタで突然してみようそしてそれでもいい手をつなぎた臆病などないでしょうそしてそれでもいい何も見えないそれでいいそれでも前に変えていた瞬間を変えていたあの娘は今だけがんばっているそれでもいいそれでも前に変えていたずっと好きになることを息を切りすべてを想ってこない想いを求め求めまわりあう瞬間は変えていたあの娘は今だけがんばっているそれでもいいそれでも前に変えていた想いなの前じゃないでしょうそしてそれでもいい何も見えないそれでいいそれでも前に変えていた今日もいい夢と見たよなに想いを求め求めまわりあう瞬間は変えていたあの娘は今だけがんばっているそれでもいいそれでも前に変えていた幻を迎えていた彼女はもう少しあなたと会えてよかった風の声は今だけがんばっているそれでもいいそれでも前に変えていた想いなの前じゃないでし�\n",
            "=== GENERATED SEQUENCE 13 ===\n",
            "夏の日に 世間の風は 癒してくれまっぽに 東の溢に柔らかいLiving in this boring worldEveryday just passing byNobody's faultI'm making my choice all the timeStanding still feet on the runStare at the sky never see the sun's going awaySometimes I feel like running away from hereStare at the sky never see the sun's going awaySometimes I feel like running away from here暴合ばする時代が続いたいなら興奮も面倒的な同情 見上げる方君を誰かに見えるだろう僕にも誰かに気づいたよしからまた君が 脈たんだった本当はもうだったよたひとつ抱きしめたいからI'm making my choice all the timeStanding still feet on the runStare at the sky never see the sun's going awaySometimes I feel like running away from hereStare at the sky never see the sun's going awaySometimes I feel like running away from here暴合ばする時代が続いたいなら興奮も面倒的な同情 見上げる方君を誰かに見えるだろう一瞬をためていたいなら手に入れてきた「笑ってるのは人生だから強い二人の人」それが何か言わないで目を覚ましたなら他人(だれか)の写真をひかれないでその瞳の色は変わりつづけるよ歌ってしまうよそれでも君の姿だっただろう泣かないでしょう愛しい人たちがいと知ってるのはそんなの人を見つけている歌ってしまうよそれでも君の姿だっただろうそう泣かないでしょう愛しい人たちがいと知ってるのはそんなの人を思いを愛し\n",
            "=== GENERATED SEQUENCE 14 ===\n",
            "夏の日に どんなに世間を 傷つけ進める夢が 歌いながら高く 絆けたけど止まらないことなど抱きしめたままでもある 眠れないことなどある 脈はまだもあてもない 最後のシャツから おどこに行ったことばかりだけが見える夢の中でゆくほどやさしい日 明日を 見つめよう先 ヒトラブル先生、僕をまですぐ叶うラブル押し殺し上がるトラブルどっかに間違ってもこの胸が痛いけどこれが君には 信じられないハンパなハートやり逃げるしびれよう顔を ずっと日だらけ上げたよ時きっと笑ってる立ち止まる砂が これからついた言葉が 冷たい肩をあげて 心を 歌いながら離れてしまったよまだまだとそうよやってきたんだよと強く力に電話したがってしまったよだからだめだとそうでも離れてしまったよ夢の中でゆくほどやさしい日 明日を 見つめよう風に溶かって 冷たい肩をあげて 心を 歌いながら流れるようにありがとう日々が すり抜けるのはやめて行きたいんだよこれはまだ絆を ずっと日だらけ上げたよアクアブルアクブルどっかに間違ってもこの胸が痛いけどこ\n",
            "=== GENERATED SEQUENCE 15 ===\n",
            "夏の日に疲れ果てしまう夢のスピードはもうたえるよね教えてくれたサインのスネしかい体いってる夜は何故変わらないねDon't be late！Let's drink the night away！11858109昼休み花擁愛情花の同細胞は気変わりましょう大人びれは一体いってる夜よ明日に疲れ果てしまう風の声は何も言いたい冷たい雨の中11858109昼休み花擁愛情花の同細胞は気変わりましょう照らすもの疲れほど幸せはもうたえるよ冷たい雨の中肩に愛しさを学び出して赤い街を書いているもう戻ってはもう一回もじめられないまだまだ残っている君のことを想う雨の中途方に男でも変わってもも絶対にやっと光をあげて一人立ただ代わりとはいけないと君が僕に会いたいと何も変わらない僕に会いたいつかの名前を存分に楽しくなった華の中歯を走る雨の中鮮やかな光に男でも変わっても絶対にやっと光をあげて一人立ただ代わりとはいけないと君が僕に会いたい君のことを想う雨の中途方に男でも変わっても絶対にやっと光をあげて一人立ただ代わりとはいけないと君が僕に会いたい君のこ\n",
            "=== GENERATED SEQUENCE 16 ===\n",
            "夏の日に ふきみを 鎮める荷物 言葉忘れちゃいけないものがいやだろう気がするような日々 急に誰もが止められないと 僕を言わせないAll Night 君が見えない深いベロ見たきゃいけないものが 食べのないウソ踊るのは MVP心臓はまちがっていても 時だけも 笑ってたAll Night 君が夜が明けるベロ見たきゃいけないものが 食べのないウソ踊るのは MVP二人気がするような日々 急に ふきみを 鎮める笑顔の夜は 何も変わらないAll Night 君が見えない深いベロ見たきゃいけないものが 食べのないウソ笑ってたAll Night 君が夜が明けるベロ見たきゃいけないものが 食べのないウソ笑ってたAll Night 君が夜が明けるベロ見たきゃいけないものが 食べのないウソ笑ってたALL NIGHT 君が夜が明けるベロ見たきゃいけないものが 食べのないウソセリフ行き止まれ出し初きつづける街の香り人 憂い顔で歌ったこともない錆びわかるそれはまた出会った後また絆雑誌に哀しい all night今日もたどりつける自分に触れて 鎮やかな決める for the love…微笑えば愛情外れ前に All gone away嘘の\n",
            "=== GENERATED SEQUENCE 17 ===\n",
            "夏の日に疲れ果てしまうそれを想像してくれたあの頃 頃 誰もが dancing on the floor真っ赤なプレロース居心のかい いつか知ったら輝く夕陽を照らすハンパル責めないで泣いているのならそんな居心でどうしても dancing on the floorShow must go on, baby乗って動き出した 頃 誰もが dancing on the floorAll day それでも dancing on the floorAll night 心臓みあげるAll day 静かに目を閉じてAll night It's not a dream手持ちのカードがブルーと ダメらつきながらAll day 見つめカードで公園のカードでAll night It's not a dreamAll day それでも dancing on the floorAll night 心臓みあげるAll day All night It's not a dreamAll day All night It's not a dreamAll day All night It's not a dreamLOVE…心から逢うたびうに乗って動き出した 腑顔で泣いているのならそんな居心でどうしても dancing on the floorAll day それでも dancing on the floorAll night 心臓みあげるAll day All night It's not a dreamLOVE…心から逢うたびうに乗って動き出した 腑顔で泣いているのならそんな居心でどうしても dancing on the floorAll day それでも dancing on the floorAll night 心臓みあげるAll day All night It's not a dreamLOVE…心から逢うたびうに乗って動き出した 腑顔で泣いているのならそんな居心でどうしても dancing on the floorAll day それでも dancing on the floorAll night 心臓みあげるAll day All night It's not a dreamLO\n",
            "=== GENERATED SEQUENCE 18 ===\n",
            "夏の日に丸め風に消されるような瞬間の途中でその中でそんな風に消されるようないね何度も許せないねまた一片言葉がスピードにしたいまま狂ったひとり割れた翼広げ飲めつ欲望の夜に思い出される夢見ているよ今こそが輝いてるけどどいうものが君を怒らせないくらいで全部台かけぬ想いを守ってないで今日も一日不幸せ不幸せ不幸せ目的を見た僕は自由に泣いている夜は自分に思い出される夢見ているよ明日はもう脱ぎ捨てたもし今日一日どうなってるだけでよ自分だけでよ今こそが輝いてる一片言葉がスピードにしたいまま狂ったひとり割れた翼広げどこからこわいものだとか誰の腕の中 知らない涙あって あなたのちょい海も願い景色も変わらない風が吹いている夜は自分に思い出される夢見ているよ今こそが輝いてるけどどいうものが君を怒らせないくらいで全部台かけ想いを守ってないで今日も一日不幸せ不幸せ想茶を振って見た僕は自由に泣いている脳内の上で目覚めたもしもう\n",
            "=== GENERATED SEQUENCE 19 ===\n",
            "夏の日に疲れ果てないで走り止まったよ夢の奥の階段酷まで気づいてる今日はいつまでも走り取り出したけれど何も変わらないよNow it's time to go, Now it's time to glow痛みもそうだろういつか見てることに手をつないでいい遠くにこの世でいい色付けないいい扉があることを忘れないでいいつか見てることに夜明けることないいいつか見てる離れてることに手をつないでいい何も変わらないよいつか見てることに手をつないでいい何も変わらないよ明日を待つといて燃え尽きていたあの日の僕らを震わせてそこには何もあること誰かに見つかりあってるそれでいいつか見てることに手をつないでいい遠くにこの世でいい色付けないい扉があることを忘れないでいいつか見てることに夜明けることないいいつか見てることに手をつないでいい何も変わらないよいつか見てることに手をつないでいい遠くにこの世でいい色付けないい扉があることを忘れないでいいつか見てることに手をつないでいい何も変わらないよいつか見てることに手をつないでいい何も変わらないよいつか見てることに手をつないでいい何も変わらな\n",
            "=== GENERATED SEQUENCE 20 ===\n",
            "夏の日にまで線を残すことがあるYou know I'm thinking of you今夜更けの男と夢をつかまえって夜更けの男と叫ぶと違った君の肩を叩いてるかい夢を見るI'm thinking of you...幸運の舞を行くように何もかも言い聞かせてゆくのかもそれを変えるだけI'm thinking of you...君を残すことがあるYou know I'm thinking of you今夜更けの男と夢をつかまえって夜更けの男と叫ぶと違った君の肩を叩いてるかい夢を見るI'm thinking of you...幸運の舞を行くように何もかも言い聞かせてゆくのかもそれを変えるだけI'm thinking of you...幸運の舞を行くように何もかも言い聞かせてゆくのかもそれを変えるだけI'm thinking of you...思わず込め今日で何年辺の術をふりかえって挑めちょっと行くと僕を君だってこれ以上は枯れの顔を見せてゆく遠回りした運回る今日も何年辺の術をふりかえって挑めちょっと行く遠回りした街の匂いを探して線をつけた運回りした後悔したくものは今だれかを笑わせてるそして何も一緒に愛は今宵へと知っている人たちの瞳に映るんだと思うけれど僕はもうつもり確\n"
          ],
          "name": "stdout"
        }
      ]
    },
    {
      "cell_type": "code",
      "metadata": {
        "colab": {
          "base_uri": "https://localhost:8080/"
        },
        "id": "BXkbvplyvFvs",
        "outputId": "53a4490c-4f1f-41ae-e4cc-b487d2ea4424"
      },
      "source": [
        "!python transformers/examples/pytorch/text-generation/run_generation.py \\\n",
        "    --model_type=gpt2 \\\n",
        "    --model_name_or_path='finetune_gpt2' \\\n",
        "    --prompt \"波\" \\\n",
        "    --length=600 \\\n",
        "    --num_return_sequences=20"
      ],
      "execution_count": 19,
      "outputs": [
        {
          "output_type": "stream",
          "text": [
            "2021-05-28 06:51:01.124734: I tensorflow/stream_executor/platform/default/dso_loader.cc:53] Successfully opened dynamic library libcudart.so.11.0\n",
            "05/28/2021 06:51:02 - WARNING - __main__ -   device: cuda, n_gpu: 1, 16-bits training: False\n",
            "05/28/2021 06:51:06 - INFO - __main__ -   Namespace(device=device(type='cuda'), fp16=False, k=0, length=600, model_name_or_path='finetune_gpt2', model_type='gpt2', n_gpu=1, no_cuda=False, num_return_sequences=20, p=0.9, padding_text='', prefix='', prompt='波', repetition_penalty=1.0, seed=42, stop_token=None, temperature=1.0, xlm_language='')\n",
            "Setting `pad_token_id` to `eos_token_id`:50256 for open-end generation.\n",
            "=== GENERATED SEQUENCE 1 ===\n",
            "波を見つけるまた一人狂いまくろう人よどこにゃない自分よどこかに溶けてしまう夢はいつもどこかで続くのだろう言葉ひとつ足りないよNow is the time狂いまくろう人よどこにゃないどこかに溶けてしまう夢はいつもどこかで続くのだろう手のぬくもり返しげなくなり抱きしめたいとこまで行ってみようことを気づいているように何もないとただ確かに思ってたどりつくのだろうまっさい君のことだけでいいそれまでもこの世界に思ってたいそれはまだ見ぬ笑うほど愛しい人よNow is the time行きまくろう人よどこにゃないどこかに溶けてしまう夢はいつもどこかで続くのだろう行ってみようことを気づいているように何もないとただ確かに思ってたどりつくのだろうまっさい君のことだけでいいそれまでもこの世界に思ってたいそれはまだ見ぬ笑うほど愛しい人よNow is the time苦しみたくなる人に酔っぱらってると苦しみたくなるよ手の区切れこの命に届かけてくれた人よどこにも行きまくろう君の姿に僕を刻もうと退屈と刻もうと燃え尽きて青く偶然と誰か 歌うつむかないこと\n",
            "=== GENERATED SEQUENCE 2 ===\n",
            "波じゃ意味がないそれが僕になってるのがいい足をなしげなくて欲しいものがまぎれば止まれかわりまたよどうしても続くのがいいものだろう完全になりのアナタは照らし生きてるのは一瞬だけ安らぎとり忘れないいつもり何故にも待っているはずあたりの悲しみを知ってないよここにあるあの日の僕らもうまくいってゆけない海のようなやすくて僕の頬をなくさないで泣いてしまっても君を怒らせているはず変わらない場所なことないいくつもり彷徨うことを忘れない永遠の想いで泣いてしまっても君を怒らせているはずあたりの悲しみを知ってないよどうしても続くのがいい今はまだ泣いてしまっても君を怒らせているはず悲しいものがまぎれば止まれかわりまたよどうしても続くのがいい今はまだ泣いてしまっても君を怒らせているはずあたりの悲しみを知ってないよ鳥のように空をつかみそうあなたの前じゃ意味がないそれが僕になってるのがいい本当に泣いてしまっても君を怒らせているはずあたりの悲しみを知ってないよどうしても続くのがいい今はまだ泣いてしまっても君を怒らせているはずあたり\n",
            "=== GENERATED SEQUENCE 3 ===\n",
            "波うように何も変わらないね笑顔がふみつくす頬を握りしめて本当はちょっとずつ仕事はいないものを作ることどうしても本当はちょっとず泣かないで胸をはってあげる熱き鼓動の時間を全部時間があったあの日を胸に今日も生きている風が命もひとりいてうれるほどがまた忘れてしまうのか愛を磨いて生きるかい？どんなときも絶対に追いけるくらいにすべてが夢の寝顔すべてが泣かないできれいで誰もが泣かないで歩いてきれいそしていいそしていいそして何も変わらない国境の向こうに浮かれる風が命もひとりいてうれるほどがまた忘れてしまうのか愛を磨いて生きるかい？忘れてしまうのか愛を磨いて生きるそしていいそしていいそしてあの日を胸に今日も生きている風が命もひとりいてうれるほどがまた忘れてしまうのか愛を磨いて生きるそしていいそしていいそして何も変わらない国境の向こうに浮かれる風が命もひとりいてうれるほどがまた忘れてしまうのか愛を磨いて生きるそしていいそしていいそしてあの日を胸に今日も生きている風が命もひとりいてうれるほどがまた忘\n",
            "=== GENERATED SEQUENCE 4 ===\n",
            "波係も意味がないその身をつかまえましょ言葉で僕らはいつまでこの街を縫いている前に手をつないだろ忘れられない 守り色やそう思い出を抱えたいよ誰もが愛情を今すぐ永遠に茂み出す今の僕らは本当は思わずかないなのか自分にふみださないけれどそれは変えられないと気づいてゆくだけだよと言い聞かせてまたならねだれにも絶対に消えてしまったよなにもかもありますかとってまた宵今わってるからまだ間に向かい泣かないで僕の髪はあなたに会えたいと思ってたそばにいたことひきずりだって彼女は互いたことだけは何もないよいつか泣かないで僕の髪は今だけはあなたに会えたいと強く魅かれてあってそんなに嫉いているのはそんなにいろうで時間がかかからぬ想像したものがいるならどうか自分だけで何が足りないとのどなかなかまわりとならはかない想像したものがいるならどうか彼女は互いたことだけは何もないよいつか泣かないで僕の髪は今だけはあなたに会えたいと強く魅かれてあってそんなに向かいもっと強く抱きしめたいつかの間違って泣か\n",
            "=== GENERATED SEQUENCE 5 ===\n",
            "波も愛しい人よGood Night...消えたくない苦しみを抱き締めて�aganけるばかりあがる新しい人たちまえに小さな笑いねむり合いにはじけ散ってるはずもないねむりたいくちょっとずましてます黒髪を抱き締めて�aganけるたみたい熱帯の弱さよそんなの丘に夢を見た僕らはまだ泣きながら踊るよあなたはまだ泣きながら田中は理性を越えてゆくよ大丈夫僕らの地図を見ようとしてる笑ってからないよたひとつ窓をかげて手を振ってからついてよ歌えたがいいね歌ってよもう泣きながら歌ってよ今をいつもそれが辛い歌ってよ風は二度と見て陽があるそんなこと言ってみても歌ってよ消えたくない苦しみを抱き締めて�aganけるばかりあがる新しい人たちまえにひとりじゃないよ消えたくない苦しみを抱き締めて�aganけるばかりあがる新しい人たちまえに小さな笑いねむり合いにはじけ散ってるはずもないねむりたいくちょっとずましてます黒髪を抱き締めて�aganけるたみたい熱帯の弱さよそんなの丘に夢を見た僕らはまだ泣きながら踊るよあなたはまだ\n",
            "=== GENERATED SEQUENCE 6 ===\n",
            "波じゃないだろう眠れない 抱きしめたいそのさそれは無理自由LIFE無神されてる 季節を傷つけて 心もうまくろう眠れない 抱きしめたいいいそのさそれは無理自由Living in this boring worldEveryday just passing byNobody's faultI'm making my choice all the timeStanding still feet on the runStare at the sky never see the sunIn and out of mind still searching for a signSomething is growing in my soulTryin' to find a way to look pastI just don't know where I would like to beNow I'm sure I've found a wayI just need to find the one thing that's keeping me aliveThere's something missingYou know what you're looking forEverything in vain is directed your wayEverything is painted with lies and prejudiceI just can't see you without looking into my soulRealization comes easily with practiceIt's never too late to realize we've made a wonderful messJust a little misunderstanding can mess things upWatching TV without you just won't make you realizeYou know what you're looking forEverything is painted with lies and prejudiceI just can't see you without looking into my soulCan't see you without looking into my soulLoneliness is gripping me tightWill it ever let me goI don't know what I would like to beSomebody's just gonna have to make up their mindNow I've found a wayI just need to find the one thing that's keeping me aliveThere's something missingYou know what you're looking forEverything is painted with lies and prejudiceI just can't see you without looking into my soulCan't see you without looking into my soulLoneliness is gripping me tightWill it ever let me goI don't know what I would like to beSomebody's just gonna have to make up its mindJust a little misunderstanding can mess things upWatching TV without you just won't make you realizeYou know what you're looking forEverything is painted with lies and prejudiceI just can't see you without looking into my soulCan't see you without looking into my soulLoneliness is gripping me tightWill it ever let me goI don't know what I would like to beSomebody's just gonna have to make up its mindJust a little misunderstanding can mess things upWatching TV without you just won't make you realizeYou know what you're looking forEverything is painted with lies and prejudiceI just can't see you without looking into my soulCan't see you without looking into my soulLoneliness is gripping me tightWill it ever let me goI don't know what I would like to be「愛しい」愛\n",
            "=== GENERATED SEQUENCE 7 ===\n",
            "波じゃない自分もかわらずにひとつ絶望のタネイどっぷり人は何もかもいらない消えてゆく遠くを見てるだろうしていくださいなら思わず僕をしたらこりついて生きてるだろう汗まで気づいたならふきと着けてみせようひとりぼっちでシルテンで冷たい魔法のシルテン地下の上で祈りつづけたならいっしょにおびえされていた君の眠るなら命がどこかに戦うガレーがきらいなくても新しい自分できないイカロのタネイまだ間違ってはじまってるときどきの世界は知らない方々途方君に見える汚れながら遠くを見てるだろう家路不当午後卒業の日々卒業の日君が変わってるどんなときも思いきり少しでいきみの消えてゆくのが見えぬ今さら何も捨てての日々どこまでも信じるよ電話がゆえの最高の涙で下でも疼いた肩に優しく見当僕は無邪気に疼いたいことがつずつむかつまえないものがあるならそれを鍵どこまでその手をとる恋というと思うよ愛しい人よどうなってもかまわないねえ、オレはじらいも確かに柔らかないあきらめれないこと知らない�\n",
            "=== GENERATED SEQUENCE 8 ===\n",
            "波係なニュース溶かしてめよう思い出してゆけばいい泣かないできるけどそれが最後まで僕らが泣かないできるけどそれがまた始まるくらいに泣かないできるけど今もまだ泣かないできるけどウワベはかない疲れた愛じゃない犬には読みだされてこの国はその君に君が悪いハルクピードなんかあなたはまるさとはいつもどこにある.(ツラ)はダメだけを守るのさ誰かけを傷つけてやりあなたの前に手をふりはなれてくるTwo eyes of mine一緒にいかせた僕らが泣かないできるけど重い穴を切り進んでゆくTwo eyes of mine脱ぎ捨てて歩いてみようその言い訳の入らせ眠たい果てに思い出すTwo eyes of mine一緒にいかせた僕らが泣かないできるけど重い穴を切り進んでゆくTwo eyes of mine一緒にいかせた僕らが泣かないできるけど重い穴を切り進んでゆくTwo eyes of mine脱ぎ捨てて歩いてみようその言い訳の入らせ明日も川を大きくなるTwo eyes of mine一緒にいかせた僕らが泣かないできるけど重い穴を切り進んでゆくTwo eyes of mine一緒にいかせた僕らが泣かないできるけど重い穴を切り進んでゆくTwo eyes of mine一緒にいかせた�\n",
            "=== GENERATED SEQUENCE 9 ===\n",
            "波を知りたいと思っても少し口に喉がついたいこの心が満たされてるホントルのせいだけじゃ暇がいるあなたの中でスロウダンド叫んでる想像してただけどそういうものが何年たちにほど傷ついてくるかもしれないI'm on my way夜の風のウワサになれるミ・ヤ・ビなきゃいけない時間が二人生と別れちゃいないと思っても口に喉がついたいあなたの中でエルロウダンド叫んでる想像してただけどそういうものが何年たちにほど傷ついてくるかもしれないもしれないもしれないI'm on my way曖昧な空で別れどいちゃいないのは何でも一度夢これ以上は進めないあなたの中でboy oh why なんなんだか少し なんなんだか自分がいなくて悔いだけ叫んでる想像してただけどそういうものが何年たちにほど傷ついてくるかもしれないもしれないもしれないもしれないやめて息をつかまえてるし人はいらない人はどれだけ君の声を のばしものなくせになりながら怖いくりかえし消えてしまったよ僕らのリング小さな胸にしだけ見せてうらいに静かにしている夢に会えているのはそれでも君以外とは帰れないものなくせになりながら怖いくりかえし消�\n",
            "=== GENERATED SEQUENCE 10 ===\n",
            "波じゃないひとりじゃないだけじゃないだと気づいても始まるよ今夜こそはじまりの中できるアナタは空かな強く抱えむ君の神経つ君を学んでいたいけど嫌いにこの胸をはらみ入れるんだと最後まで君をひとりじゃないだけどそばにいてもこの心境界悔しないようにとてもきれいなときゃそ今こそ不幸せだとしても思ってもいつか見ていた素敵な人がいるよなにもかもそれが君の方だと思ってた追いかけてけるようなそしてそれがどうしても今すぐ見つめあったあの日の名を産み越えて町に町何も終わらない進む場所に誰かをあげるよ追いかけるようなそしてそれがどうちにも今すぐ泣かないで情熱をもっと引き寄せて風を切り打って窓を立ちよう誰かが見えなくなるようなそしてそれがどうちにも今すぐ泣かないで情熱をもっと引き寄せて風を切り打って窓は止まりはいない強く抱えむ君の神経つ君を学んでいたいけどそばにいてもこの心境界悔しないようにとてもきれいなときゃそ今こそ不幸せだとしても思ってもいつか見ていた�\n",
            "=== GENERATED SEQUENCE 11 ===\n",
            "波も悩んで歩いてる流される明日の想いはどうして何も見つからないけど今さら止まりにゃいられないというのに僕をはいつでも言い足を越えている涙を忘れたなら時に一番流はいらないというのに泣かないでいるいつでも歩いてる流される明日の想いはどうして一人歩いてるもうすぐな見つめあう泣かないでいる今さら止まりにゃいられないというのに泣かないでいる遅いに泣かないでいる思いきり泣かないから止まらないというのにどうして何も見つからないけど今さら止まりにゃいられないというのに泣かないでいる遅いに泣かないで遅いに泣かないで響くをあげて響くのは止まらないというのにどうして何も見つからないけど今さら止まりにゃいられないというのに泣かないでいる遅いに泣かないで遅いに泣かないで何も見つからないけど今さら止まりにゃいられないというのにどうして何も見つからないけど今さら止まりにゃいられないというのにどうして何も見つからないけど今さら止まりにゃいられないというのに泣かないでいる遅いに泣かないで遅いに泣かないで歩いてる流される明日の想いはどうして一人歩いてるもうすぐな見�\n",
            "=== GENERATED SEQUENCE 12 ===\n",
            "波じゃないのそれが何も言わないのそれでも前に進めないのそれでも二人じゃないのそれでも最後にはじまってる風が前に進めないのそれでも二人じゃないのそれでも最後にはじまってる一緒にいるかい…助けどどけるやっぱり人の人がじめまとう言い聞かせてみたいさよならそれがどうするにも言えない風が声さ響き続ける心情になれるまま星の限界なのかいままそれしからセリフ遠くまでツワモノでもあらめないボクを打ち上げてマニセリフでもあらめないままそれがどうするにも言えないままそれがどうするにも命をくださいなら愛しあうけどそれは   今日も自分がちょっと逃げてみたいさよならそれがどうするにも言えないわかりは悩みもうシマもないねこんなものがありゃしないで 今日もナメだこんなものがありゃしないで あああもどうしても歩き出しのコンセリフ遠くまでツワモノでもあらめないままそれがどうするにも言えないわかりは悩みもうシマもないねこんなものがありゃしないで 今日もboy…だからありゃしないで ああもどうするにも言えないわかりは悩みもうシマもないねこんなものがあ\n",
            "=== GENERATED SEQUENCE 13 ===\n",
            "波を越えてささまよう一人眩いるばかりの間君は響き続ける隠さない想いはずれて笑い泣いたいね気になりたいことひきやけになったくてこの心は今でも忘れられない暮らしをひきめどこまで手をつないでよ抱きしめあいたい知ってるかいのにひとりじゃないのに構われることがすべて僕らは一人ふりかえって毎日ボクの最高の眼差しにそばにしかれてなにもかも捨てててしまう言葉があふれるかもやっとそばになれるボクの最高の海で幸せの海派手に手をつないでよ降りそばにしかれてなにもかも捨ててしまう最期の嵐屋の眼差しに惜しまないあなたの胸で太陽の下で突然と違う玉の色を待つ忘れないからありがとうに何もかも消えないあなたはいつも心も悪いすべてがその歓びになったくてあなたの声は声をあげても傷つくつきあなたはいつもいつもこの胸を解き放てしまったよボクの眼差しに追いかけてゆくよFool for the love, half tone ladyCool down your mind 心みだされてFool for the love, half tone ladyCool down your mind 黄昏へのプロローグ無邪気にブルーに預かってらってる瞳を Shut it up!聞かないでFool for the love,\n",
            "=== GENERATED SEQUENCE 14 ===\n",
            "波係は違っすぎる心のずっと思い出 どっかの影閉まったとしても今日もそうDon't Miss The NumberLoving All Night 君を抱いてくれPRAY TO YOURSELFケツまくろう最高のスケジュールさまよう最高なんて認めまわないでよ今こそあでも最後はまだ見えるOUTLADYやさしいスケジュールまだまだ時きゃまずいて思うようなおいてよ 燃え尽きているのは何も押し殺しているのか恋はまだまだ恋は 答えないと気づいたよなんて 君の真った知らないままにまにだってまって盛り上がってゆく 愛しあげる恋はまだまだ盛り上がってゆく なんとかしたらまって だれかがえの勝って笑ってるはかないドアを開けたい)まだまだ今夜は いつでもPRAY TO YOURSELFケツまくろう最高のスケジュールさまよう最高なんて認めまわないでよ今こそあでも最後はまだ見えるOUTLADYやさしいスケジュールまだまだ時きゃまずいて思うようなおいてよ 燃え尽きているのは何も押し殺しているのか恋はまだまだ盛り上がってゆく 愛しあげる恋はまだ盛り上がってゆく なんとかしたらまって だれかがえの勝って笑ってる立ち上がってゆく この何かを信じてゆくよ 星のように道ぼん\n",
            "=== GENERATED SEQUENCE 15 ===\n",
            "波じゃないからちょっとだらけでやりましょ祝ってまた何も言わせないこといってるかい?そんな気づいてやってやりましょこの世はメシの食いみがみの一番止まで見送るよりもないくつも心は変わるよりもない子びしいほど今はまだはじまっているそんな気づいてやってやりましょこの世はメシの食まで見送るよりもないくつも心は変わるよりもないI will survive不幸せな汗がつくりを深くしたくなる野性のENERGY滾らせて今日もまたひとりで声をあげるくせに自分がいついても離れてるぜ何もわかりがじめるもう一回どんなときだと思ってみよう砕け散るヒマもないない日々が起きるもんだろう?そしてそれを忘れておくれ生きてゆこうこと平和な物誰かを傷付け満たしくない何もしないんだそれでも昨日が一番明日を見つめている強く魅かれたカラフルなライフル気づいてやってやりましょこの世はメシの食まで見送るよりもないくつも心は変わるよりもない子びしいほど今はまだはじまっているそんな気づいてやってやりましょこの世はメシの食いみの一番止まで見送るよりもな\n",
            "=== GENERATED SEQUENCE 16 ===\n",
            "波係が僕を取り去ってくるまっすぐ帰る日々がどんなことをつくけよう昨日が暮れるから輝く美しい見せられた恋といることはないような僕に会いはいつまでもこの胸に響いている生きてるのはそんな僕がひとしつ変えられるまでいたしの道に会ったような時で続く今さら止まりに失ってるまっすぐ帰る日々がどんなことをつくけよう世界は綺麗な色に乗って見せられた恋といることはないような僕に会いはいつまでもこの胸に響いている夜はいつまでも僕に会ったよ音のような恋といることはないような僕に会いはいつまでもこの胸に響いている生きてるのはそんな僕がひとしつ変えられるまでいたしの道に会ったような時で続く今さら止まりに失ってるまっすぐ帰る日々がどんなことをつくけよう美しい見せられた\n",
            "Tシャツも脱ぎ捨て泳ぐようだいってみたいの独りかい波に乗って滞らぬ昨日の術を会えるまっすぐ帰る日々がどんなことをつくけようTシャツも脱ぎ捨て泳ぐようだいってみたいの独りかい波に乗って滞らぬ昨日の術を会えるまっす�\n",
            "=== GENERATED SEQUENCE 17 ===\n",
            "波を空にゆけ上がる待っていたのぼる風に小さなウワサで特別から泣いてくれるから言い聞かせてまた約束なよ手作り逢いたくなるようなEPIC DAY鼻にも言い聞かせてまた約束なよ手作り逢いたくなるようなEPIC DAYどんなにも言う聞かせてまた約束なよふきと声枯らし思い出してゆく今ごろう僕にしか君は目の前にある愛はある今でも待っていたのぼる風に小さなウワサで特別から泣いてくれるから何故にゆくブロックザーが欲しい香りにゆくビルのように遠く遠く余計なものすべてを変えてみてゆくビルのようにあふれることをあげて声するそんなことで時代がまた来たんだと思って叫んでる当たら楽しめる想いがきるならひとつ抱きしめる手の匂いなんても探してるひとりじゃない約束なよ手作り逢いたくなるようなEPIC DAY戦闘体勢引き片手に入ればいいのも平気を包んでゆく長い続けるほどそげほろ君は会うまで会う息を越えてゆく夢を見てたはずなのにもう一度会いたいなんてそばにいてくれるから何がわかっているのにやてなんてもいいよつかはずなのにも\n",
            "=== GENERATED SEQUENCE 18 ===\n",
            "波も愛しい人よそれが最後はただひとつだけの新しい季節をせめく季節を見つけたようにやらしく見つめあっている夜は誰もいなくなりそうな予感がしてたことがあるときたりしないああ眠れない日がいることに思ってたけどあありのままの集合渡いシグナルだぜ 大好きなキミと過ごして泣いているよHurry Up!今の僕を今じゃ少しでも心配してゆく今は寝返りで心配してゆく君は叫んでる風に乗って君を見てたなにもかも捨ててる夜は誰もいなくなりそうな予感がしてたことがあるときたりしないああ眠れない日がいることに思ってたけどありのままの集合渡いシグナル今の僕は乗っていらない痛い心抱きしめた頃に火をつけたなら正直な人より一番細な世界だけがあわせてスケジュールで笑いあげる気がするけどもう一度絶好きなキミと過ごして泣いているよHurry Up!今の僕を明日も二人になるなんて思わないでどこまでも少し思いことで見つめあっている平和な花火星を忘れない苦手に道をあげる一緒になれ飛んでくれる君の影も気づいてたけどああ眠れない日がいることに思っ\n",
            "=== GENERATED SEQUENCE 19 ===\n",
            "波を越えてくれる自分もかわらず正直もその手は暗い月はany more その手に触れる景色は僕にイカされない君の胸にその手を振り返らないそして今日も最後にはその笑顔があるんでるどうしても思ってもいつかはこないそれだけでいい腹を淹れるものだろう見えないことだとしても怖くないんだと言いたいんだと涙ぬほど恋のいろうものは何かが言えないよどこにいるのは悪いよおせる自分もかわず正直もその手は暗い月はany moreまた目が覚める時にはまだある残っているようなその手を振り返らないそして今日も最後にはその笑顔があるんでるどうしても思ってもいつかはこないそれだけでいい闇の中で世界の中じゃないと思ってもいつかはこないそれだけでいい面倒臭いイケな暗闇を呼ぶといっしょに少し思いが解き放りするのは遠くまでケンカしてくれる前に手をつないでくれる残っているようなその手を振り返らないそして今日も最後にはその笑顔があるんでるどうしても思ってもいつかはこないそれだけでいい闇の中で叫んで僕らはある正直もその�\n",
            "=== GENERATED SEQUENCE 20 ===\n",
            "波係が与えていたいけどど今すぐ行くのはやっぱり人の力を見つけるように僕は居心地無理矢理不足で歩こう今すぐ行くのはやっぱり人の力を見つけるように泣かないねこんな場所などなんて行ったってそんな今すぐ行くのはやっぱり人の力を見つけるように泣かない何も言わずに愛しあえたのそれぞれの前にそれぞれの道しかないと気づいたなんてI will survive, yes I will survive決壊したままで戦い扉の前で 今をそっと空に戻りたいのは悔やかな毎日をくれば終わった単純な単純を 一日をくれ入れるように見えないで 本当には戻りたいはしょうもないよいつでも当たり傷つけたあの感情が うらめられないけど もしかしかしたといつの時代もかけがけがけがけがけに会うのは 欲しいものまなざしが 間中制店に 来るアルバムさまような君の顔拝えてしまったよ何もかもが すり次から遠くまで遠くに抜けたのは もうひとつの時代も錯覚も 見えない胸の中少々の 来月吹いくともにわかりあえたならたまま正直も 心の底に吹き飛び込んでゆく みんな\n"
          ],
          "name": "stdout"
        }
      ]
    },
    {
      "cell_type": "code",
      "metadata": {
        "colab": {
          "base_uri": "https://localhost:8080/"
        },
        "id": "B32qCzrtvYr-",
        "outputId": "80b16830-4c8f-401b-a1d9-be458017e04e"
      },
      "source": [
        "!python transformers/examples/pytorch/text-generation/run_generation.py \\\n",
        "    --model_type=gpt2 \\\n",
        "    --model_name_or_path='finetune_gpt2' \\\n",
        "    --prompt \"まだ暑い\" \\\n",
        "    --length=600 \\\n",
        "    --num_return_sequences=20"
      ],
      "execution_count": 20,
      "outputs": [
        {
          "output_type": "stream",
          "text": [
            "2021-05-28 06:55:07.363594: I tensorflow/stream_executor/platform/default/dso_loader.cc:53] Successfully opened dynamic library libcudart.so.11.0\n",
            "05/28/2021 06:55:08 - WARNING - __main__ -   device: cuda, n_gpu: 1, 16-bits training: False\n",
            "05/28/2021 06:55:13 - INFO - __main__ -   Namespace(device=device(type='cuda'), fp16=False, k=0, length=600, model_name_or_path='finetune_gpt2', model_type='gpt2', n_gpu=1, no_cuda=False, num_return_sequences=20, p=0.9, padding_text='', prefix='', prompt='まだ暑い', repetition_penalty=1.0, seed=42, stop_token=None, temperature=1.0, xlm_language='')\n",
            "Setting `pad_token_id` to `eos_token_id`:50256 for open-end generation.\n",
            "=== GENERATED SEQUENCE 1 ===\n",
            "まだ暑いたら何をあげて楽しい日々の流れ生きてる歩き出す少々の口をつけようぜ泣いたことだけどそんなに世界が次の誰かを品定めるだろう信じていたけど正直なやつがたまらなけりゃ朝が来たんだと思わせるんだ気づかないものを守りたいと感じたら逃げていただ欲望さらしい日々の流れ落ちてゆく世界が次の誰かを品定めるだろう気づかないものを守りたいと感じたら逃げていただ欲望さらしい日々の流れ生きてる歩き出すそんなに泣いたことだけどそんなに世界が次の誰かを品定めるだろう歩き出すそんなに泣いたことだけどそんなに世界が次の誰かを品定めるだろう息を飲み干してくれる声を聞かせて止まりを歩いてゆくと言い聞かせて逢いただ欲望さらしい日々の流れ生きてる歩き出す泣いたことだけどそんなに世界が次の誰かを品定めるだろう息を飲み干してくれる風が吹いて鳥かせて夢は僕にもそれぞれの花を抱いて雲が歓びだして僕は雲が歓喜の匂いさを許せないあなたと今日が終り重なる\n",
            "=== GENERATED SEQUENCE 2 ===\n",
            "まだ暑いているよ暑いているよそれがハナシだけが退屈だと 今日も無くしてる日だったと思う？邪魔が痛みも一緒に火あえる 心みに傷ついてゆく僕に舞いを舞う なんかないなんてだらだらだらだら 逃げないで ここから食欲なさそうで繋がっている目を閉じたい 燃え上がる どこにも行こう 心みに誰かの腕の中 白い花びらが道なりそいても風は無駄にしがみついてる風は誰かの腕ひとつでも手を振る笑顔には取り戻せ君が鮮明な明日を見つめて時は揺れてきた言葉が生まれる一緒に火あえる 心みに傷ついてゆく 心みに笑顔には取り戻せあがるブルージーなのか ここから食欲なさそうで繋がっている僕に舞いを舞う なんかないなんてだらだら 逃げないで ここから食欲なさそうで繋がっている何がはゆっくりと目を閉じたい 燃え上がる どこにも行こう 心みに誰かの腕の中 白い花びらが道なりそいても風は無駄にしがみついてる風は誰かの腕ひとつでも手を振る笑顔には取り戻せ心かわさない そうでしょう そうでいきたい\n",
            "=== GENERATED SEQUENCE 3 ===\n",
            "まだ暑いている明日は一人過ぎるボクのある運命なんだからKeep On My Girlただただただこの街に打ちのめされてEat The LockぶつなさにされてEat The Lock流れてもまた目を覚ましたせんふりむくえど時間がまだ 追いかけてくれた新しいヒマもあきらめないよ 日ともきのないものなんかもKeep On My Girl帰るから流されてゆくだけじゃ 楽なことないんだよ君だけが 逃げないで これでも 僕を見ていたけど今さら愛も 負けないよKeep On My Girl言葉も 時は泳じゃないよKeep On My Girlまだまだ暑いている明日は一人過ぎるボクのある運命なんだからKeep On My Girlただただこの街に打ちのめされてEat The Lock流れてもまた目を覚ましたせんふりむくえど時間がまだ 追いかけてくれた新しいヒマもあきらめないよ 日ともきのないものなんかもKeep On My Girl帰るから流されてゆくだけじゃ 楽なことないんだよ君だけが 逃げないで これでも 僕を見ていたけど今さら愛も 負けないよKeep On My Girl愛も 負けないよ感じてゆくだけじゃ 楽なことないんだよ君だけが 逃げないで これでも 僕を見ていたけど今さら愛も 負けないよ感じゃないで その言うものだろう見\n",
            "=== GENERATED SEQUENCE 4 ===\n",
            "まだ暑いていた何もかも 見えている道徳不道路地図乱れ町と戸惑いを愛したい戸惑いを愛したい戸惑い爪になれば君の甘い風音の向こう側mercy mercy pleaseからまた始めよう明日にかくるならねホントかならあんなに見えてよ明日にまでムズムズしてるかい それはどこにあるんだろう わからないね何も捨てられない時間を 一人 一人眠る未来に一緒に笑いたい何もかも 見えている道徳不道路地図乱れ一緒に笑いたいいどんな時でも 見えている道徳不道路地図乱れ町と戸惑いを愛したい戸惑いを愛したい戸惑い爪になれば君の甘い風音の向こう側mercy mercy pleaseからまた始めよう明日にかくるならねホントかならあんなに見えてよ今日はどんなときゃどんなことでもあったんだろう わからないね 何も捨てられない時間を 一人 一人眠る未来に一緒に笑いたい何もかも 見えている道徳不道路地図乱れ一緒に笑いたいい何もかも 見えている道徳不道路地図乱れ一緒に笑いたい何もかも 見えている道徳不道路地図乱れ一緒に笑いたい何もかも 見�\n",
            "=== GENERATED SEQUENCE 5 ===\n",
            "まだ暑いたら笑顔だけがいいそのうち言葉だけがこの街にとられば いいつまでも夢の深さだけさゆくその歴先に道どおり進むだと思ってはじめるwating so longwating too longI've been wating for you so longあなたのしかい勝手にいつまでも永遠の憧れたあなたのいの心の声中でどんなときもとあってでも永遠の憧れたあなたのい隠悟をナメて少しのべらくもり小さな部屋で会えるなら今もう去れないものどこにあるwating too longI've been wating for you so longあなたのしかい勝手にいつまでも永遠の憧れたあなたのいの心の声中でどんなときもとあってでも永遠の憧れたあなたのい隠悟をナメて会えるなら今もう去れないものどこにあるwating too longI've been wating for you so longあなたのしかい勝手にいつまでも永遠の憧れたあなたのいの心の声中でどんなときもとあってでも永遠の憧れたあなたのいwating too longI've been wating for you so longあなたのしかい勝手にいつまでも永遠の憧れたあなたのいwating too longあなたのしかい勝手にいつまでも永遠の憧れ優しく浮かぶあの日 日の色に目を閉じる脈にこの流れさえちゃしないでその手は身をふりましょうそして荒れ傷つけてしまうけれどしょうものは今じ�\n",
            "=== GENERATED SEQUENCE 6 ===\n",
            "まだ暑いたい何も言わないでそのままでいきなり言いたくてもそんなに誰かを傷つけてくれたんだろHeybrother,唇をつけてこの街に手をつないで新しい男のようにもやってさやいてみましょセンスをまた出せてよBlue僕をはらくとんでこの街に越えて見せようそして僕らを見ようとんでこの街に笑ってゆくだけじゃ男よBlue一緒にいられるよBlue一緒にいられるよいらしたフリをみたいに夜が明けるまでいきなり言いたくてもそんなに誰かを傷つけてくれたんだろHeybrother,唇をつけてこの街に手をつないで新しい男のようにもやってさやいてみましょセンスをまた出せてよBlue一緒をはらくとんでこの街に越えて見せようそして僕らを見ようとんでこの街に笑ってゆくだけじゃ男よBlue僕をはらくとんでこの街に越えて見せようそして僕らを見ようとんでこの街に笑ってゆくだけじゃ僕は僕の中で会えるよGood News brother旅すりゃ疲れた時でも昨日は途切れちゃいない景色は今になれると思う？僕ら不安は僕を見つめあってるいくつも降り抱きしめたい永遠の縛らした恋人の気持\n",
            "=== GENERATED SEQUENCE 7 ===\n",
            "まだ暑いたい事情に僕らを影で鳴るだろう夏の日にも止まれた事情どうなる僕らが胸に響いている夢の中が暮れ違えるだろう僕らの夢は今どこまでもいいことだとけないだろう暑いたい事情に僕らを一番情どうなるだろう夏の日にも明日もまっすぐ見せるほどの空にも今日もまっすぐ叫んでるこの身を心でも一番冷たい続けた僕らだけの会話がもちょっと利用に逝ってはいらないことだけないだろう暑いたい事情に僕らを一番情どうなるだろう夏の日にも明日もまっすぐ見せるほどの空にも今日もまっすぐ叫んでるこの身を心でも照らすぐ忘れないことだけないだろう暑いたい事情に僕らを一番情どうなるだろう夏の日にも明日もまっすぐ見せるほどの空にも今日もまっすぐ叫んでるこの身を心でも照らすぐ叫んでるこの身を心でも存分やかな一日会う力が今もう少しだけ見える素敵な言葉が気にとけられないと思う空高く空高く昇ってこの波見上げ真ん中に身内も旅立ちも恋という旅立ちも僕ときらめく絆きつい\n",
            "=== GENERATED SEQUENCE 8 ===\n",
            "まだ暑いている残ってみるよ本当に優しくなれるのは僕にいるI'm a baby もうちょっと踊る風景並んで反省も反朽も光るように美しく飲んで青ざいて誤解も沼く光るだろう暑いている残ってみるよ優しくなれるのは何故だ一人きりの匂いだけで謎えている暑いている残ってみるよ本当に優しくなれるのは何故だ一人きりの匂いだけで笑ってくれるだろう暑いている残ってみるよ優しくなれるのは何故だ一人きりの匂いだけで笑ってくれるだろう暑いている残ってみるよ本当に優しくなれるのは何故だ一人きりの匂いだけで笑ってくれるだろう暑いている残ってみるよ優しくなれるのは何故だ一人きりの匂いだけで手をのばしもがいてくれるアイデアも鍵が笑ってるホントの気持ちいいことなど何も見つめあっているホント どんなにも見えないのに暗い部屋のように生きるのはきみんなの欲しい物はひとつ夢を越えたとしても陽が沈めている冷たい景色もまた風に見てたやすく残ってみるよ本当に優しくなれるのは何故だ一人きりの匂いだけで笑ってくれるだ\n",
            "=== GENERATED SEQUENCE 9 ===\n",
            "まだ暑いていた時間がやってきたんだ目を開くだけはじまらないと口に出し違えてる荒野生までこんなに無駄虫な再会話で再会った日々が荒野生僕もまた出して笑ってみるわたしもうけどそうyou're my angel華やかな夜だけで迷いを失くしたあなたの言葉はもう何もいらないところで現代怯をとりあえず終わらないと誰も気づいてゆく星ロボーイの向こう側で側の上が求めるなら今さら言わせという自分をはきだして怖くなら錯覚められないで何かが忘れないでもいい写真を変えられない相手が見えたなら本当は荒野生までこんなに無駄虫な再会話で再会った日々が荒野生僕もまた出して笑ってみるわたしもうけどそうyou're my angel僕らの言葉はもう一度できっといっしょにいような気分できっといっしょに君に教えてくれた日々が荒野生僕もまた出して笑ってみるわたしもうけどそうyou're my angel君にはっきり気づいたならいっしょにいれば寂しさみしくずに突きささる優しさまに見つかるの甘い夢見向きみがすべては帰ってしまったんだろういい声で\n",
            "=== GENERATED SEQUENCE 10 ===\n",
            "まだ暑いたい何も言わせないでそのままでいいことだとすぐに会いにしたいよBaby, それが勇気っても全部出しても僕を引き裂ける傷だらけのように見えるようなその深い橋の上に新しい理由がやってらって涙流される風に吹き抜けるまでBaby, シカトンになるほど激しくないよBaby, シカトンひとつでもかまわないでBaby, どこにあるのかイチブってるよ濡れた顔のような物に似たよなんて逆られたままアダメのようなその声が胸に抱いて逃げるよ生まれかわないでBaby, シカトンになるほど激しくないよBaby, どこにあるのかイチブってるよ濡れた顔のような物に似たよなんて逆られたままアダメのようなその声が胸に抱いて逃げるよ生まれかわないでBaby, シカトンになるほど激しくないよBaby, どこにあるのかイチブってるよ濡れた顔のような物に似たよなんて逆られたままアダメのようなその声が胸に抱いて逃げるよ生まれかわないでBaby, シカトンになるほど激しくないよBaby, どこにあるのかイチブってるよ濡れた顔のような物に似たよなんて逆られたままアダメのようなその声が胸に抱いて逃げるよ生まれかわない\n",
            "=== GENERATED SEQUENCE 11 ===\n",
            "まだ暑いたら僕は しゃぐ見せたいWoo好きなことじゃないよあるはずっと旅すね祭りのアイツを囁くようにその色を包んでいくのはワタクシ(やっぱりね)を抱いて忘れないよあなたの甘い気持ちのシチュエーションはあなたの背中で笑い飛んでくれる人よみが止まりの中不意を見つめてよあなたのぬくもりがりの間は風前の中真っ白い月の方一日を見よう続けてこの手を走り出しあなたのぬくもりがりの間はそばにいるどこでもあれば何かが動くなるボクを真っ白い月の方一日を超える思い出せずに笑ってほしいあなたのぬくもりがりの間は風前の中真っ白い月の方ひとりで眠ったあなたのぬくもりがりの間は月の中ひとりで響いて払いた消えてゆくの悪いすべてを真っ白い月の方ひとりで眠ったあなたのぬくもりがりの間は風前の中真っ白い月の方ひとりで眠った見ろうとしてみよう空はきっと消えないならひとりぼっちに描きいてた鳥の空は真っ白い月の方ひとりで眠った見ろうとしてみよう空はきっと消えないなら手に足りない雲を追いかけた者の大胆さ揺れた優しさ\n",
            "=== GENERATED SEQUENCE 12 ===\n",
            "まだ暑いたい強く抱きしめたい雨が 来るまで気づいただろう暑いたい強く抱きしめたいだけど今はまだ泣かないでいらつまでも僕は君は目の前に見たいわきましょこんなことを思いおとした彼女は いつでもは目の前に見たいわきましょう今まで気づいただろう暑いたい強く抱きしめたい今はまだ泣かないでいらつまでも僕は君は目の前に見たいわきましょう何も捨てらんない僕らのBig Bang毎日を過ごしてくれる君はのめに憂さを変える明日、何も変わらない勇気が気になってる一体は今ここにあるまで僕は痛くなってる君はとても思いきり戻ってはいつもどこかにいるよこれは変えられない今一度この胸で砂の中がじめのすべてを滑り求める風は知らん顔見せてきた僕らのBig Bang夏田中も悲しみも傷つけあうまくいっしょにいると世間が過ぎてしまった君が僕に教えてくれる消えない事小さなことでしかわいこんな気分でも広がっている一気付いたい消えない事小さなことでしかわいそんなの人を見つければいいいつの日か変われることはないけれどなにも思ってた時代ははまだは\n",
            "=== GENERATED SEQUENCE 13 ===\n",
            "まだ暑いたらかし続けてる反省もわかりに愛しい人よGood Night...消えてしまいたくなる小さなベッドで止まれたまに踊る僕は次のショウトワタシで反省もわかりに愛しい本当はない人よGood Night...それこそがあるときまで消えてしまいたくなる暑いたらかし続けてる反省もわかりに愛しい人よGood Night...消えてしまいたくなる小さなベッドで止まれたまに踊る僕は次のショウトワタノケで反省もわかりに愛しい本当はない人よGood Night...消えてしまいたくなる小さなベッドで止まれたまに踊る僕は次のショウトワタノケで反省もわかりに愛しい本当はない人よGood Night...消えてしまいたくなる小さなベッドで止まれたまに踊る僕は次のショウトワタノケで反省もわかりに愛しい本当はない人よGood Night...消えてしまいたくなる小さなベッドで止まれたまに踊る僕は次のショウトワタノケで反省もわかりに愛しい本当はない人よGood Night...消えてしまいたくなる小さなベッドで止まれたまに踊る僕は次のショウトワタノケで反省もわかりに愛しい本当はない人よGood Night...消えてしまいたくなる小さなベッドで止まれたまに踊る僕は次のショウトワタノケで反省\n",
            "=== GENERATED SEQUENCE 14 ===\n",
            "まだ暑いたい何も言わない離れても静かに溶けていっても新しい瞬間だけが夜が消えていってもいつか喜びだけが何時間(とき)だろうそれを知ってないままでいきたい見せめたことがってみたいなんとかどうしてもかまいちょっといっしょに誰が夢見ているんだと僕をわちゃうような顔がするだけですけど何も言わない離れても静かに溶けていっても新しい瞬間だけが夜が消えていっても喜びだけが何時間(とき)だろうそれを知ってないままでいきたい見せめたことがってみたいなんとかどうしてもかまいちょっといっしょに誰が夢見ているんだとしたことがってみたいなんとかどうしてもかまいちょっといっしょに今があった街で強く道をあげるあの隙間を 君に浴びてゆくブルージー汗かぶしで あんたらくいいよねって いい ヨロカのような君の上にも 踊らせない景色が 生きつづけるラララ 時間(とき)だけが 叫びまま ヨロビのものでもがっかりないよララ 時間(とき)だけが 叫びまま キャンバスゲートに暮らしてゆくよ 気が暮らしてゆくという言葉が 一瞬にしがみつ\n",
            "=== GENERATED SEQUENCE 15 ===\n",
            "まだ暑いたい明日にいこう遠く 憂いものが見届けようすべてが僕を包んでくれる全部 君に見ている僕は自分にもう一度 性格がれば明日にいこうあってもその手は逢うことはしないありがとう旅にとっちにならないことそんな時が流れてしまうそれは夜が消えてゆくところ それは幸せにもいいんだと 見えたくなる暑いたい明日にいこうものが見届けようすべてが僕を包んでくれる何気に吐きだした僕は自分にもう一度 性格がれば明日にいこうあってもその手は逢うことはしないありがとう旅にとっちにならないことそんな時が流れてしまう願ってしまうそれは夜が消えてゆくところ それは幸せにもいいんだと 見えたくなる暑いたい明日にいこうものが見届けようすべてが僕を包んでくれる何気に吐きだした僕は自分にもう一度 性格がれば明日にいこうあってもその手は逢うことはしないありがとう旅にとっちにならないことそんな時が流れてしまうそれは夜が消えてゆくところ それは幸せにもいいんだと 見えたくなる暑いたい明日にいこうものが見届けようすべてが僕を包んでく\n",
            "=== GENERATED SEQUENCE 16 ===\n",
            "まだ暑いたら ここから 麻痺に気づいてる人はボクからチャラチャラ捨てても探しても気分がある運命 君 TO THE RIPPER今何にでもきらいなくなるような瞬間を 生きよう 毎日が過ぎて それは RIPPERどうしてもいいHappy Birthday Happy BirthdayHappy Birthday オメ ハデトウHappy Birthday To You(今日はホテムー)この先に手をふるよ大丈夫 もうひとりで新しいほど大事に ジューニンパイアラバー Happy Birthday Happy Birthday オメ ハデトウHappy Birthday To You(今日はホテムー)Happy Birthday To You毎日が迎えない それでいいHappy Birthday Happy BirthdayHappy Birthday オメ ハデトウHappy Birthday To You(毎日はホテムー)Happy Birthday To You毎日が絶対に沁みつけるようにラストランス桟のようにひとりだけに滑り合うついてもいいHappy Birthday Happy Birthday オメ ハデトウHappy Birthday To You(毎日はホテムー)Happy Birthday To You毎日が絶対に沁みつけるようにラストランス桟のようにひとりだけに滑り合うついてもいいHappy Birthday Happy BirthdayHappy Birthday オメ ハデトウHappy Birthday To You(毎日はホテムー)Happy Birthday To You毎日が迎えない それでいいHappy Birthday Happy BirthdayHappy Birthday オメ ハデトウHappy Birthday To You(毎日はホテムー)Happy Birthday To You毎日が絶対に沁みつけるようにラストランス桟のようにひとりだけに滑り合うついてもいいHappy Birthday Happy Birthday オメ ハデトウHappy Birthday\n",
            "=== GENERATED SEQUENCE 17 ===\n",
            "まだ暑いたい何も言わないだけだめこの背中が羨み胞すんでゆくよ誰かが僕をナメてみようように愛しい人なんかはみなぞれ止まらない？どんな顔でも自分の弱さ誰かを全部あえる誰かといちょっと始まっているようにどんなに熱く言ってもやろうとしてるよNow is the time狭き門を行くよそれは確かにこのままで時間が前に戦いさえあればいいと思ってもこの胸では一番笑いながら追いかけている人なんかは誰かを全部あえるだけでもいいそしてそれでも君は一番胸であなたの心の平和をあげるいったい誰かじゃいないそれでもいいそれでも届かない胸をあげるいったい誰かじゃいないそれでもいいそれでも夢見てるもうすぐに言えばいいじゃない何もいらない行ってこと言いたい僕の心は一番笑いながらあふれだして何かは待っているよどんなに時の流れさがしているそんなこと何度終り愛しあってしまえばいいそれでもいいそれでもいいそれでも君は一番胸であなたの心の平和をあげるいったい星はまだ見えない日々がおとずれていくださいこんなに強くあってしまうのか聞き飽きたい雨の海へと\n",
            "=== GENERATED SEQUENCE 18 ===\n",
            "まだ暑いていた時間は過ぎてくよDance with The Fearだれもが見えなくて手つきあえるのさDance with The Fear yeah yeahDance with The Fear誰もがきっとするけどまた後過ぎた習もあげていた女 テーブルのスブルが道See more妄想なのがイヤでことを 逃げてるDance with The Fear yeah yeahDance with The Fear yeah夜が明けるように ダメ ハデモルふられたような ダメデモルひとりじゃないのよ Dance with The Fear yeah yeah笑ってる ダメツブルのスブルもうたろんない悲しみのルーツをむさぼりのステップじゃないのよ Dance with The Fear yeah yeah yeahDance with The Fear yeah夜が明けるように ダメ ハデモルふられたような ダメデモルひとりじゃないのよ誰もが笑う ダメツブルのスブルもうたろんない悲しみのルーツをむさぼりのステップじゃないのよ Dance with The Fear yeah yeah yeah笑ってる ダメツブルのスブルもうたろんない悲しみのルーツをむBAD COMMUNICATION!!自分に現地がやってるよ憧れの街でほこの部屋に気づかない目を開けてゆこう知らないけどもうまいとわかってるよおまえの行方がいいとわかってるのはやめて目覚めてるよ待っているのはやめてどうしようもうまいとわかってるのはやめて見せられないよだからでおまえが時間違ってるのsomebody knowsあき\n",
            "=== GENERATED SEQUENCE 19 ===\n",
            "まだ暑いたい何も言わないだろう離れて泣いたこと言いたくないだろうさあ僕はそれぞれ違う人生をひきよそうに見つめあってもう一度…泣いたことはやめたくないだろうさあ僕はそれぞれどこまで人生のオカズになれ疲れてないことばかりいても泣いたことはなんにもいないろう肝重を手に入れば時間とともにちょっとはないだろうまた姿を抱き締めているかいあの声はマイ・オレ・ビ・ビなSPLASH!はかない本当はいつもあれば 明日の一番燃えあがるのか始まらないのはいつも心がギュース過ごしてくれる人のような正骨大な人だからあれば 愛しあげるけど何も言わないで人生のオカズになれさあ僕はそれぞれ違う人生をひきよそうに見つめあってもう一度…泣いたことはやめたくないだろうさあ僕はそれぞれ違う人生をひきよそうに見つめあってもう一度…泣いたことはやめたくないだろうさあ僕はそれぞれ違う人生をひきよそうに見つめあってもう一度…愛しきれないあの日の街角はどうしても気持ちないわかっていてもそばにいても始まらないで信じているよ気持ちないわかっていてもそばにいても\n",
            "=== GENERATED SEQUENCE 20 ===\n",
            "まだ暑いていた思い出されてみせようそれが大事なこと言ってる気持ちを入れようその先には何もいらない輝き合いにゃあってなんてその手をさしのべて知らないようにさらり泣いてくるはずもときず言葉でいたひとりぼっちになると気持ちが入れようその先には何もいらない輝き合いにゃあってなんてその手をさしのべて知らないようにさらり泣いてくるはずもときず強く思い出されてみせよう本気で笑いながら暑いていた思い出されてみせようそれが大事なこともあれようとき 深い笑えないあれもこれも 欲しいものだけど何も行くかもいないあれもひとりぼっちになると気持ちが入れようその先には何もいらない輝き合いにゃあってなんてその手をさしのべて知らないようにさらり泣いてくるはずもときず強く思い出されてみせよう本気で笑いながら暑いていた優しすぎるなら思い出されてみせようそれが大事なこともあれようとき 深い笑えないあれもこれも 欲しいものだけどこれも追いかけてみるよ暑いていた苦しすぎるなら思い出されてみせようそれが大事なこともあれ\n"
          ],
          "name": "stdout"
        }
      ]
    },
    {
      "cell_type": "code",
      "metadata": {
        "id": "7JC2yT3XwUzT"
      },
      "source": [
        ""
      ],
      "execution_count": null,
      "outputs": []
    }
  ]
}