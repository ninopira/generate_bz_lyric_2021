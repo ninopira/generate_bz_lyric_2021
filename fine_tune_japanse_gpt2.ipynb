{
  "nbformat": 4,
  "nbformat_minor": 0,
  "metadata": {
    "colab": {
      "name": "fine_tune_japanse_gpt2.ipynb",
      "provenance": [],
      "collapsed_sections": [],
      "toc_visible": true,
      "mount_file_id": "1mmTMfgurAYWqWW8DPiXyVCEIQH4kTC6s",
      "authorship_tag": "ABX9TyNc/WEfWaiQBYjwa1/pXEBl"
    },
    "kernelspec": {
      "name": "python3",
      "display_name": "Python 3"
    },
    "language_info": {
      "name": "python"
    },
    "accelerator": "GPU",
    "widgets": {
      "application/vnd.jupyter.widget-state+json": {
        "93ade0369002424883713cabc4b57120": {
          "model_module": "@jupyter-widgets/controls",
          "model_name": "HBoxModel",
          "state": {
            "_view_name": "HBoxView",
            "_dom_classes": [],
            "_model_name": "HBoxModel",
            "_view_module": "@jupyter-widgets/controls",
            "_model_module_version": "1.5.0",
            "_view_count": null,
            "_view_module_version": "1.5.0",
            "box_style": "",
            "layout": "IPY_MODEL_d27865f5cd86461087f21d6f64c4986e",
            "_model_module": "@jupyter-widgets/controls",
            "children": [
              "IPY_MODEL_8c43389c0fb5481c9fdd96e011db4a5c",
              "IPY_MODEL_5fef51f4635f46d9ac5c7834e6c6d91d"
            ]
          }
        },
        "d27865f5cd86461087f21d6f64c4986e": {
          "model_module": "@jupyter-widgets/base",
          "model_name": "LayoutModel",
          "state": {
            "_view_name": "LayoutView",
            "grid_template_rows": null,
            "right": null,
            "justify_content": null,
            "_view_module": "@jupyter-widgets/base",
            "overflow": null,
            "_model_module_version": "1.2.0",
            "_view_count": null,
            "flex_flow": null,
            "width": null,
            "min_width": null,
            "border": null,
            "align_items": null,
            "bottom": null,
            "_model_module": "@jupyter-widgets/base",
            "top": null,
            "grid_column": null,
            "overflow_y": null,
            "overflow_x": null,
            "grid_auto_flow": null,
            "grid_area": null,
            "grid_template_columns": null,
            "flex": null,
            "_model_name": "LayoutModel",
            "justify_items": null,
            "grid_row": null,
            "max_height": null,
            "align_content": null,
            "visibility": null,
            "align_self": null,
            "height": null,
            "min_height": null,
            "padding": null,
            "grid_auto_rows": null,
            "grid_gap": null,
            "max_width": null,
            "order": null,
            "_view_module_version": "1.2.0",
            "grid_template_areas": null,
            "object_position": null,
            "object_fit": null,
            "grid_auto_columns": null,
            "margin": null,
            "display": null,
            "left": null
          }
        },
        "8c43389c0fb5481c9fdd96e011db4a5c": {
          "model_module": "@jupyter-widgets/controls",
          "model_name": "FloatProgressModel",
          "state": {
            "_view_name": "ProgressView",
            "style": "IPY_MODEL_2dcc7761ac15493fb85cec3c52d1c52c",
            "_dom_classes": [],
            "description": "Downloading: 100%",
            "_model_name": "FloatProgressModel",
            "bar_style": "success",
            "max": 805634,
            "_view_module": "@jupyter-widgets/controls",
            "_model_module_version": "1.5.0",
            "value": 805634,
            "_view_count": null,
            "_view_module_version": "1.5.0",
            "orientation": "horizontal",
            "min": 0,
            "description_tooltip": null,
            "_model_module": "@jupyter-widgets/controls",
            "layout": "IPY_MODEL_6834b050126e44fc874658b630c94eea"
          }
        },
        "5fef51f4635f46d9ac5c7834e6c6d91d": {
          "model_module": "@jupyter-widgets/controls",
          "model_name": "HTMLModel",
          "state": {
            "_view_name": "HTMLView",
            "style": "IPY_MODEL_eb8f21dde9314212a9d23ed7fdea964b",
            "_dom_classes": [],
            "description": "",
            "_model_name": "HTMLModel",
            "placeholder": "​",
            "_view_module": "@jupyter-widgets/controls",
            "_model_module_version": "1.5.0",
            "value": " 806k/806k [31:55&lt;00:00, 421B/s]",
            "_view_count": null,
            "_view_module_version": "1.5.0",
            "description_tooltip": null,
            "_model_module": "@jupyter-widgets/controls",
            "layout": "IPY_MODEL_21e71bcdc4224ffb97a528fc80a90aee"
          }
        },
        "2dcc7761ac15493fb85cec3c52d1c52c": {
          "model_module": "@jupyter-widgets/controls",
          "model_name": "ProgressStyleModel",
          "state": {
            "_view_name": "StyleView",
            "_model_name": "ProgressStyleModel",
            "description_width": "initial",
            "_view_module": "@jupyter-widgets/base",
            "_model_module_version": "1.5.0",
            "_view_count": null,
            "_view_module_version": "1.2.0",
            "bar_color": null,
            "_model_module": "@jupyter-widgets/controls"
          }
        },
        "6834b050126e44fc874658b630c94eea": {
          "model_module": "@jupyter-widgets/base",
          "model_name": "LayoutModel",
          "state": {
            "_view_name": "LayoutView",
            "grid_template_rows": null,
            "right": null,
            "justify_content": null,
            "_view_module": "@jupyter-widgets/base",
            "overflow": null,
            "_model_module_version": "1.2.0",
            "_view_count": null,
            "flex_flow": null,
            "width": null,
            "min_width": null,
            "border": null,
            "align_items": null,
            "bottom": null,
            "_model_module": "@jupyter-widgets/base",
            "top": null,
            "grid_column": null,
            "overflow_y": null,
            "overflow_x": null,
            "grid_auto_flow": null,
            "grid_area": null,
            "grid_template_columns": null,
            "flex": null,
            "_model_name": "LayoutModel",
            "justify_items": null,
            "grid_row": null,
            "max_height": null,
            "align_content": null,
            "visibility": null,
            "align_self": null,
            "height": null,
            "min_height": null,
            "padding": null,
            "grid_auto_rows": null,
            "grid_gap": null,
            "max_width": null,
            "order": null,
            "_view_module_version": "1.2.0",
            "grid_template_areas": null,
            "object_position": null,
            "object_fit": null,
            "grid_auto_columns": null,
            "margin": null,
            "display": null,
            "left": null
          }
        },
        "eb8f21dde9314212a9d23ed7fdea964b": {
          "model_module": "@jupyter-widgets/controls",
          "model_name": "DescriptionStyleModel",
          "state": {
            "_view_name": "StyleView",
            "_model_name": "DescriptionStyleModel",
            "description_width": "",
            "_view_module": "@jupyter-widgets/base",
            "_model_module_version": "1.5.0",
            "_view_count": null,
            "_view_module_version": "1.2.0",
            "_model_module": "@jupyter-widgets/controls"
          }
        },
        "21e71bcdc4224ffb97a528fc80a90aee": {
          "model_module": "@jupyter-widgets/base",
          "model_name": "LayoutModel",
          "state": {
            "_view_name": "LayoutView",
            "grid_template_rows": null,
            "right": null,
            "justify_content": null,
            "_view_module": "@jupyter-widgets/base",
            "overflow": null,
            "_model_module_version": "1.2.0",
            "_view_count": null,
            "flex_flow": null,
            "width": null,
            "min_width": null,
            "border": null,
            "align_items": null,
            "bottom": null,
            "_model_module": "@jupyter-widgets/base",
            "top": null,
            "grid_column": null,
            "overflow_y": null,
            "overflow_x": null,
            "grid_auto_flow": null,
            "grid_area": null,
            "grid_template_columns": null,
            "flex": null,
            "_model_name": "LayoutModel",
            "justify_items": null,
            "grid_row": null,
            "max_height": null,
            "align_content": null,
            "visibility": null,
            "align_self": null,
            "height": null,
            "min_height": null,
            "padding": null,
            "grid_auto_rows": null,
            "grid_gap": null,
            "max_width": null,
            "order": null,
            "_view_module_version": "1.2.0",
            "grid_template_areas": null,
            "object_position": null,
            "object_fit": null,
            "grid_auto_columns": null,
            "margin": null,
            "display": null,
            "left": null
          }
        },
        "789b7730b35b45148dff0dcfe2c3827e": {
          "model_module": "@jupyter-widgets/controls",
          "model_name": "HBoxModel",
          "state": {
            "_view_name": "HBoxView",
            "_dom_classes": [],
            "_model_name": "HBoxModel",
            "_view_module": "@jupyter-widgets/controls",
            "_model_module_version": "1.5.0",
            "_view_count": null,
            "_view_module_version": "1.5.0",
            "box_style": "",
            "layout": "IPY_MODEL_c969bc9793c046e280d4c4cf74e5954b",
            "_model_module": "@jupyter-widgets/controls",
            "children": [
              "IPY_MODEL_7ce208f89b90462b914b02b051306de7",
              "IPY_MODEL_502782be709345f98e77d620ab73b2f8"
            ]
          }
        },
        "c969bc9793c046e280d4c4cf74e5954b": {
          "model_module": "@jupyter-widgets/base",
          "model_name": "LayoutModel",
          "state": {
            "_view_name": "LayoutView",
            "grid_template_rows": null,
            "right": null,
            "justify_content": null,
            "_view_module": "@jupyter-widgets/base",
            "overflow": null,
            "_model_module_version": "1.2.0",
            "_view_count": null,
            "flex_flow": null,
            "width": null,
            "min_width": null,
            "border": null,
            "align_items": null,
            "bottom": null,
            "_model_module": "@jupyter-widgets/base",
            "top": null,
            "grid_column": null,
            "overflow_y": null,
            "overflow_x": null,
            "grid_auto_flow": null,
            "grid_area": null,
            "grid_template_columns": null,
            "flex": null,
            "_model_name": "LayoutModel",
            "justify_items": null,
            "grid_row": null,
            "max_height": null,
            "align_content": null,
            "visibility": null,
            "align_self": null,
            "height": null,
            "min_height": null,
            "padding": null,
            "grid_auto_rows": null,
            "grid_gap": null,
            "max_width": null,
            "order": null,
            "_view_module_version": "1.2.0",
            "grid_template_areas": null,
            "object_position": null,
            "object_fit": null,
            "grid_auto_columns": null,
            "margin": null,
            "display": null,
            "left": null
          }
        },
        "7ce208f89b90462b914b02b051306de7": {
          "model_module": "@jupyter-widgets/controls",
          "model_name": "FloatProgressModel",
          "state": {
            "_view_name": "ProgressView",
            "style": "IPY_MODEL_23f7fc77539f439a84fed8cab51e6070",
            "_dom_classes": [],
            "description": "Downloading: 100%",
            "_model_name": "FloatProgressModel",
            "bar_style": "success",
            "max": 153,
            "_view_module": "@jupyter-widgets/controls",
            "_model_module_version": "1.5.0",
            "value": 153,
            "_view_count": null,
            "_view_module_version": "1.5.0",
            "orientation": "horizontal",
            "min": 0,
            "description_tooltip": null,
            "_model_module": "@jupyter-widgets/controls",
            "layout": "IPY_MODEL_58ca2cb3e05648eab620ac66a6435fc2"
          }
        },
        "502782be709345f98e77d620ab73b2f8": {
          "model_module": "@jupyter-widgets/controls",
          "model_name": "HTMLModel",
          "state": {
            "_view_name": "HTMLView",
            "style": "IPY_MODEL_9f350af167844216b504d0de542e7d5d",
            "_dom_classes": [],
            "description": "",
            "_model_name": "HTMLModel",
            "placeholder": "​",
            "_view_module": "@jupyter-widgets/controls",
            "_model_module_version": "1.5.0",
            "value": " 153/153 [00:00&lt;00:00, 214B/s]",
            "_view_count": null,
            "_view_module_version": "1.5.0",
            "description_tooltip": null,
            "_model_module": "@jupyter-widgets/controls",
            "layout": "IPY_MODEL_a725b0b8271b4807bde2d8caf83801a9"
          }
        },
        "23f7fc77539f439a84fed8cab51e6070": {
          "model_module": "@jupyter-widgets/controls",
          "model_name": "ProgressStyleModel",
          "state": {
            "_view_name": "StyleView",
            "_model_name": "ProgressStyleModel",
            "description_width": "initial",
            "_view_module": "@jupyter-widgets/base",
            "_model_module_version": "1.5.0",
            "_view_count": null,
            "_view_module_version": "1.2.0",
            "bar_color": null,
            "_model_module": "@jupyter-widgets/controls"
          }
        },
        "58ca2cb3e05648eab620ac66a6435fc2": {
          "model_module": "@jupyter-widgets/base",
          "model_name": "LayoutModel",
          "state": {
            "_view_name": "LayoutView",
            "grid_template_rows": null,
            "right": null,
            "justify_content": null,
            "_view_module": "@jupyter-widgets/base",
            "overflow": null,
            "_model_module_version": "1.2.0",
            "_view_count": null,
            "flex_flow": null,
            "width": null,
            "min_width": null,
            "border": null,
            "align_items": null,
            "bottom": null,
            "_model_module": "@jupyter-widgets/base",
            "top": null,
            "grid_column": null,
            "overflow_y": null,
            "overflow_x": null,
            "grid_auto_flow": null,
            "grid_area": null,
            "grid_template_columns": null,
            "flex": null,
            "_model_name": "LayoutModel",
            "justify_items": null,
            "grid_row": null,
            "max_height": null,
            "align_content": null,
            "visibility": null,
            "align_self": null,
            "height": null,
            "min_height": null,
            "padding": null,
            "grid_auto_rows": null,
            "grid_gap": null,
            "max_width": null,
            "order": null,
            "_view_module_version": "1.2.0",
            "grid_template_areas": null,
            "object_position": null,
            "object_fit": null,
            "grid_auto_columns": null,
            "margin": null,
            "display": null,
            "left": null
          }
        },
        "9f350af167844216b504d0de542e7d5d": {
          "model_module": "@jupyter-widgets/controls",
          "model_name": "DescriptionStyleModel",
          "state": {
            "_view_name": "StyleView",
            "_model_name": "DescriptionStyleModel",
            "description_width": "",
            "_view_module": "@jupyter-widgets/base",
            "_model_module_version": "1.5.0",
            "_view_count": null,
            "_view_module_version": "1.2.0",
            "_model_module": "@jupyter-widgets/controls"
          }
        },
        "a725b0b8271b4807bde2d8caf83801a9": {
          "model_module": "@jupyter-widgets/base",
          "model_name": "LayoutModel",
          "state": {
            "_view_name": "LayoutView",
            "grid_template_rows": null,
            "right": null,
            "justify_content": null,
            "_view_module": "@jupyter-widgets/base",
            "overflow": null,
            "_model_module_version": "1.2.0",
            "_view_count": null,
            "flex_flow": null,
            "width": null,
            "min_width": null,
            "border": null,
            "align_items": null,
            "bottom": null,
            "_model_module": "@jupyter-widgets/base",
            "top": null,
            "grid_column": null,
            "overflow_y": null,
            "overflow_x": null,
            "grid_auto_flow": null,
            "grid_area": null,
            "grid_template_columns": null,
            "flex": null,
            "_model_name": "LayoutModel",
            "justify_items": null,
            "grid_row": null,
            "max_height": null,
            "align_content": null,
            "visibility": null,
            "align_self": null,
            "height": null,
            "min_height": null,
            "padding": null,
            "grid_auto_rows": null,
            "grid_gap": null,
            "max_width": null,
            "order": null,
            "_view_module_version": "1.2.0",
            "grid_template_areas": null,
            "object_position": null,
            "object_fit": null,
            "grid_auto_columns": null,
            "margin": null,
            "display": null,
            "left": null
          }
        },
        "0e18aec7e02f4bda8b6e3d76d512330b": {
          "model_module": "@jupyter-widgets/controls",
          "model_name": "HBoxModel",
          "state": {
            "_view_name": "HBoxView",
            "_dom_classes": [],
            "_model_name": "HBoxModel",
            "_view_module": "@jupyter-widgets/controls",
            "_model_module_version": "1.5.0",
            "_view_count": null,
            "_view_module_version": "1.5.0",
            "box_style": "",
            "layout": "IPY_MODEL_461f617ca7b847ceb52d6bc47a7b453e",
            "_model_module": "@jupyter-widgets/controls",
            "children": [
              "IPY_MODEL_32207ae7a4804e8b80f40bcc58124f32",
              "IPY_MODEL_57ec7f3a9a1a427bae1c482b11c1701d"
            ]
          }
        },
        "461f617ca7b847ceb52d6bc47a7b453e": {
          "model_module": "@jupyter-widgets/base",
          "model_name": "LayoutModel",
          "state": {
            "_view_name": "LayoutView",
            "grid_template_rows": null,
            "right": null,
            "justify_content": null,
            "_view_module": "@jupyter-widgets/base",
            "overflow": null,
            "_model_module_version": "1.2.0",
            "_view_count": null,
            "flex_flow": null,
            "width": null,
            "min_width": null,
            "border": null,
            "align_items": null,
            "bottom": null,
            "_model_module": "@jupyter-widgets/base",
            "top": null,
            "grid_column": null,
            "overflow_y": null,
            "overflow_x": null,
            "grid_auto_flow": null,
            "grid_area": null,
            "grid_template_columns": null,
            "flex": null,
            "_model_name": "LayoutModel",
            "justify_items": null,
            "grid_row": null,
            "max_height": null,
            "align_content": null,
            "visibility": null,
            "align_self": null,
            "height": null,
            "min_height": null,
            "padding": null,
            "grid_auto_rows": null,
            "grid_gap": null,
            "max_width": null,
            "order": null,
            "_view_module_version": "1.2.0",
            "grid_template_areas": null,
            "object_position": null,
            "object_fit": null,
            "grid_auto_columns": null,
            "margin": null,
            "display": null,
            "left": null
          }
        },
        "32207ae7a4804e8b80f40bcc58124f32": {
          "model_module": "@jupyter-widgets/controls",
          "model_name": "FloatProgressModel",
          "state": {
            "_view_name": "ProgressView",
            "style": "IPY_MODEL_e8a92ca0957a45e792385372da5551de",
            "_dom_classes": [],
            "description": "Downloading: 100%",
            "_model_name": "FloatProgressModel",
            "bar_style": "success",
            "max": 225,
            "_view_module": "@jupyter-widgets/controls",
            "_model_module_version": "1.5.0",
            "value": 225,
            "_view_count": null,
            "_view_module_version": "1.5.0",
            "orientation": "horizontal",
            "min": 0,
            "description_tooltip": null,
            "_model_module": "@jupyter-widgets/controls",
            "layout": "IPY_MODEL_90740cce4c504e5ea7cb6a1741c80830"
          }
        },
        "57ec7f3a9a1a427bae1c482b11c1701d": {
          "model_module": "@jupyter-widgets/controls",
          "model_name": "HTMLModel",
          "state": {
            "_view_name": "HTMLView",
            "style": "IPY_MODEL_cc1b392785594f10b618df16fc2501bb",
            "_dom_classes": [],
            "description": "",
            "_model_name": "HTMLModel",
            "placeholder": "​",
            "_view_module": "@jupyter-widgets/controls",
            "_model_module_version": "1.5.0",
            "value": " 225/225 [31:43&lt;00:00, 8.46s/B]",
            "_view_count": null,
            "_view_module_version": "1.5.0",
            "description_tooltip": null,
            "_model_module": "@jupyter-widgets/controls",
            "layout": "IPY_MODEL_467e3b5bac5f4ab8994316477c848692"
          }
        },
        "e8a92ca0957a45e792385372da5551de": {
          "model_module": "@jupyter-widgets/controls",
          "model_name": "ProgressStyleModel",
          "state": {
            "_view_name": "StyleView",
            "_model_name": "ProgressStyleModel",
            "description_width": "initial",
            "_view_module": "@jupyter-widgets/base",
            "_model_module_version": "1.5.0",
            "_view_count": null,
            "_view_module_version": "1.2.0",
            "bar_color": null,
            "_model_module": "@jupyter-widgets/controls"
          }
        },
        "90740cce4c504e5ea7cb6a1741c80830": {
          "model_module": "@jupyter-widgets/base",
          "model_name": "LayoutModel",
          "state": {
            "_view_name": "LayoutView",
            "grid_template_rows": null,
            "right": null,
            "justify_content": null,
            "_view_module": "@jupyter-widgets/base",
            "overflow": null,
            "_model_module_version": "1.2.0",
            "_view_count": null,
            "flex_flow": null,
            "width": null,
            "min_width": null,
            "border": null,
            "align_items": null,
            "bottom": null,
            "_model_module": "@jupyter-widgets/base",
            "top": null,
            "grid_column": null,
            "overflow_y": null,
            "overflow_x": null,
            "grid_auto_flow": null,
            "grid_area": null,
            "grid_template_columns": null,
            "flex": null,
            "_model_name": "LayoutModel",
            "justify_items": null,
            "grid_row": null,
            "max_height": null,
            "align_content": null,
            "visibility": null,
            "align_self": null,
            "height": null,
            "min_height": null,
            "padding": null,
            "grid_auto_rows": null,
            "grid_gap": null,
            "max_width": null,
            "order": null,
            "_view_module_version": "1.2.0",
            "grid_template_areas": null,
            "object_position": null,
            "object_fit": null,
            "grid_auto_columns": null,
            "margin": null,
            "display": null,
            "left": null
          }
        },
        "cc1b392785594f10b618df16fc2501bb": {
          "model_module": "@jupyter-widgets/controls",
          "model_name": "DescriptionStyleModel",
          "state": {
            "_view_name": "StyleView",
            "_model_name": "DescriptionStyleModel",
            "description_width": "",
            "_view_module": "@jupyter-widgets/base",
            "_model_module_version": "1.5.0",
            "_view_count": null,
            "_view_module_version": "1.2.0",
            "_model_module": "@jupyter-widgets/controls"
          }
        },
        "467e3b5bac5f4ab8994316477c848692": {
          "model_module": "@jupyter-widgets/base",
          "model_name": "LayoutModel",
          "state": {
            "_view_name": "LayoutView",
            "grid_template_rows": null,
            "right": null,
            "justify_content": null,
            "_view_module": "@jupyter-widgets/base",
            "overflow": null,
            "_model_module_version": "1.2.0",
            "_view_count": null,
            "flex_flow": null,
            "width": null,
            "min_width": null,
            "border": null,
            "align_items": null,
            "bottom": null,
            "_model_module": "@jupyter-widgets/base",
            "top": null,
            "grid_column": null,
            "overflow_y": null,
            "overflow_x": null,
            "grid_auto_flow": null,
            "grid_area": null,
            "grid_template_columns": null,
            "flex": null,
            "_model_name": "LayoutModel",
            "justify_items": null,
            "grid_row": null,
            "max_height": null,
            "align_content": null,
            "visibility": null,
            "align_self": null,
            "height": null,
            "min_height": null,
            "padding": null,
            "grid_auto_rows": null,
            "grid_gap": null,
            "max_width": null,
            "order": null,
            "_view_module_version": "1.2.0",
            "grid_template_areas": null,
            "object_position": null,
            "object_fit": null,
            "grid_auto_columns": null,
            "margin": null,
            "display": null,
            "left": null
          }
        }
      }
    }
  },
  "cells": [
    {
      "cell_type": "code",
      "metadata": {
        "colab": {
          "base_uri": "https://localhost:8080/"
        },
        "id": "5bMqWBZNJz7L",
        "outputId": "bc03aa1f-7564-4852-ad8a-18e598cdc0d6"
      },
      "source": [
        "! git clone https://github.com/huggingface/transformers.git > /dev/null"
      ],
      "execution_count": 5,
      "outputs": [
        {
          "output_type": "stream",
          "text": [
            "Cloning into 'transformers'...\n",
            "remote: Enumerating objects: 73610, done.\u001b[K\n",
            "remote: Counting objects: 100% (26/26), done.\u001b[K\n",
            "remote: Compressing objects: 100% (24/24), done.\u001b[K\n",
            "remote: Total 73610 (delta 9), reused 2 (delta 0), pack-reused 73584\u001b[K\n",
            "Receiving objects: 100% (73610/73610), 56.50 MiB | 27.91 MiB/s, done.\n",
            "Resolving deltas: 100% (52352/52352), done.\n"
          ],
          "name": "stdout"
        }
      ]
    },
    {
      "cell_type": "code",
      "metadata": {
        "colab": {
          "base_uri": "https://localhost:8080/"
        },
        "id": "81I0--CeKGyh",
        "outputId": "59de29f4-17ad-4f76-f286-3eaf44121065"
      },
      "source": [
        "! pip install  transformers/"
      ],
      "execution_count": 6,
      "outputs": [
        {
          "output_type": "stream",
          "text": [
            "Processing ./transformers\n",
            "  Installing build dependencies ... \u001b[?25l\u001b[?25hdone\n",
            "  Getting requirements to build wheel ... \u001b[?25l\u001b[?25hdone\n",
            "    Preparing wheel metadata ... \u001b[?25l\u001b[?25hdone\n",
            "Requirement already satisfied: packaging in /usr/local/lib/python3.7/dist-packages (from transformers==4.7.0.dev0) (20.9)\n",
            "Requirement already satisfied: importlib-metadata; python_version < \"3.8\" in /usr/local/lib/python3.7/dist-packages (from transformers==4.7.0.dev0) (4.0.1)\n",
            "Requirement already satisfied: requests in /usr/local/lib/python3.7/dist-packages (from transformers==4.7.0.dev0) (2.23.0)\n",
            "Collecting tokenizers<0.11,>=0.10.1\n",
            "\u001b[?25l  Downloading https://files.pythonhosted.org/packages/d4/e2/df3543e8ffdab68f5acc73f613de9c2b155ac47f162e725dcac87c521c11/tokenizers-0.10.3-cp37-cp37m-manylinux_2_5_x86_64.manylinux1_x86_64.manylinux_2_12_x86_64.manylinux2010_x86_64.whl (3.3MB)\n",
            "\u001b[K     |████████████████████████████████| 3.3MB 14.1MB/s \n",
            "\u001b[?25hRequirement already satisfied: filelock in /usr/local/lib/python3.7/dist-packages (from transformers==4.7.0.dev0) (3.0.12)\n",
            "Requirement already satisfied: numpy>=1.17 in /usr/local/lib/python3.7/dist-packages (from transformers==4.7.0.dev0) (1.19.5)\n",
            "Requirement already satisfied: tqdm>=4.27 in /usr/local/lib/python3.7/dist-packages (from transformers==4.7.0.dev0) (4.41.1)\n",
            "Collecting sacremoses\n",
            "\u001b[?25l  Downloading https://files.pythonhosted.org/packages/75/ee/67241dc87f266093c533a2d4d3d69438e57d7a90abb216fa076e7d475d4a/sacremoses-0.0.45-py3-none-any.whl (895kB)\n",
            "\u001b[K     |████████████████████████████████| 901kB 47.1MB/s \n",
            "\u001b[?25hRequirement already satisfied: regex!=2019.12.17 in /usr/local/lib/python3.7/dist-packages (from transformers==4.7.0.dev0) (2019.12.20)\n",
            "Collecting huggingface-hub==0.0.8\n",
            "  Downloading https://files.pythonhosted.org/packages/a1/88/7b1e45720ecf59c6c6737ff332f41c955963090a18e72acbcbeac6b25e86/huggingface_hub-0.0.8-py3-none-any.whl\n",
            "Requirement already satisfied: pyparsing>=2.0.2 in /usr/local/lib/python3.7/dist-packages (from packaging->transformers==4.7.0.dev0) (2.4.7)\n",
            "Requirement already satisfied: typing-extensions>=3.6.4; python_version < \"3.8\" in /usr/local/lib/python3.7/dist-packages (from importlib-metadata; python_version < \"3.8\"->transformers==4.7.0.dev0) (3.7.4.3)\n",
            "Requirement already satisfied: zipp>=0.5 in /usr/local/lib/python3.7/dist-packages (from importlib-metadata; python_version < \"3.8\"->transformers==4.7.0.dev0) (3.4.1)\n",
            "Requirement already satisfied: urllib3!=1.25.0,!=1.25.1,<1.26,>=1.21.1 in /usr/local/lib/python3.7/dist-packages (from requests->transformers==4.7.0.dev0) (1.24.3)\n",
            "Requirement already satisfied: certifi>=2017.4.17 in /usr/local/lib/python3.7/dist-packages (from requests->transformers==4.7.0.dev0) (2020.12.5)\n",
            "Requirement already satisfied: chardet<4,>=3.0.2 in /usr/local/lib/python3.7/dist-packages (from requests->transformers==4.7.0.dev0) (3.0.4)\n",
            "Requirement already satisfied: idna<3,>=2.5 in /usr/local/lib/python3.7/dist-packages (from requests->transformers==4.7.0.dev0) (2.10)\n",
            "Requirement already satisfied: six in /usr/local/lib/python3.7/dist-packages (from sacremoses->transformers==4.7.0.dev0) (1.15.0)\n",
            "Requirement already satisfied: joblib in /usr/local/lib/python3.7/dist-packages (from sacremoses->transformers==4.7.0.dev0) (1.0.1)\n",
            "Requirement already satisfied: click in /usr/local/lib/python3.7/dist-packages (from sacremoses->transformers==4.7.0.dev0) (7.1.2)\n",
            "Building wheels for collected packages: transformers\n",
            "  Building wheel for transformers (PEP 517) ... \u001b[?25l\u001b[?25hdone\n",
            "  Created wheel for transformers: filename=transformers-4.7.0.dev0-cp37-none-any.whl size=2317529 sha256=39dfd53d2c660a630156ed44c8123557ec0f990c1a9a6de2d1854b7586ba5df3\n",
            "  Stored in directory: /tmp/pip-ephem-wheel-cache-4_kwhmdm/wheels/23/19/dd/2561a4e47240cf6b307729d58e56f8077dd0c698f5992216cf\n",
            "Successfully built transformers\n",
            "Installing collected packages: tokenizers, sacremoses, huggingface-hub, transformers\n",
            "Successfully installed huggingface-hub-0.0.8 sacremoses-0.0.45 tokenizers-0.10.3 transformers-4.7.0.dev0\n"
          ],
          "name": "stdout"
        }
      ]
    },
    {
      "cell_type": "code",
      "metadata": {
        "id": "aGo9KEHzKIou"
      },
      "source": [
        "! pip install sentencepiece > /dev/null"
      ],
      "execution_count": 7,
      "outputs": []
    },
    {
      "cell_type": "code",
      "metadata": {
        "id": "ExuAfZp6KR_D"
      },
      "source": [
        "! pip install datasets > /dev/null"
      ],
      "execution_count": 8,
      "outputs": []
    },
    {
      "cell_type": "code",
      "metadata": {
        "id": "qDZ1buNVMZZp"
      },
      "source": [
        "import transformers"
      ],
      "execution_count": 11,
      "outputs": []
    },
    {
      "cell_type": "code",
      "metadata": {
        "colab": {
          "base_uri": "https://localhost:8080/",
          "height": 35
        },
        "id": "hZqcLrGmNjdC",
        "outputId": "b4bc8752-d796-4a67-901e-5ac36f25509e"
      },
      "source": [
        "transformers.__version__"
      ],
      "execution_count": 12,
      "outputs": [
        {
          "output_type": "execute_result",
          "data": {
            "application/vnd.google.colaboratory.intrinsic+json": {
              "type": "string"
            },
            "text/plain": [
              "'4.7.0.dev0'"
            ]
          },
          "metadata": {
            "tags": []
          },
          "execution_count": 12
        }
      ]
    },
    {
      "cell_type": "code",
      "metadata": {
        "colab": {
          "base_uri": "https://localhost:8080/",
          "height": 181,
          "referenced_widgets": [
            "93ade0369002424883713cabc4b57120",
            "d27865f5cd86461087f21d6f64c4986e",
            "8c43389c0fb5481c9fdd96e011db4a5c",
            "5fef51f4635f46d9ac5c7834e6c6d91d",
            "2dcc7761ac15493fb85cec3c52d1c52c",
            "6834b050126e44fc874658b630c94eea",
            "eb8f21dde9314212a9d23ed7fdea964b",
            "21e71bcdc4224ffb97a528fc80a90aee",
            "789b7730b35b45148dff0dcfe2c3827e",
            "c969bc9793c046e280d4c4cf74e5954b",
            "7ce208f89b90462b914b02b051306de7",
            "502782be709345f98e77d620ab73b2f8",
            "23f7fc77539f439a84fed8cab51e6070",
            "58ca2cb3e05648eab620ac66a6435fc2",
            "9f350af167844216b504d0de542e7d5d",
            "a725b0b8271b4807bde2d8caf83801a9",
            "0e18aec7e02f4bda8b6e3d76d512330b",
            "461f617ca7b847ceb52d6bc47a7b453e",
            "32207ae7a4804e8b80f40bcc58124f32",
            "57ec7f3a9a1a427bae1c482b11c1701d",
            "e8a92ca0957a45e792385372da5551de",
            "90740cce4c504e5ea7cb6a1741c80830",
            "cc1b392785594f10b618df16fc2501bb",
            "467e3b5bac5f4ab8994316477c848692"
          ]
        },
        "id": "peEG1creKeBU",
        "outputId": "5522f2a7-ccb8-4afc-cec4-947815256864"
      },
      "source": [
        "tokenizer = transformers.T5Tokenizer.from_pretrained(\"rinna/japanese-gpt2-medium\")\n",
        "input = tokenizer.encode(\"明日の天気\", return_tensors=\"pt\")\n",
        "input"
      ],
      "execution_count": 13,
      "outputs": [
        {
          "output_type": "display_data",
          "data": {
            "application/vnd.jupyter.widget-view+json": {
              "model_id": "93ade0369002424883713cabc4b57120",
              "version_minor": 0,
              "version_major": 2
            },
            "text/plain": [
              "HBox(children=(FloatProgress(value=0.0, description='Downloading', max=805634.0, style=ProgressStyle(descripti…"
            ]
          },
          "metadata": {
            "tags": []
          }
        },
        {
          "output_type": "stream",
          "text": [
            "\n"
          ],
          "name": "stdout"
        },
        {
          "output_type": "display_data",
          "data": {
            "application/vnd.jupyter.widget-view+json": {
              "model_id": "789b7730b35b45148dff0dcfe2c3827e",
              "version_minor": 0,
              "version_major": 2
            },
            "text/plain": [
              "HBox(children=(FloatProgress(value=0.0, description='Downloading', max=153.0, style=ProgressStyle(description_…"
            ]
          },
          "metadata": {
            "tags": []
          }
        },
        {
          "output_type": "stream",
          "text": [
            "\n"
          ],
          "name": "stdout"
        },
        {
          "output_type": "display_data",
          "data": {
            "application/vnd.jupyter.widget-view+json": {
              "model_id": "0e18aec7e02f4bda8b6e3d76d512330b",
              "version_minor": 0,
              "version_major": 2
            },
            "text/plain": [
              "HBox(children=(FloatProgress(value=0.0, description='Downloading', max=225.0, style=ProgressStyle(description_…"
            ]
          },
          "metadata": {
            "tags": []
          }
        },
        {
          "output_type": "stream",
          "text": [
            "\n"
          ],
          "name": "stdout"
        },
        {
          "output_type": "execute_result",
          "data": {
            "text/plain": [
              "tensor([[    9, 14787,    10, 19097,     2]])"
            ]
          },
          "metadata": {
            "tags": []
          },
          "execution_count": 13
        }
      ]
    },
    {
      "cell_type": "markdown",
      "metadata": {
        "id": "R2YBfNHkPorJ"
      },
      "source": [
        "/content/transformers/examples/pytorch/language-modeling/run_clm.pyを以下のように編集\n",
        "\n",
        "- 290行あたりのAutoTokenizerをT5Tokenizerに修正\n",
        "- from transformers import T5Tokenizer"
      ]
    },
    {
      "cell_type": "code",
      "metadata": {
        "colab": {
          "base_uri": "https://localhost:8080/"
        },
        "id": "9RF-Encg4KEw",
        "outputId": "3038adb7-71b6-453e-c015-7b42a5819292"
      },
      "source": [
        "! nvidia-smi"
      ],
      "execution_count": 14,
      "outputs": [
        {
          "output_type": "stream",
          "text": [
            "Fri May 28 14:00:38 2021       \n",
            "+-----------------------------------------------------------------------------+\n",
            "| NVIDIA-SMI 465.19.01    Driver Version: 460.32.03    CUDA Version: 11.2     |\n",
            "|-------------------------------+----------------------+----------------------+\n",
            "| GPU  Name        Persistence-M| Bus-Id        Disp.A | Volatile Uncorr. ECC |\n",
            "| Fan  Temp  Perf  Pwr:Usage/Cap|         Memory-Usage | GPU-Util  Compute M. |\n",
            "|                               |                      |               MIG M. |\n",
            "|===============================+======================+======================|\n",
            "|   0  Tesla V100-SXM2...  Off  | 00000000:00:04.0 Off |                    0 |\n",
            "| N/A   32C    P0    23W / 300W |      0MiB / 16160MiB |      0%      Default |\n",
            "|                               |                      |                  N/A |\n",
            "+-------------------------------+----------------------+----------------------+\n",
            "                                                                               \n",
            "+-----------------------------------------------------------------------------+\n",
            "| Processes:                                                                  |\n",
            "|  GPU   GI   CI        PID   Type   Process name                  GPU Memory |\n",
            "|        ID   ID                                                   Usage      |\n",
            "|=============================================================================|\n",
            "|  No running processes found                                                 |\n",
            "+-----------------------------------------------------------------------------+\n"
          ],
          "name": "stdout"
        }
      ]
    },
    {
      "cell_type": "code",
      "metadata": {
        "colab": {
          "base_uri": "https://localhost:8080/"
        },
        "id": "5ys0ZV_GNJBG",
        "outputId": "6c786261-b54c-4fe4-f97e-d6eb391d54bc"
      },
      "source": [
        "!python transformers/examples/pytorch/language-modeling/run_clm.py  \\\n",
        "    --output_dir=finetune_japanese_gpt2 \\\n",
        "    --model_name_or_path=rinna/japanese-gpt2-medium \\\n",
        "    --do_train \\\n",
        "    --train_file='/content/drive/MyDrive/other/generate_bz_lyrics/preprocessed.txt' \\\n",
        "    --do_eval \\\n",
        "    --validation_file='/content/drive/MyDrive/other/generate_bz_lyrics/preprocessed.txt' \\\n",
        "    --per_device_train_batch_size=1 \\\n",
        "    --per_device_eval_batch_size=1 \\\n",
        "    --num_train_epochs=50 \\\n",
        "    --overwrite_output_dir"
      ],
      "execution_count": 16,
      "outputs": [
        {
          "output_type": "stream",
          "text": [
            "2021-05-28 14:02:17.302173: I tensorflow/stream_executor/platform/default/dso_loader.cc:53] Successfully opened dynamic library libcudart.so.11.0\n",
            "05/28/2021 14:02:18 - WARNING - __main__ -   Process rank: -1, device: cuda:0, n_gpu: 1distributed training: False, 16-bits training: False\n",
            "05/28/2021 14:02:18 - INFO - __main__ -   Training/evaluation parameters TrainingArguments(output_dir=finetune_japanese_gpt2, overwrite_output_dir=True, do_train=True, do_eval=True, do_predict=False, evaluation_strategy=IntervalStrategy.NO, prediction_loss_only=False, per_device_train_batch_size=1, per_device_eval_batch_size=1, gradient_accumulation_steps=1, eval_accumulation_steps=None, learning_rate=5e-05, weight_decay=0.0, adam_beta1=0.9, adam_beta2=0.999, adam_epsilon=1e-08, max_grad_norm=1.0, num_train_epochs=50.0, max_steps=-1, lr_scheduler_type=SchedulerType.LINEAR, warmup_ratio=0.0, warmup_steps=0, logging_dir=runs/May28_14-02-18_7645963f75d6, logging_strategy=IntervalStrategy.STEPS, logging_first_step=False, logging_steps=500, save_strategy=IntervalStrategy.STEPS, save_steps=500, save_total_limit=None, no_cuda=False, seed=42, fp16=False, fp16_opt_level=O1, fp16_backend=auto, fp16_full_eval=False, local_rank=-1, tpu_num_cores=None, tpu_metrics_debug=False, debug=[], dataloader_drop_last=False, eval_steps=500, dataloader_num_workers=0, past_index=-1, run_name=finetune_japanese_gpt2, disable_tqdm=False, remove_unused_columns=True, label_names=None, load_best_model_at_end=False, metric_for_best_model=None, greater_is_better=None, ignore_data_skip=False, sharded_ddp=[], deepspeed=None, label_smoothing_factor=0.0, adafactor=False, group_by_length=False, length_column_name=length, report_to=['tensorboard'], ddp_find_unused_parameters=None, dataloader_pin_memory=True, skip_memory_metrics=True, use_legacy_prediction_loop=False, push_to_hub=False, resume_from_checkpoint=None, log_on_each_node=True, _n_gpu=1, mp_parameters=)\n",
            "05/28/2021 14:02:19 - WARNING - datasets.builder -   Using custom data configuration default-7c4a5a0415f8fe2e\n",
            "05/28/2021 14:02:19 - WARNING - datasets.builder -   Reusing dataset text (/root/.cache/huggingface/datasets/text/default-7c4a5a0415f8fe2e/0.0.0/e16f44aa1b321ece1f87b07977cc5d70be93d69b20486d6dacd62e12cf25c9a5)\n",
            "[INFO|configuration_utils.py:517] 2021-05-28 14:02:19,682 >> loading configuration file https://huggingface.co/rinna/japanese-gpt2-medium/resolve/main/config.json from cache at /root/.cache/huggingface/transformers/4f2220bae6b6e6e9de761491c836858e9a4a297b9d8a58071e454c4dc03b5463.6837b013c474e795389ec2ae1d273d297dec5b156a42fdc819053b1fc8d86982\n",
            "[INFO|configuration_utils.py:553] 2021-05-28 14:02:19,683 >> Model config GPT2Config {\n",
            "  \"activation_function\": \"gelu_new\",\n",
            "  \"architectures\": [\n",
            "    \"GPT2LMHeadModel\"\n",
            "  ],\n",
            "  \"attn_pdrop\": 0.1,\n",
            "  \"bos_token_id\": 1,\n",
            "  \"embd_pdrop\": 0.1,\n",
            "  \"eos_token_id\": 2,\n",
            "  \"gradient_checkpointing\": false,\n",
            "  \"initializer_range\": 0.02,\n",
            "  \"layer_norm_epsilon\": 1e-05,\n",
            "  \"model_type\": \"gpt2\",\n",
            "  \"n_ctx\": 1024,\n",
            "  \"n_embd\": 1024,\n",
            "  \"n_head\": 16,\n",
            "  \"n_inner\": 4096,\n",
            "  \"n_layer\": 24,\n",
            "  \"n_positions\": 1024,\n",
            "  \"resid_pdrop\": 0.1,\n",
            "  \"scale_attn_weights\": true,\n",
            "  \"summary_activation\": null,\n",
            "  \"summary_first_dropout\": 0.1,\n",
            "  \"summary_proj_to_labels\": true,\n",
            "  \"summary_type\": \"cls_index\",\n",
            "  \"summary_use_proj\": true,\n",
            "  \"task_specific_params\": {\n",
            "    \"text-generation\": {\n",
            "      \"do_sample\": true,\n",
            "      \"max_length\": 50\n",
            "    }\n",
            "  },\n",
            "  \"transformers_version\": \"4.7.0.dev0\",\n",
            "  \"use_cache\": true,\n",
            "  \"vocab_size\": 32000\n",
            "}\n",
            "\n",
            "[INFO|tokenization_utils_base.py:1717] 2021-05-28 14:02:21,451 >> loading file https://huggingface.co/rinna/japanese-gpt2-medium/resolve/main/spiece.model from cache at /root/.cache/huggingface/transformers/a7b51178c78979cf1a0a901647886cbf99626e1cb9a26eba30d4f59ac46ebf17.c0b735c65f40dff8596b5f699043bb29048036242443fea32b79a9dd8510ea96\n",
            "[INFO|tokenization_utils_base.py:1717] 2021-05-28 14:02:21,451 >> loading file https://huggingface.co/rinna/japanese-gpt2-medium/resolve/main/added_tokens.json from cache at None\n",
            "[INFO|tokenization_utils_base.py:1717] 2021-05-28 14:02:21,451 >> loading file https://huggingface.co/rinna/japanese-gpt2-medium/resolve/main/special_tokens_map.json from cache at /root/.cache/huggingface/transformers/42091916a8a40b3949b8a4f56ce63e437a166ae0e88d1d15546860c13bdc5ceb.9049458ebcd1cf666b7b0a046aa394597f12e611077571cfc86e0938f8675d82\n",
            "[INFO|tokenization_utils_base.py:1717] 2021-05-28 14:02:21,451 >> loading file https://huggingface.co/rinna/japanese-gpt2-medium/resolve/main/tokenizer_config.json from cache at /root/.cache/huggingface/transformers/797151d567a04d67dc126ddf3c4cc4779887653076191eaa7b08f73f4ff874a2.170e22986e7aeec289e1039c35e3e98e7c30b748b2dcba20ad5425a788c3d78f\n",
            "[INFO|tokenization_utils_base.py:1717] 2021-05-28 14:02:21,451 >> loading file https://huggingface.co/rinna/japanese-gpt2-medium/resolve/main/tokenizer.json from cache at None\n",
            "[INFO|file_utils.py:1556] 2021-05-28 14:02:21,855 >> https://huggingface.co/rinna/japanese-gpt2-medium/resolve/main/pytorch_model.bin not found in cache or force_download set to True, downloading to /root/.cache/huggingface/transformers/tmp8tj2pv5p\n",
            "Downloading: 100% 1.37G/1.37G [00:23<00:00, 58.2MB/s]\n",
            "[INFO|file_utils.py:1560] 2021-05-28 14:02:45,463 >> storing https://huggingface.co/rinna/japanese-gpt2-medium/resolve/main/pytorch_model.bin in cache at /root/.cache/huggingface/transformers/535bf84748bb0fd4692430e45803b0a8cec51dc5f8581c46ebca3c5d470c75df.c74ec66be237ef806c57a59fff7b47b3a5f5ed1d91cb9463152da68ee9a5154b\n",
            "[INFO|file_utils.py:1568] 2021-05-28 14:02:45,464 >> creating metadata file for /root/.cache/huggingface/transformers/535bf84748bb0fd4692430e45803b0a8cec51dc5f8581c46ebca3c5d470c75df.c74ec66be237ef806c57a59fff7b47b3a5f5ed1d91cb9463152da68ee9a5154b\n",
            "[INFO|modeling_utils.py:1155] 2021-05-28 14:02:45,464 >> loading weights file https://huggingface.co/rinna/japanese-gpt2-medium/resolve/main/pytorch_model.bin from cache at /root/.cache/huggingface/transformers/535bf84748bb0fd4692430e45803b0a8cec51dc5f8581c46ebca3c5d470c75df.c74ec66be237ef806c57a59fff7b47b3a5f5ed1d91cb9463152da68ee9a5154b\n",
            "[INFO|modeling_utils.py:1339] 2021-05-28 14:02:50,211 >> All model checkpoint weights were used when initializing GPT2LMHeadModel.\n",
            "\n",
            "[INFO|modeling_utils.py:1348] 2021-05-28 14:02:50,211 >> All the weights of GPT2LMHeadModel were initialized from the model checkpoint at rinna/japanese-gpt2-medium.\n",
            "If your task is similar to the task the model of the checkpoint was trained on, you can already use GPT2LMHeadModel for predictions without further training.\n",
            "100% 1/1 [00:00<00:00,  3.01ba/s]\n",
            "100% 1/1 [00:00<00:00,  5.02ba/s]\n",
            "05/28/2021 14:02:50 - WARNING - __main__ -   The tokenizer picked seems to have a very large `model_max_length` (1000000000000000019884624838656). Picking 1024 instead. You can change that default value by passing --block_size xxx.\n",
            "100% 1/1 [00:00<00:00,  3.16ba/s]\n",
            "100% 1/1 [00:00<00:00,  3.28ba/s]\n",
            "[INFO|trainer.py:1148] 2021-05-28 14:02:58,108 >> ***** Running training *****\n",
            "[INFO|trainer.py:1149] 2021-05-28 14:02:58,108 >>   Num examples = 86\n",
            "[INFO|trainer.py:1150] 2021-05-28 14:02:58,109 >>   Num Epochs = 50\n",
            "[INFO|trainer.py:1151] 2021-05-28 14:02:58,109 >>   Instantaneous batch size per device = 1\n",
            "[INFO|trainer.py:1152] 2021-05-28 14:02:58,109 >>   Total train batch size (w. parallel, distributed & accumulation) = 1\n",
            "[INFO|trainer.py:1153] 2021-05-28 14:02:58,109 >>   Gradient Accumulation steps = 1\n",
            "[INFO|trainer.py:1154] 2021-05-28 14:02:58,109 >>   Total optimization steps = 4300\n",
            "{'loss': 2.628, 'learning_rate': 4.418604651162791e-05, 'epoch': 5.81}\n",
            " 12% 500/4300 [02:50<21:41,  2.92it/s][INFO|trainer.py:1884] 2021-05-28 14:05:48,931 >> Saving model checkpoint to finetune_japanese_gpt2/checkpoint-500\n",
            "[INFO|configuration_utils.py:351] 2021-05-28 14:05:48,932 >> Configuration saved in finetune_japanese_gpt2/checkpoint-500/config.json\n",
            "[INFO|modeling_utils.py:889] 2021-05-28 14:05:53,789 >> Model weights saved in finetune_japanese_gpt2/checkpoint-500/pytorch_model.bin\n",
            "[INFO|tokenization_utils_base.py:1924] 2021-05-28 14:05:53,790 >> tokenizer config file saved in finetune_japanese_gpt2/checkpoint-500/tokenizer_config.json\n",
            "[INFO|tokenization_utils_base.py:1930] 2021-05-28 14:05:53,790 >> Special tokens file saved in finetune_japanese_gpt2/checkpoint-500/special_tokens_map.json\n",
            "[INFO|tokenization_t5.py:304] 2021-05-28 14:05:53,792 >> Copy vocab file to finetune_japanese_gpt2/checkpoint-500/spiece.model\n",
            "{'loss': 0.9258, 'learning_rate': 3.837209302325582e-05, 'epoch': 11.63}\n",
            " 23% 1000/4300 [06:16<18:48,  2.92it/s][INFO|trainer.py:1884] 2021-05-28 14:09:15,074 >> Saving model checkpoint to finetune_japanese_gpt2/checkpoint-1000\n",
            "[INFO|configuration_utils.py:351] 2021-05-28 14:09:15,074 >> Configuration saved in finetune_japanese_gpt2/checkpoint-1000/config.json\n",
            "[INFO|modeling_utils.py:889] 2021-05-28 14:09:19,879 >> Model weights saved in finetune_japanese_gpt2/checkpoint-1000/pytorch_model.bin\n",
            "[INFO|tokenization_utils_base.py:1924] 2021-05-28 14:09:19,879 >> tokenizer config file saved in finetune_japanese_gpt2/checkpoint-1000/tokenizer_config.json\n",
            "[INFO|tokenization_utils_base.py:1930] 2021-05-28 14:09:19,879 >> Special tokens file saved in finetune_japanese_gpt2/checkpoint-1000/special_tokens_map.json\n",
            "[INFO|tokenization_t5.py:304] 2021-05-28 14:09:19,881 >> Copy vocab file to finetune_japanese_gpt2/checkpoint-1000/spiece.model\n",
            "{'loss': 0.2488, 'learning_rate': 3.2558139534883724e-05, 'epoch': 17.44}\n",
            " 35% 1500/4300 [09:45<15:56,  2.93it/s][INFO|trainer.py:1884] 2021-05-28 14:12:43,879 >> Saving model checkpoint to finetune_japanese_gpt2/checkpoint-1500\n",
            "[INFO|configuration_utils.py:351] 2021-05-28 14:12:43,880 >> Configuration saved in finetune_japanese_gpt2/checkpoint-1500/config.json\n",
            "[INFO|modeling_utils.py:889] 2021-05-28 14:12:48,763 >> Model weights saved in finetune_japanese_gpt2/checkpoint-1500/pytorch_model.bin\n",
            "[INFO|tokenization_utils_base.py:1924] 2021-05-28 14:12:48,764 >> tokenizer config file saved in finetune_japanese_gpt2/checkpoint-1500/tokenizer_config.json\n",
            "[INFO|tokenization_utils_base.py:1930] 2021-05-28 14:12:48,764 >> Special tokens file saved in finetune_japanese_gpt2/checkpoint-1500/special_tokens_map.json\n",
            "[INFO|tokenization_t5.py:304] 2021-05-28 14:12:48,765 >> Copy vocab file to finetune_japanese_gpt2/checkpoint-1500/spiece.model\n",
            "{'loss': 0.0878, 'learning_rate': 2.674418604651163e-05, 'epoch': 23.26}\n",
            " 47% 2000/4300 [13:10<13:00,  2.95it/s][INFO|trainer.py:1884] 2021-05-28 14:16:08,876 >> Saving model checkpoint to finetune_japanese_gpt2/checkpoint-2000\n",
            "[INFO|configuration_utils.py:351] 2021-05-28 14:16:08,877 >> Configuration saved in finetune_japanese_gpt2/checkpoint-2000/config.json\n",
            "[INFO|modeling_utils.py:889] 2021-05-28 14:16:13,591 >> Model weights saved in finetune_japanese_gpt2/checkpoint-2000/pytorch_model.bin\n",
            "[INFO|tokenization_utils_base.py:1924] 2021-05-28 14:16:13,591 >> tokenizer config file saved in finetune_japanese_gpt2/checkpoint-2000/tokenizer_config.json\n",
            "[INFO|tokenization_utils_base.py:1930] 2021-05-28 14:16:13,592 >> Special tokens file saved in finetune_japanese_gpt2/checkpoint-2000/special_tokens_map.json\n",
            "[INFO|tokenization_t5.py:304] 2021-05-28 14:16:13,594 >> Copy vocab file to finetune_japanese_gpt2/checkpoint-2000/spiece.model\n",
            "{'loss': 0.047, 'learning_rate': 2.0930232558139536e-05, 'epoch': 29.07}\n",
            " 58% 2500/4300 [16:35<10:12,  2.94it/s][INFO|trainer.py:1884] 2021-05-28 14:19:33,198 >> Saving model checkpoint to finetune_japanese_gpt2/checkpoint-2500\n",
            "[INFO|configuration_utils.py:351] 2021-05-28 14:19:33,199 >> Configuration saved in finetune_japanese_gpt2/checkpoint-2500/config.json\n",
            "[INFO|modeling_utils.py:889] 2021-05-28 14:19:38,213 >> Model weights saved in finetune_japanese_gpt2/checkpoint-2500/pytorch_model.bin\n",
            "[INFO|tokenization_utils_base.py:1924] 2021-05-28 14:19:38,214 >> tokenizer config file saved in finetune_japanese_gpt2/checkpoint-2500/tokenizer_config.json\n",
            "[INFO|tokenization_utils_base.py:1930] 2021-05-28 14:19:38,214 >> Special tokens file saved in finetune_japanese_gpt2/checkpoint-2500/special_tokens_map.json\n",
            "[INFO|tokenization_t5.py:304] 2021-05-28 14:19:38,218 >> Copy vocab file to finetune_japanese_gpt2/checkpoint-2500/spiece.model\n",
            "{'loss': 0.0322, 'learning_rate': 1.5116279069767441e-05, 'epoch': 34.88}\n",
            " 70% 3000/4300 [19:59<07:20,  2.95it/s][INFO|trainer.py:1884] 2021-05-28 14:22:57,210 >> Saving model checkpoint to finetune_japanese_gpt2/checkpoint-3000\n",
            "[INFO|configuration_utils.py:351] 2021-05-28 14:22:57,211 >> Configuration saved in finetune_japanese_gpt2/checkpoint-3000/config.json\n",
            "[INFO|modeling_utils.py:889] 2021-05-28 14:23:02,170 >> Model weights saved in finetune_japanese_gpt2/checkpoint-3000/pytorch_model.bin\n",
            "[INFO|tokenization_utils_base.py:1924] 2021-05-28 14:23:02,171 >> tokenizer config file saved in finetune_japanese_gpt2/checkpoint-3000/tokenizer_config.json\n",
            "[INFO|tokenization_utils_base.py:1930] 2021-05-28 14:23:02,171 >> Special tokens file saved in finetune_japanese_gpt2/checkpoint-3000/special_tokens_map.json\n",
            "[INFO|tokenization_t5.py:304] 2021-05-28 14:23:02,173 >> Copy vocab file to finetune_japanese_gpt2/checkpoint-3000/spiece.model\n",
            "{'loss': 0.0246, 'learning_rate': 9.302325581395349e-06, 'epoch': 40.7}\n",
            " 81% 3500/4300 [23:23<04:31,  2.95it/s][INFO|trainer.py:1884] 2021-05-28 14:26:22,044 >> Saving model checkpoint to finetune_japanese_gpt2/checkpoint-3500\n",
            "[INFO|configuration_utils.py:351] 2021-05-28 14:26:22,045 >> Configuration saved in finetune_japanese_gpt2/checkpoint-3500/config.json\n",
            "[INFO|modeling_utils.py:889] 2021-05-28 14:26:26,901 >> Model weights saved in finetune_japanese_gpt2/checkpoint-3500/pytorch_model.bin\n",
            "[INFO|tokenization_utils_base.py:1924] 2021-05-28 14:26:26,901 >> tokenizer config file saved in finetune_japanese_gpt2/checkpoint-3500/tokenizer_config.json\n",
            "[INFO|tokenization_utils_base.py:1930] 2021-05-28 14:26:26,902 >> Special tokens file saved in finetune_japanese_gpt2/checkpoint-3500/special_tokens_map.json\n",
            "[INFO|tokenization_t5.py:304] 2021-05-28 14:26:26,903 >> Copy vocab file to finetune_japanese_gpt2/checkpoint-3500/spiece.model\n",
            "{'loss': 0.0209, 'learning_rate': 3.488372093023256e-06, 'epoch': 46.51}\n",
            " 93% 4000/4300 [26:47<01:41,  2.94it/s][INFO|trainer.py:1884] 2021-05-28 14:29:46,015 >> Saving model checkpoint to finetune_japanese_gpt2/checkpoint-4000\n",
            "[INFO|configuration_utils.py:351] 2021-05-28 14:29:46,016 >> Configuration saved in finetune_japanese_gpt2/checkpoint-4000/config.json\n",
            "[INFO|modeling_utils.py:889] 2021-05-28 14:29:50,975 >> Model weights saved in finetune_japanese_gpt2/checkpoint-4000/pytorch_model.bin\n",
            "[INFO|tokenization_utils_base.py:1924] 2021-05-28 14:29:50,975 >> tokenizer config file saved in finetune_japanese_gpt2/checkpoint-4000/tokenizer_config.json\n",
            "[INFO|tokenization_utils_base.py:1930] 2021-05-28 14:29:50,975 >> Special tokens file saved in finetune_japanese_gpt2/checkpoint-4000/special_tokens_map.json\n",
            "[INFO|tokenization_t5.py:304] 2021-05-28 14:29:50,976 >> Copy vocab file to finetune_japanese_gpt2/checkpoint-4000/spiece.model\n",
            "100% 4300/4300 [29:03<00:00,  2.95it/s][INFO|trainer.py:1344] 2021-05-28 14:32:02,023 >> \n",
            "\n",
            "Training completed. Do not forget to share your model on huggingface.co/models =)\n",
            "\n",
            "\n",
            "{'train_runtime': 1743.9142, 'train_samples_per_second': 2.466, 'train_steps_per_second': 2.466, 'epoch': 50.0}\n",
            "100% 4300/4300 [29:03<00:00,  2.47it/s]\n",
            "[INFO|trainer.py:1884] 2021-05-28 14:32:02,037 >> Saving model checkpoint to finetune_japanese_gpt2\n",
            "[INFO|configuration_utils.py:351] 2021-05-28 14:32:02,037 >> Configuration saved in finetune_japanese_gpt2/config.json\n",
            "[INFO|modeling_utils.py:889] 2021-05-28 14:32:07,005 >> Model weights saved in finetune_japanese_gpt2/pytorch_model.bin\n",
            "[INFO|tokenization_utils_base.py:1924] 2021-05-28 14:32:07,005 >> tokenizer config file saved in finetune_japanese_gpt2/tokenizer_config.json\n",
            "[INFO|tokenization_utils_base.py:1930] 2021-05-28 14:32:07,006 >> Special tokens file saved in finetune_japanese_gpt2/special_tokens_map.json\n",
            "[INFO|tokenization_t5.py:304] 2021-05-28 14:32:07,007 >> Copy vocab file to finetune_japanese_gpt2/spiece.model\n",
            "[INFO|trainer_pt_utils.py:907] 2021-05-28 14:32:07,007 >> ***** train metrics *****\n",
            "[INFO|trainer_pt_utils.py:912] 2021-05-28 14:32:07,007 >>   epoch                    =       50.0\n",
            "[INFO|trainer_pt_utils.py:912] 2021-05-28 14:32:07,007 >>   train_runtime            = 0:29:03.91\n",
            "[INFO|trainer_pt_utils.py:912] 2021-05-28 14:32:07,007 >>   train_samples            =         86\n",
            "[INFO|trainer_pt_utils.py:912] 2021-05-28 14:32:07,008 >>   train_samples_per_second =      2.466\n",
            "[INFO|trainer_pt_utils.py:912] 2021-05-28 14:32:07,008 >>   train_steps_per_second   =      2.466\n",
            "05/28/2021 14:32:07 - INFO - __main__ -   *** Evaluate ***\n",
            "[INFO|trainer.py:2130] 2021-05-28 14:32:07,113 >> ***** Running Evaluation *****\n",
            "[INFO|trainer.py:2132] 2021-05-28 14:32:07,113 >>   Num examples = 86\n",
            "[INFO|trainer.py:2135] 2021-05-28 14:32:07,113 >>   Batch size = 1\n",
            "100% 86/86 [00:08<00:00, 10.35it/s]\n",
            "[INFO|trainer_pt_utils.py:907] 2021-05-28 14:32:15,452 >> ***** eval metrics *****\n",
            "[INFO|trainer_pt_utils.py:912] 2021-05-28 14:32:15,452 >>   epoch                   =       50.0\n",
            "[INFO|trainer_pt_utils.py:912] 2021-05-28 14:32:15,452 >>   eval_loss               =     0.0083\n",
            "[INFO|trainer_pt_utils.py:912] 2021-05-28 14:32:15,452 >>   eval_runtime            = 0:00:08.31\n",
            "[INFO|trainer_pt_utils.py:912] 2021-05-28 14:32:15,452 >>   eval_samples            =         86\n",
            "[INFO|trainer_pt_utils.py:912] 2021-05-28 14:32:15,452 >>   eval_samples_per_second =     10.343\n",
            "[INFO|trainer_pt_utils.py:912] 2021-05-28 14:32:15,452 >>   eval_steps_per_second   =     10.343\n",
            "[INFO|trainer_pt_utils.py:912] 2021-05-28 14:32:15,452 >>   perplexity              =     1.0083\n"
          ],
          "name": "stdout"
        }
      ]
    },
    {
      "cell_type": "code",
      "metadata": {
        "id": "3_RxRnjyPA_a"
      },
      "source": [
        "from transformers import AutoModelForCausalLM\n",
        "model = AutoModelForCausalLM.from_pretrained(\"finetune_japanese_gpt2/checkpoint-4000\")"
      ],
      "execution_count": 18,
      "outputs": []
    },
    {
      "cell_type": "code",
      "metadata": {
        "colab": {
          "base_uri": "https://localhost:8080/"
        },
        "id": "bHLhEBGPQ2A0",
        "outputId": "0408cf37-b0de-4761-d44d-6e9e9e27803a"
      },
      "source": [
        "input = tokenizer.encode(\"夏の日\", return_tensors=\"pt\")\n",
        "output = model.generate(input, do_sample=True, max_length=200, num_return_sequences=8)\n",
        "for pred in tokenizer.batch_decode(output):\n",
        "  print(pred)"
      ],
      "execution_count": 20,
      "outputs": [
        {
          "output_type": "stream",
          "text": [
            "Setting `pad_token_id` to `eos_token_id`:2 for open-end generation.\n"
          ],
          "name": "stderr"
        },
        {
          "output_type": "stream",
          "text": [
            "夏の日</s> 街は呼吸を乱さない 冷たい風 胸はうずきやまない なにもかも捨てられる気がしてた それが一番の罪なんだろうさ 見切り発車も今さら止まれんパラドックス抱いたまんま力尽きるまでやろう 街は呼吸を乱さない 冷たい風 胸はうずきやまない なにもかも捨てられる気がしてた それが一番の罪なんだろうさ 見切発車も今さら止まれんパラドックス抱いたまんま力尽きるまでやろう 街は呼吸を乱さない</s> </s> </s> </s> </s> </s> </s> </s> </s> </s> </s> </s> </s> </s> </s> </s> </s> </s> </s> </s> </s> </s> </s> </s> </s> </s> </s> </s> </s> </s> </s> </s> </s> </s> </s> </s> </s> </s> </s> </s> </s> </s> </s> </s> </s> </s> </s> </s> </s> </s> </s> </s> </s> </s> </s> </s> </s> </s> </s> </s> </s> </s> </s> </s> </s> </s> </s> </s> </s> </s> </s> </s> </s>\n",
            "夏の日</s> 窓を開ければ 風が優しく流れて来て名前も知らない 綺麗な夕陽が 立ちこめられいつまでも手をつないでいられる気がしたんだいつまでも手をつないでいられるわけないどんなに忙しいときでもなぜかこの胸の中だけは昔と変わらないなんにも変わらないいつまでも手をつないでいられるわけないだれかが僕をきらい仲間になるわけないこんなはずじゃないこんな思いを何度もしてるのに何かが変われるはずないそう思ってたふりかざす笑顔が見たいだけのヤツがいつもひとりいる寂しさを飲み込みながら強く手をとりあおう まっすぐな思いを 持つだけなら誰でもなれる希望を 胸に 燃やしながら 君の名を 刻もう</s> </s> </s> </s> </s> </s> </s> </s> </s> </s> </s> </s> </s> </s> </s> </s> </s> </s> </s> </s> </s> </s> </s> </s> </s> </s> </s> </s> </s> </s> </s> </s>\n",
            "夏の日</s> 何も予定がないまま ソファーでふてくされてる 君を横目に テレビでも見てよう 消して捨てて 後片付けして 出かけよう そうやって ずっとぼやいてる おぼれそうな 心がけないと 毎日 クタクタになってる 君の笑顔に 救われるけど 悪い意味で とられるのは 避けたいね 夏の日に 君を忘れない ように 僕らは 繋がっているんだから 離れるわけじゃないんだよ 強く抱きしめていても 風でふてくされてる 君の肩を 思い浮かべると 胸が痛むよ 許すことは 胸が痛むけど 無心に つくすのは やめよう 耐えがたい 痛みだと知ってるから 無心に つくすけど どうしても いやだ 無理やり つまずかせない 腕の力\n",
            "夏の日</s> 僕はシャワーで体を洗いさっぱりしたかったけど君はシャワー嫌いだったから僕のカ <unk> チ<unk> oセ<unk> ス<unk> oセ<unk> ス<unk> oセ<unk> ス<unk> oセ<unk> ス<unk> oセ<unk> ス</s> </s> </s> </s> </s> </s> </s> </s> </s> </s> </s> </s> </s> </s> </s> </s> </s> </s> </s> </s> </s> </s> </s> </s> </s> </s> </s> </s> </s> </s> </s> </s> </s> </s> </s> </s> </s> </s> </s> </s> </s> </s> </s> </s> </s> </s> </s> </s> </s> </s> </s> </s> </s> </s> </s> </s> </s> </s> </s> </s> </s> </s> </s> </s> </s> </s> </s> </s> </s> </s> </s> </s> </s> </s> </s> </s> </s> </s> </s> </s> </s> </s> </s> </s> </s> </s> </s> </s> </s> </s> </s> </s> </s> </s> </s> </s> </s> </s> </s> </s> </s> </s> </s> </s> </s> </s> </s> </s> </s> </s> </s> </s> </s> </s> </s> </s> </s> </s> </s> </s> </s> </s> </s> </s> </s> </s> </s> </s> </s> </s> </s> </s> </s> </s> </s> </s> </s> </s> </s> </s> </s> </s> </s> </s> </s> </s> </s>\n",
            "夏の日</s> 僕は君と砂浜でソフトクリームを舐めるのが常なんだ<unk> ood <unk> ight...<unk> oo</s> </s> </s> </s> </s> </s> </s> </s> </s> </s> </s> </s> </s> </s> </s> </s> </s> </s> </s> </s> </s> </s> </s> </s> </s> </s> </s> </s> </s> </s> </s> </s> </s> </s> </s> </s> </s> </s> </s> </s> </s> </s> </s> </s> </s> </s> </s> </s> </s> </s> </s> </s> </s> </s> </s> </s> </s> </s> </s> </s> </s> </s> </s> </s> </s> </s> </s> </s> </s> </s> </s> </s> </s> </s> </s> </s> </s> </s> </s> </s> </s> </s> </s> </s> </s> </s> </s> </s> </s> </s> </s> </s> </s> </s> </s> </s> </s> </s> </s> </s> </s> </s> </s> </s> </s> </s> </s> </s> </s> </s> </s> </s> </s> </s> </s> </s> </s> </s> </s> </s> </s> </s> </s> </s> </s> </s> </s> </s> </s> </s> </s> </s> </s> </s> </s> </s> </s> </s> </s> </s> </s> </s> </s> </s> </s> </s> </s> </s> </s> </s> </s> </s> </s> </s> </s> </s> </s> </s> </s> </s> </s> </s> </s> </s> </s> </s> </s> </s> </s> </s> </s>\n",
            "夏の日</s> 海辺の観覧車の中はまるで海のようにさむい君はふてくされてる<unk> つむく風は強く僕の髪を<unk> きくらげてその隙間から見つめられこうなったらもうぜんぶ受けとめようありえないと言いながらいつかこうなる日がきますようにと強く願ってる<unk> つむく風は弱く僕の髪を<unk> きくらげてその隙間から見つめられこうなったらもうぜんぶ受けとめようありえないと言いながらいつかこうなる日がきますように</s> </s> </s> </s> </s> </s> </s> </s> </s> </s> </s> </s> </s> </s> </s> </s> </s> </s> </s> </s> </s> </s> </s> </s> </s> </s> </s> </s> </s> </s> </s> </s> </s> </s> </s> </s> </s> </s> </s> </s> </s> </s> </s> </s> </s> </s> </s> </s> </s> </s> </s> </s> </s> </s> </s> </s> </s> </s> </s> </s> </s> </s> </s> </s> </s> </s> </s> </s> </s> </s> </s> </s> </s> </s> </s> </s> </s> </s> </s> </s> </s>\n",
            "夏の日</s> 午後の事だが流れる星を見上げながら 君は考えた 明日になるとしたら どうするのだろうもう一度 恋がしたいと思うのは 自分だけなのか そう思いたいだけだと さみしすぎるから もう一回 恋がしたいんだろういつでも 想い 求めているよ<unk> aby そうさ 悔いなく生きる ことに 意味があるんだろうさあ 見つめて ごらんよ<unk> aby そうさ 悔いなく生きる ことに 意味があるんだろうさあ 見つめてごらんよ<unk> aby そうさ 輝け 未来は いつも ここから近いよ<unk> aby そうさ 悔いなく生きる ことに 意味があるんだろうさあ 見つめてごらんよ<unk> aby そうさ 輝け 未来は いつも ここから近いよ</s> </s> </s> </s> </s> </s> </s> </s> </s> </s> </s> </s> </s> </s>\n",
            "夏の日</s> 僕は君を見つめていたいさよなら何回も恋したよねフラれそうでフラれないそんな日を想像してはヤケになってる君を抱き締めたいもう僕は君に会うことはないだろうそしてまた必ず会えるだろう春が来ても夏の日はずっと続く勘違いしてる季節が来ても僕は君に会うことはないだろうそしてまた必ず会えるだろう</s> </s> </s> </s> </s> </s> </s> </s> </s> </s> </s> </s> </s> </s> </s> </s> </s> </s> </s> </s> </s> </s> </s> </s> </s> </s> </s> </s> </s> </s> </s> </s> </s> </s> </s> </s> </s> </s> </s> </s> </s> </s> </s> </s> </s> </s> </s> </s> </s> </s> </s> </s> </s> </s> </s> </s> </s> </s> </s> </s> </s> </s> </s> </s> </s> </s> </s> </s> </s> </s> </s> </s> </s> </s> </s> </s> </s> </s> </s> </s> </s> </s> </s> </s> </s> </s> </s> </s> </s> </s> </s> </s> </s> </s> </s> </s> </s> </s> </s> </s> </s> </s> </s> </s> </s> </s> </s> </s> </s> </s> </s> </s> </s> </s> </s> </s> </s>\n"
          ],
          "name": "stdout"
        }
      ]
    },
    {
      "cell_type": "code",
      "metadata": {
        "colab": {
          "base_uri": "https://localhost:8080/"
        },
        "id": "6wCJYFjhW_Du",
        "outputId": "857a0dbc-98aa-413a-82b8-25f21e122bad"
      },
      "source": [
        "input = tokenizer.encode(\"明日\", return_tensors=\"pt\")\n",
        "output = model.generate(input, do_sample=True, max_length=200, num_return_sequences=8)\n",
        "for pred in tokenizer.batch_decode(output):\n",
        "  print(pred)"
      ],
      "execution_count": 25,
      "outputs": [
        {
          "output_type": "stream",
          "text": [
            "Setting `pad_token_id` to `eos_token_id`:2 for open-end generation.\n"
          ],
          "name": "stderr"
        },
        {
          "output_type": "stream",
          "text": [
            "明日</s> 午後から天気が崩れるようですね 風も強くなるようです 気をつけてお出かけください<unk> <unk> ああ 今日もうまくいってる 順調な僕のビジネスでもある晩 考えたよ このままどこへ行くのか新しい理想のために上々の現状 捨てたい瞬間がくるだろう いつか<unk> et my way これくらいじゃまだまだget a move on 立ち止まれない<unk> et your way 守りにはいるのは早すぎるlet's breakin' through the wallちらちら スキ見せといて 結局 男をはねかえす誰もが羨望のまなざし そんな女のようさ 夢は無理だからやめときなよって聞き飽きたまわりの声に流されることはもうないよ<unk> et my way これくらいじゃまだまだget a move on 立ち止まれない<unk> et your way 閉ざした君の\n",
            "明日</s> 朝からなんだかドキドキ...友達にも話したらびっくりされるかもね...悪い予感は的中するかもしれないけど...何も起こらないで欲しい...悪い予感は当たり...悪い予感は的中するかもしれないけど...何も起こらないで欲しい...願い...</s> </s> </s> </s> </s> </s> </s> </s> </s> </s> </s> </s> </s> </s> </s> </s> </s> </s> </s> </s> </s> </s> </s> </s> </s> </s> </s> </s> </s> </s> </s> </s> </s> </s> </s> </s> </s> </s> </s> </s> </s> </s> </s> </s> </s> </s> </s> </s> </s> </s> </s> </s> </s> </s> </s> </s> </s> </s> </s> </s> </s> </s> </s> </s> </s> </s> </s> </s> </s> </s> </s> </s> </s> </s> </s> </s> </s> </s> </s> </s> </s> </s> </s> </s> </s> </s> </s> </s> </s> </s> </s> </s> </s> </s> </s> </s> </s> </s> </s> </s> </s> </s> </s> </s> </s> </s> </s> </s> </s> </s> </s> </s> </s> </s> </s> </s> </s> </s> </s> </s> </s> </s> </s> </s> </s> </s> </s> </s> </s> </s> </s> </s> </s>\n",
            "明日</s> 一緒にいよう 今夜は<unk> <unk> <unk> <unk> 起きていよう いつまでも 一緒にいるなんて思わないでもいいいつまでたっても この手は離さない相乗効果でヨクなろう同じベクトル持った僕ら無敵状況変化に戸惑わんぶっとい根っこでギュッとつながってる狂信的な正義が道行く人々を脅しまくるそんな行為は粋じゃないさりげないやりとりだけでいい共鳴で共鳴しましょう無邪気な笑顔だけじゃだめ誰かを傷つけるのならば素直に謝りましょう誰もが愛する者守ろうとしてる頃憎しみや羨望が暴走して法に触れる事態を招いてしまう無礼講な<unk> <unk> <unk> <unk> </s> </s> </s> </s> </s> </s> </s> </s> </s> </s> </s> </s> </s> </s> </s> </s> </s> </s> </s> </s> </s> </s> </s> </s> </s> </s> </s> </s> </s> </s> </s> </s> </s> </s> </s> </s> </s> </s> </s> </s> </s> </s> </s>\n",
            "明日</s> 明後日。 晴れていれば <unk> <unk> <unk>! キミといるときめきたいどんなにヨレヨレ傷だらけでも 心臓破りの恋が実るような<unk> <unk> <unk> <unk>! きっと ステキな出会いが 待ってるさぁ <unk> <unk> <unk>! 覚悟はいいか まじめに 考え 定めて 来月。 晴れていれば <unk> <unk> <unk>! キミといるときめきたいどんなにヨレヨレ傷だらけでも 心臓破りの恋が実るような<unk> <unk> <unk> <unk>! きっと ステキな出会いが 待ってるさぁ <unk> <unk> <unk>!</s> </s> </s> </s> </s> </s> </s> </s> </s> </s> </s> </s> </s> </s> </s> </s> </s> </s> </s> </s> </s> </s> </s> </s> </s> </s> </s> </s> </s> </s> </s> </s> </s> </s> </s> </s> </s> </s> </s> </s> </s> </s> </s> </s> </s>\n",
            "明日</s> やめてもうこれ 以上掻き回さないで君が目の前に出てくりゃ迷うよ <unk> h本当にそれでいいの?好きだけれどもうちょっと待って君が僕に抱いてくれるのを待つ方が幸せかもしれないよ <unk> h本当にそれでいいの?好きだけれどもうちょっと待って僕が君に抱いてくれるのを待つ方が幸せかもしれないよ <unk> h どうしても忘れられない夜にいかがでしょう <unk> hとても素敵な 夜に 風は吹かない 傷も臭いけど君は知らない ずっといっしょにいるから風は吹かない 傷も臭いけど君は知らない ずっといっしょにいるから風は吹かない 傷も臭いけど君は知らない ずっといっしょにいるから</s> </s> </s> </s> </s> </s> </s> </s> </s> </s> </s> </s> </s> </s> </s> </s> </s> </s> </s> </s> </s> </s> </s> </s> </s> </s> </s> </s> </s> </s> </s> </s> </s> </s> </s> </s> </s> </s> </s> </s> </s>\n",
            "明日</s> </s> </s> </s> </s> </s> </s> </s> </s> </s> </s> </s> </s> </s> </s> </s> </s> </s> </s> </s> </s> </s> </s> </s> </s> </s> </s> </s> </s> </s> </s> </s> </s> </s> </s> </s> </s> </s> </s> </s> </s> </s> </s> </s> </s> </s> </s> </s> </s> </s> </s> </s> </s> </s> </s> </s> </s> </s> </s> </s> </s> </s> </s> </s> </s> </s> </s> </s> </s> </s> </s> </s> </s> </s> </s> </s> </s> </s> </s> </s> </s> </s> </s> </s> </s> </s> </s> </s> </s> </s> </s> </s> </s> </s> </s> </s> </s> </s> </s> </s> </s> </s> </s> </s> </s> </s> </s> </s> </s> </s> </s> </s> </s> </s> </s> </s> </s> </s> </s> </s> </s> </s> </s> </s> </s> </s> </s> </s> </s> </s> </s> </s> </s> </s> </s> </s> </s> </s> </s> </s> </s> </s> </s> </s> </s> </s> </s> </s> </s> </s> </s> </s> </s> </s> </s> </s> </s> </s> </s> </s> </s> </s> </s> </s> </s> </s> </s> </s> </s> </s> </s> </s> </s> </s> </s> </s> </s> </s> </s> </s> </s> </s> </s> </s> </s> </s> </s> </s> </s> </s> </s> </s> </s> </s> </s> </s> </s> </s>\n",
            "明日</s> どうなることやら ドキドキワキ ワキサボテン。</s> </s> </s> </s> </s> </s> </s> </s> </s> </s> </s> </s> </s> </s> </s> </s> </s> </s> </s> </s> </s> </s> </s> </s> </s> </s> </s> </s> </s> </s> </s> </s> </s> </s> </s> </s> </s> </s> </s> </s> </s> </s> </s> </s> </s> </s> </s> </s> </s> </s> </s> </s> </s> </s> </s> </s> </s> </s> </s> </s> </s> </s> </s> </s> </s> </s> </s> </s> </s> </s> </s> </s> </s> </s> </s> </s> </s> </s> </s> </s> </s> </s> </s> </s> </s> </s> </s> </s> </s> </s> </s> </s> </s> </s> </s> </s> </s> </s> </s> </s> </s> </s> </s> </s> </s> </s> </s> </s> </s> </s> </s> </s> </s> </s> </s> </s> </s> </s> </s> </s> </s> </s> </s> </s> </s> </s> </s> </s> </s> </s> </s> </s> </s> </s> </s> </s> </s> </s> </s> </s> </s> </s> </s> </s> </s> </s> </s> </s> </s> </s> </s> </s> </s> </s> </s> </s> </s> </s> </s> </s> </s> </s> </s> </s> </s> </s> </s> </s> </s> </s> </s> </s> </s> </s> </s> </s> </s> </s>\n",
            "明日</s> 明後日。 明後日と雪が降りそうだ。 今日も一日 事故らないように気をつけていこうねぇ。 あぁ、明日も一日 事故らないように気をつけていこうねぇ。 あぁ、明日も一日 事故らないように気をつけていこうねぇ。 あぁ、明日も一日 事故らないように気をつけていこう。 あぁ、今日も一日 事故らないように気をつけていこうねぇ。 あぁ、今日も一日 事故らないように気をつけていこうねぇ。あぁ、明日も一日 事故らないように気をつけていこうねぇ... あぁ、</s> </s> </s> </s> </s> </s> </s> </s> </s> </s> </s> </s> </s> </s> </s> </s> </s> </s> </s> </s> </s> </s> </s> </s> </s> </s> </s> </s> </s> </s> </s> </s> </s> </s> </s> </s> </s> </s> </s> </s> </s> </s> </s> </s> </s> </s> </s> </s> </s> </s> </s> </s> </s> </s> </s> </s> </s> </s> </s> </s> </s> </s> </s> </s> </s> </s>\n"
          ],
          "name": "stdout"
        }
      ]
    },
    {
      "cell_type": "code",
      "metadata": {
        "colab": {
          "base_uri": "https://localhost:8080/"
        },
        "id": "rZPdoNYlZcVI",
        "outputId": "18316adc-e552-4295-fb18-45aca33f1b11"
      },
      "source": [
        "input = tokenizer.encode(\"まだ暑い\", return_tensors=\"pt\")\n",
        "output = model.generate(input, do_sample=True, max_length=200, num_return_sequences=8)\n",
        "for pred in tokenizer.batch_decode(output):\n",
        "  print(pred)"
      ],
      "execution_count": 28,
      "outputs": [
        {
          "output_type": "stream",
          "text": [
            "Setting `pad_token_id` to `eos_token_id`:2 for open-end generation.\n"
          ],
          "name": "stderr"
        },
        {
          "output_type": "stream",
          "text": [
            "まだ暑い</s> もうすぐおまえは出てゆくんだよ追いかけてばかりいたら しっぺがえし <unk> o! <unk> ad鏡で自分ばっか眺めてため息ばっかついてた若かりし日の美貌は もうどこにも無いよ今を生きるのさ人知れず 日々進化していかなきゃいけないんだから <unk> ey <unk> ey <unk> t's a wonderful day<unk> ey <unk> ey <unk> t's a beautiful day,<unk> ey <unk> ey <unk> t's a wonderful day悲しいのはなぜ?切ないのはなぜなの?あんなこともこんなことも夢じゃないぜいつまでも終わらないで先々どんな出来事あるか知らないがきっと素晴らしい!</s> </s> </s> </s> </s> </s> </s> </s> </s> </s> </s> </s> </s> </s> </s> </s> </s> </s> </s> </s> </s> </s> </s>\n",
            "まだ暑い</s> </s> </s> </s> </s> </s> </s> </s> </s> </s> </s> </s> </s> </s> </s> </s> </s> </s> </s> </s> </s> </s> </s> </s> </s> </s> </s> </s> </s> </s> </s> </s> </s> </s> </s> </s> </s> </s> </s> </s> </s> </s> </s> </s> </s> </s> </s> </s> </s> </s> </s> </s> </s> </s> </s> </s> </s> </s> </s> </s> </s> </s> </s> </s> </s> </s> </s> </s> </s> </s> </s> </s> </s> </s> </s> </s> </s> </s> </s> </s> </s> </s> </s> </s> </s> </s> </s> </s> </s> </s> </s> </s> </s> </s> </s> </s> </s> </s> </s> </s> </s> </s> </s> </s> </s> </s> </s> </s> </s> </s> </s> </s> </s> </s> </s> </s> </s> </s> </s> </s> </s> </s> </s> </s> </s> </s> </s> </s> </s> </s> </s> </s> </s> </s> </s> </s> </s> </s> </s> </s> </s> </s> </s> </s> </s> </s> </s> </s> </s> </s> </s> </s> </s> </s> </s> </s> </s> </s> </s> </s> </s> </s> </s> </s> </s> </s> </s> </s> </s> </s> </s> </s> </s> </s> </s> </s> </s> </s> </s> </s> </s> </s> </s> </s> </s> </s> </s> </s> </s> </s> </s> </s> </s> </s> </s> </s>\n",
            "まだ暑い</s> もうすぐもう少しで秋が来るなら 忘れない あの胸に何人の仲間が いるだろう 恋心いつまでも 恋バナに花が咲いて いつしか 君も僕も 独りじゃないんだと 思わせてくれ 恋心いつまでも 恋バナに花が咲いて いつしか 君も僕も 忘れない 恋心いつまでも 恋バナに花が咲いて いつしか 君も僕も 忘れない 恋心いつかみんな 忘れるんだよ</s> </s> </s> </s> </s> </s> </s> </s> </s> </s> </s> </s> </s> </s> </s> </s> </s> </s> </s> </s> </s> </s> </s> </s> </s> </s> </s> </s> </s> </s> </s> </s> </s> </s> </s> </s> </s> </s> </s> </s> </s> </s> </s> </s> </s> </s> </s> </s> </s> </s> </s> </s> </s> </s> </s> </s> </s> </s> </s> </s> </s> </s> </s> </s> </s> </s> </s> </s> </s> </s> </s> </s> </s> </s> </s> </s> </s> </s> </s>\n",
            "まだ暑い</s> でも少しずつ秋の気配がして秋の匂いがしてる今日このごろですね おはようからおやすみまでずっとくっついているわけじゃない素っ気ない人間だと思うことあるだろうねだけど手を繋ぎたいのは君の顔だけど言葉で全部しぼるのがとても苦痛なんだよ今夜こそはしっかり抱きしめたいのにうまくいかない恋のせいで今までよりももっと愛しくなるかもしれないそして二人未来の僕らは知らん顔で笑いあっているもっと愛しくなるかもしれない今夜こそはしっかり抱きしめたいのにどうしてうまくいかないのかすべては僕らのせいだとひどく落ち込んで何も手につかないなんて日が経つにつれ何も手につかない気持ちはだんだん強くなってゆく何も手につかないのは嫌だ誰かを愛するなんてこんな気持ちは初めてだどうすればいい?</s> </s> </s> </s> </s> </s> </s> </s> </s> </s> </s> </s> </s> </s> </s> </s> </s> </s> </s> </s> </s> </s>\n",
            "まだ暑い</s> pic.twitter.com/eynxmnfvyh 明日も暑いらしいから水分しっかりとって熱中症には気をつけようねもうすぐで新しい一年が始まるああ今時はどんなのが流行るの?ってそんなの知ったこっちゃない。流行りすたりを相手に奪いあってるうちにああ今どきの流行りすたりは何だかんだでいいころんだって転がりくねってくねって歩いてたら街に溶け込んでしまえるもうすぐで新しい一年が始まるああ今時はどんなのが流行るの?ってそんなの知ったこっちゃない。流行りすたりを相手に奪いあってるうちにああ今どきの流行りすたりは何だかんだでいいころんだって転がりくねってくねって歩いてたら街に溶け込んでしまえるもうすぐで新しい一年が始まる<unk> <unk>... ああ\n",
            "まだ暑い</s> もうすぐ秋の気配がするよ<unk> <unk> C<unk> がんじがらめよなんでそうなるの<unk> <unk> <unk> <unk>?今は自分をタナに上げて<unk> <unk> <unk> <unk>!</s> </s> </s> </s> </s> </s> </s> </s> </s> </s> </s> </s> </s> </s> </s> </s> </s> </s> </s> </s> </s> </s> </s> </s> </s> </s> </s> </s> </s> </s> </s> </s> </s> </s> </s> </s> </s> </s> </s> </s> </s> </s> </s> </s> </s> </s> </s> </s> </s> </s> </s> </s> </s> </s> </s> </s> </s> </s> </s> </s> </s> </s> </s> </s> </s> </s> </s> </s> </s> </s> </s> </s> </s> </s> </s> </s> </s> </s> </s> </s> </s> </s> </s> </s> </s> </s> </s> </s> </s> </s> </s> </s> </s> </s> </s> </s> </s> </s> </s> </s> </s> </s> </s> </s> </s> </s> </s> </s> </s> </s> </s> </s> </s> </s> </s> </s> </s> </s> </s> </s> </s> </s> </s> </s> </s> </s> </s> </s> </s> </s> </s> </s> </s> </s> </s> </s> </s> </s> </s> </s> </s> </s> </s> </s> </s> </s>\n",
            "まだ暑い</s> 風はひんやり優しく僕を撫でるだけの瞳はもう秋の気配少しだけ残っているよ<unk> y <unk> abeおぼれてく(ダイスキナンダ)どっぷり快感の海になんか恐い(ドウスリャイイノ)学べや恋の夏期講習はじける勢いで君をなくす(ドウスリャイイノ)恋の夏期講習はじける勢いで君をなくす(ドウスリャイイノ)何気に君の表情見てしまう(ドウスリャイイノ)もうすぐもう少しで逢えるかもなんか恐い(ドウスリャイイノ)学べや恋の夏期講習はじける勢いで君をなくす(ドウスリャイイノ)</s> </s> </s> </s> </s> </s> </s> </s> </s> </s> </s> </s> </s> </s> </s> </s> </s> </s> </s> </s> </s> </s> </s> </s> </s> </s> </s> </s>\n",
            "まだ暑い</s> まだ終わらない 夏の<unk> 怖い話 『あの人の家』ことあるごとに噂されるあの人の家...真相を知るためにどうしても聞きたいことがある...あの人は誰かに恨まれていなくても恨まれているらしいあの人は実は恐い人とどこかで見ていたらしい<unk> <unk> <unk> <unk> わかってる まだ終わらない 夏の<unk> 怖い話 『あの人の家』ことあるたびに噂されるあの人の家...真相を知るためにどうしても聞きたいことがある...あの人は誰かに恨まれていなくても恨まれているらしい<unk> <unk> <unk> <unk> </s> </s> </s> </s> </s> </s> </s> </s> </s> </s> </s> </s> </s> </s> </s> </s> </s> </s> </s> </s> </s> </s> </s> </s> </s> </s> </s> </s> </s> </s> </s> </s> </s> </s> </s> </s> </s> </s> </s> </s> </s> </s> </s> </s> </s> </s> </s> </s> </s> </s> </s> </s> </s> </s> </s> </s> </s> </s> </s> </s> </s> </s> </s> </s> </s> </s> </s> </s> </s> </s> </s> </s> </s> </s> </s> </s> </s> </s> </s>\n"
          ],
          "name": "stdout"
        }
      ]
    },
    {
      "cell_type": "code",
      "metadata": {
        "id": "T-c7FCXja9U9"
      },
      "source": [
        ""
      ],
      "execution_count": null,
      "outputs": []
    }
  ]
}